{
  "nbformat": 4,
  "nbformat_minor": 0,
  "metadata": {
    "colab": {
      "provenance": [],
      "authorship_tag": "ABX9TyNtmERYDscSbzc+oYTIcoVN",
      "include_colab_link": true
    },
    "kernelspec": {
      "name": "python3",
      "display_name": "Python 3"
    },
    "language_info": {
      "name": "python"
    }
  },
  "cells": [
    {
      "cell_type": "markdown",
      "metadata": {
        "id": "view-in-github",
        "colab_type": "text"
      },
      "source": [
        "<a href=\"https://colab.research.google.com/github/360abhi/FirebaseAngularApp/blob/main/dParser.ipynb\" target=\"_parent\"><img src=\"https://colab.research.google.com/assets/colab-badge.svg\" alt=\"Open In Colab\"/></a>"
      ]
    },
    {
      "cell_type": "code",
      "execution_count": null,
      "metadata": {
        "colab": {
          "base_uri": "https://localhost:8080/"
        },
        "collapsed": true,
        "id": "FSt_7uLiXLdc",
        "outputId": "b66f516d-d802-4495-84d2-cc4364f05216"
      },
      "outputs": [
        {
          "output_type": "stream",
          "name": "stdout",
          "text": [
            "\u001b[38;5;2m✔ Download and installation successful\u001b[0m\n",
            "You can now load the package via spacy.load('en_core_web_sm')\n",
            "\u001b[38;5;3m⚠ Restart to reload dependencies\u001b[0m\n",
            "If you are in a Jupyter or Colab notebook, you may need to restart Python in\n",
            "order to load all the package's dependencies. You can do this by selecting the\n",
            "'Restart kernel' or 'Restart runtime' option.\n"
          ]
        }
      ],
      "source": [
        "import spacy\n",
        "\n",
        "spacy.cli.download(\"en_core_web_sm\")\n",
        "\n",
        "nlp = spacy.load(\"en_core_web_sm\")\n",
        "\n",
        "\n",
        "def extract_action_verbs(sentence):\n",
        "\n",
        "    doc = nlp(sentence)\n",
        "\n",
        "    action_verbs = []\n",
        "\n",
        "    field =[]\n",
        "\n",
        "    data =[]\n",
        "\n",
        "    rootToken = next(token for token in doc if token.dep_ == \"ROOT\")\n",
        "\n",
        "    for index,token in enumerate(doc):\n",
        "\n",
        "            if token.dep_ == \"ROOT\":\n",
        "\n",
        "                # Check if ROOT and does not have xcomp children\n",
        "\n",
        "                if not any(child.dep_ in [\"ccomp\",\"xcomp\",\"pcomp\"] for child in token.children):\n",
        "\n",
        "                  if token.pos_ == \"VERB\":\n",
        "\n",
        "                    action_verbs.append(token.text)\n",
        "\n",
        "                # If ROOT and has xcomp children, skip ROOT but consider xcomp\n",
        "\n",
        "                else:\n",
        "\n",
        "                    for child in token.children:\n",
        "\n",
        "\n",
        "                        if child.dep_ in [\"ccomp\",\"pcomp\",\"xcomp\"] and child.pos_ == \"VERB\":\n",
        "\n",
        "                            action_verbs.append(child.text)\n",
        "\n",
        "\n",
        "            elif token.dep_ in [\"xcomp\",\"ccomp\",\"pcomp\"]:\n",
        "\n",
        "              # print(\"Insidexcomp\", token.text)\n",
        "\n",
        "              try:\n",
        "\n",
        "                if token.head.text != rootToken.text:\n",
        "\n",
        "                  if token.pos_ == \"VERB\":\n",
        "\n",
        "                    action_verbs.append(token.text)\n",
        "\n",
        "                    # for child in token.children:\n",
        "\n",
        "                    #   if child.dep_ == \"dobj\":\n",
        "                    #       field = child.text\n",
        "\n",
        "              except:\n",
        "\n",
        "                pass\n",
        "\n",
        "            elif token.dep_ == \"conj\":\n",
        "\n",
        "                # Check if conj has xcomp children and the child is a verb\n",
        "\n",
        "                if any(child.dep_ in [\"xcomp\",\"pcomp\",\"ccomp\"] and child.pos_ == \"VERB\" for child in token.children):\n",
        "\n",
        "                    for child in token.children:\n",
        "\n",
        "                        if child.dep_ in [\"xcomp\",\"pcomp\",\"ccomp\"] and child.pos_ == \"VERB\":\n",
        "\n",
        "                            action_verbs.append(child.text)\n",
        "\n",
        "                            # for child in token.children:\n",
        "\n",
        "                            #   if child.dep_ == \"dobj\":\n",
        "                            #       field = child.text\n",
        "\n",
        "                # If conj itself is a verb and has no xcomp children, append conj\n",
        "\n",
        "                elif token.pos_ == \"VERB\":\n",
        "\n",
        "                    action_verbs.append(token.text)\n",
        "                    # for child in token.children:\n",
        "\n",
        "                    #   if child.dep_ == \"dobj\":\n",
        "                    #       field = child.text\n",
        "\n",
        "            if token.dep_ in [\"dobj\",\"pobj\"]:\n",
        "\n",
        "              field.append(token.text)\n",
        "              prev = doc[index-1]\n",
        "\n",
        "              if prev.pos_ in [\"NOUN\",\"ADJ\",\"PROPN\"]:\n",
        "                field.append(prev.text)\n",
        "\n",
        "              prev2 = doc[index-2]\n",
        "\n",
        "              if prev2.pos_ in [\"NOUN\",\"ADJ\",\"PROPN\"]:\n",
        "                field.append(prev2.text)\n",
        "\n",
        "    return action_verbs,field\n",
        "\n",
        "\n",
        "\n",
        "sentences = [\n",
        "\n",
        "    \"The operational maker should be able to log in to ARX as Operational Maker and see all products as per entitlement.\",\n",
        "\n",
        "    \"The user should be able to click on CIM.\",\n",
        "\n",
        "    \"The user should be able to click on the create package button.\",\n",
        "\n",
        "    \"The system should allow the user to enter all details, and after clicking the next button, it should navigate to the 'Products' tab.\",\n",
        "\n",
        "    \"The bank user should be able to select all the products.\",\n",
        "\n",
        "    \"The bank user should be able to select all the charge fields.\",\n",
        "\n",
        "    \"The bank user should be able to select all the billing details.\",\n",
        "\n",
        "    \"The bank user should be able to select the template and report for collections + J54.\",\n",
        "\n",
        "    \"The bank user should be able to select the template and report for payments.\",\n",
        "\n",
        "    \"The bank user should be able to select the template for the common report.\",\n",
        "\n",
        "    \"The checker should be able to log in to CIM.\",\n",
        "\n",
        "    \"After clicking save, he submitted the Form\",\n",
        "    \"User should select the charges as done\"\n",
        "\n",
        "]\n",
        "\n",
        "\n",
        "\n",
        "\n",
        "# Extract action verbs for each sentence\n",
        "\n",
        "# for sentence in sentences:\n",
        "\n",
        "#     print(f\"Sentence: {sentence}\")\n",
        "\n",
        "#     action_verbs,fields = extract_action_verbs(sentence)\n",
        "\n",
        "#     print(f\"Action Verbs: {action_verbs}\")\n",
        "#     print(f\"Fields: {fields}\")\n"
      ]
    },
    {
      "cell_type": "code",
      "source": [
        "from IPython.display import HTML\n",
        "import re\n",
        "\n",
        "def print_colored_sentence(sentence, words, fields):\n",
        "    words_set = set(words)\n",
        "    fields_set = set(fields)\n",
        "    color =\"red\"\n",
        "    color_field = \"blue\"\n",
        "    colored_sentence = \"\"\n",
        "\n",
        "    for word in sentence.split():\n",
        "        word = re.sub(r'[^\\w\\s]', '', word)\n",
        "        if word in words_set:\n",
        "             colored_sentence += (\n",
        "                f'<span style=\"color: {\"black\"}; background-color: {\"yellow\"}; font-weight: bold;\">{word}</span> '\n",
        "            )\n",
        "        elif word in fields_set:\n",
        "          colored_sentence += (\n",
        "                f'<span style=\"color: {\"black\"}; background-color: {\"white\"}; font-weight: bold;\">{word}</span> '\n",
        "            )\n",
        "        else:\n",
        "            colored_sentence += word + \" \"\n",
        "\n",
        "    display(HTML(colored_sentence.strip()))\n",
        "\n",
        "\n",
        "for sentence in sentences:\n",
        "\n",
        "    action_verbs,fields = extract_action_verbs(sentence)\n",
        "    print_colored_sentence(sentence, action_verbs,fields)\n",
        "\n"
      ],
      "metadata": {
        "colab": {
          "base_uri": "https://localhost:8080/",
          "height": 243
        },
        "id": "r2ha77L7YPqR",
        "outputId": "478b829a-4bc6-4040-e751-59c7f1e39800"
      },
      "execution_count": null,
      "outputs": [
        {
          "output_type": "display_data",
          "data": {
            "text/plain": [
              "<IPython.core.display.HTML object>"
            ],
            "text/html": [
              "The operational maker should be able to <span style=\"color: black; background-color: yellow; font-weight: bold;\">log</span> in to <span style=\"color: black; background-color: white; font-weight: bold;\">ARX</span> as <span style=\"color: black; background-color: white; font-weight: bold;\">Operational</span> <span style=\"color: black; background-color: white; font-weight: bold;\">Maker</span> and <span style=\"color: black; background-color: yellow; font-weight: bold;\">see</span> all <span style=\"color: black; background-color: white; font-weight: bold;\">products</span> as per <span style=\"color: black; background-color: white; font-weight: bold;\">entitlement</span>"
            ]
          },
          "metadata": {}
        },
        {
          "output_type": "display_data",
          "data": {
            "text/plain": [
              "<IPython.core.display.HTML object>"
            ],
            "text/html": [
              "The user should be able to <span style=\"color: black; background-color: yellow; font-weight: bold;\">click</span> on <span style=\"color: black; background-color: white; font-weight: bold;\">CIM</span>"
            ]
          },
          "metadata": {}
        },
        {
          "output_type": "display_data",
          "data": {
            "text/plain": [
              "<IPython.core.display.HTML object>"
            ],
            "text/html": [
              "The user should be able to <span style=\"color: black; background-color: yellow; font-weight: bold;\">click</span> on the <span style=\"color: black; background-color: white; font-weight: bold;\">create</span> <span style=\"color: black; background-color: white; font-weight: bold;\">package</span> <span style=\"color: black; background-color: white; font-weight: bold;\">button</span>"
            ]
          },
          "metadata": {}
        },
        {
          "output_type": "display_data",
          "data": {
            "text/plain": [
              "<IPython.core.display.HTML object>"
            ],
            "text/html": [
              "The system should allow the user to <span style=\"color: black; background-color: yellow; font-weight: bold;\">enter</span> all <span style=\"color: black; background-color: white; font-weight: bold;\">details</span> and after <span style=\"color: black; background-color: yellow; font-weight: bold;\">clicking</span> the <span style=\"color: black; background-color: white; font-weight: bold;\">next</span> <span style=\"color: black; background-color: white; font-weight: bold;\">button</span> it should <span style=\"color: black; background-color: yellow; font-weight: bold;\">navigate</span> to the <span style=\"color: black; background-color: white; font-weight: bold;\">Products</span> <span style=\"color: black; background-color: white; font-weight: bold;\">tab</span>"
            ]
          },
          "metadata": {}
        },
        {
          "output_type": "display_data",
          "data": {
            "text/plain": [
              "<IPython.core.display.HTML object>"
            ],
            "text/html": [
              "The bank user should be able to <span style=\"color: black; background-color: yellow; font-weight: bold;\">select</span> all the <span style=\"color: black; background-color: white; font-weight: bold;\">products</span>"
            ]
          },
          "metadata": {}
        },
        {
          "output_type": "display_data",
          "data": {
            "text/plain": [
              "<IPython.core.display.HTML object>"
            ],
            "text/html": [
              "The bank user should be able to <span style=\"color: black; background-color: yellow; font-weight: bold;\">select</span> all the <span style=\"color: black; background-color: white; font-weight: bold;\">charge</span> <span style=\"color: black; background-color: white; font-weight: bold;\">fields</span>"
            ]
          },
          "metadata": {}
        },
        {
          "output_type": "display_data",
          "data": {
            "text/plain": [
              "<IPython.core.display.HTML object>"
            ],
            "text/html": [
              "The bank user should be able to <span style=\"color: black; background-color: yellow; font-weight: bold;\">select</span> all the <span style=\"color: black; background-color: white; font-weight: bold;\">billing</span> <span style=\"color: black; background-color: white; font-weight: bold;\">details</span>"
            ]
          },
          "metadata": {}
        },
        {
          "output_type": "display_data",
          "data": {
            "text/plain": [
              "<IPython.core.display.HTML object>"
            ],
            "text/html": [
              "The bank user should be able to <span style=\"color: black; background-color: yellow; font-weight: bold;\">select</span> the <span style=\"color: black; background-color: white; font-weight: bold;\">template</span> and <span style=\"color: black; background-color: white; font-weight: bold;\">report</span> for <span style=\"color: black; background-color: white; font-weight: bold;\">collections</span>  J54"
            ]
          },
          "metadata": {}
        },
        {
          "output_type": "display_data",
          "data": {
            "text/plain": [
              "<IPython.core.display.HTML object>"
            ],
            "text/html": [
              "The bank user should be able to <span style=\"color: black; background-color: yellow; font-weight: bold;\">select</span> the <span style=\"color: black; background-color: white; font-weight: bold;\">template</span> and <span style=\"color: black; background-color: white; font-weight: bold;\">report</span> for <span style=\"color: black; background-color: white; font-weight: bold;\">payments</span>"
            ]
          },
          "metadata": {}
        },
        {
          "output_type": "display_data",
          "data": {
            "text/plain": [
              "<IPython.core.display.HTML object>"
            ],
            "text/html": [
              "The bank user should be able to <span style=\"color: black; background-color: yellow; font-weight: bold;\">select</span> the <span style=\"color: black; background-color: white; font-weight: bold;\">template</span> for the <span style=\"color: black; background-color: white; font-weight: bold;\">common</span> <span style=\"color: black; background-color: white; font-weight: bold;\">report</span>"
            ]
          },
          "metadata": {}
        },
        {
          "output_type": "display_data",
          "data": {
            "text/plain": [
              "<IPython.core.display.HTML object>"
            ],
            "text/html": [
              "The checker should be able to <span style=\"color: black; background-color: yellow; font-weight: bold;\">log</span> in to <span style=\"color: black; background-color: white; font-weight: bold;\">CIM</span>"
            ]
          },
          "metadata": {}
        },
        {
          "output_type": "display_data",
          "data": {
            "text/plain": [
              "<IPython.core.display.HTML object>"
            ],
            "text/html": [
              "After <span style=\"color: black; background-color: yellow; font-weight: bold;\">clicking</span> <span style=\"color: black; background-color: white; font-weight: bold;\">save</span> he <span style=\"color: black; background-color: yellow; font-weight: bold;\">submitted</span> the <span style=\"color: black; background-color: white; font-weight: bold;\">Form</span>"
            ]
          },
          "metadata": {}
        },
        {
          "output_type": "display_data",
          "data": {
            "text/plain": [
              "<IPython.core.display.HTML object>"
            ],
            "text/html": [
              "User should <span style=\"color: black; background-color: yellow; font-weight: bold;\">select</span> the <span style=\"color: black; background-color: white; font-weight: bold;\">charges</span> as done"
            ]
          },
          "metadata": {}
        }
      ]
    },
    {
      "cell_type": "code",
      "source": [
        "import pandas as pd\n",
        "import re\n",
        "\n",
        "file_path = 'CIM_TestCases.xlsx'\n",
        "df = pd.read_excel(file_path,\"Onboarding Package\")\n",
        "\n",
        "step_summary_column = df['Step Summary']\n",
        "\n",
        "def split_sentences(text):\n",
        "    sentences = re.split(r'(?<!\\w\\.\\w.)(?<![A-Z][a-z]\\.)(?<=\\.|\\?)\\s', text)\n",
        "    return sentences\n",
        "\n",
        "def contains_number(sentence):\n",
        "    return bool(re.search(r'\\d', sentence))\n",
        "\n",
        "def is_text_sentence(sentence):\n",
        "    return not contains_number(sentence) and sentence.strip()\n",
        "\n",
        "all_sentences = []\n",
        "\n",
        "for text in step_summary_column:\n",
        "    if pd.notna(text):\n",
        "        sentences = split_sentences(text)\n",
        "        filtered_sentences = [s for s in sentences if is_text_sentence(s)]\n",
        "        all_sentences.append(filtered_sentences)\n",
        "\n",
        "for idx, sentences in enumerate(all_sentences[150:200]):\n",
        "    print(f\"Row {idx + 1}:\")\n",
        "    for sentence in sentences:\n",
        "      action_verbs,fields = extract_action_verbs(sentence)\n",
        "      print_colored_sentence(sentence, action_verbs,fields)\n",
        "      print()\n"
      ],
      "metadata": {
        "colab": {
          "base_uri": "https://localhost:8080/",
          "height": 1000
        },
        "id": "qWGfsSjnkDEf",
        "outputId": "77638e94-44c5-4a97-8d8f-a5cb80961beb"
      },
      "execution_count": null,
      "outputs": [
        {
          "output_type": "stream",
          "name": "stdout",
          "text": [
            "Row 1:\n"
          ]
        },
        {
          "output_type": "display_data",
          "data": {
            "text/plain": [
              "<IPython.core.display.HTML object>"
            ],
            "text/html": [
              "<span style=\"color: black; background-color: yellow; font-weight: bold;\">Login</span> into <span style=\"color: black; background-color: white; font-weight: bold;\">ARX</span> with <span style=\"color: black; background-color: white; font-weight: bold;\">Operational</span> <span style=\"color: black; background-color: white; font-weight: bold;\">maker</span> <span style=\"color: black; background-color: white; font-weight: bold;\">credential</span>"
            ]
          },
          "metadata": {}
        },
        {
          "output_type": "stream",
          "name": "stdout",
          "text": [
            "\n"
          ]
        },
        {
          "output_type": "display_data",
          "data": {
            "text/plain": [
              "<IPython.core.display.HTML object>"
            ],
            "text/html": [
              "<span style=\"color: black; background-color: yellow; font-weight: bold;\">Click</span> On <span style=\"color: black; background-color: white; font-weight: bold;\">CIM</span>"
            ]
          },
          "metadata": {}
        },
        {
          "output_type": "stream",
          "name": "stdout",
          "text": [
            "\n"
          ]
        },
        {
          "output_type": "display_data",
          "data": {
            "text/plain": [
              "<IPython.core.display.HTML object>"
            ],
            "text/html": [
              "In <span style=\"color: black; background-color: white; font-weight: bold;\">package</span> <span style=\"color: black; background-color: white; font-weight: bold;\">tab</span> <span style=\"color: black; background-color: yellow; font-weight: bold;\">click</span> on <span style=\"color: black; background-color: yellow; font-weight: bold;\">continue</span> <span style=\"color: black; background-color: yellow; font-weight: bold;\">editing</span> <span style=\"color: black; background-color: yellow; font-weight: bold;\">opting</span> for the <span style=\"color: black; background-color: white; font-weight: bold;\">package</span> which is draft"
            ]
          },
          "metadata": {}
        },
        {
          "output_type": "stream",
          "name": "stdout",
          "text": [
            "\n"
          ]
        },
        {
          "output_type": "display_data",
          "data": {
            "text/plain": [
              "<IPython.core.display.HTML object>"
            ],
            "text/html": [
              "In <span style=\"color: black; background-color: white; font-weight: bold;\">details</span> <span style=\"color: black; background-color: yellow; font-weight: bold;\">enter</span> all <span style=\"color: black; background-color: white; font-weight: bold;\">mandatory</span> <span style=\"color: black; background-color: white; font-weight: bold;\">details</span> and select customization as allowed digital channel as allowed <span style=\"color: black; background-color: white; font-weight: bold;\">payment</span> <span style=\"color: black; background-color: white; font-weight: bold;\">limits</span> as <span style=\"color: black; background-color: white; font-weight: bold;\">valid</span> <span style=\"color: black; background-color: white; font-weight: bold;\">limit</span> and <span style=\"color: black; background-color: yellow; font-weight: bold;\">click</span> on <span style=\"color: black; background-color: white; font-weight: bold;\">next</span> <span style=\"color: black; background-color: white; font-weight: bold;\">button</span>"
            ]
          },
          "metadata": {}
        },
        {
          "output_type": "stream",
          "name": "stdout",
          "text": [
            "\n"
          ]
        },
        {
          "output_type": "display_data",
          "data": {
            "text/plain": [
              "<IPython.core.display.HTML object>"
            ],
            "text/html": [
              "In <span style=\"color: black; background-color: white; font-weight: bold;\">charges</span> page select billing cycle recurrence primary <span style=\"color: black; background-color: white; font-weight: bold;\">package</span> <span style=\"color: black; background-color: white; font-weight: bold;\">secondary</span> <span style=\"color: black; background-color: white; font-weight: bold;\">package</span> and select start <span style=\"color: black; background-color: white; font-weight: bold;\">date</span> for <span style=\"color: black; background-color: white; font-weight: bold;\">secondary</span> <span style=\"color: black; background-color: white; font-weight: bold;\">package</span> which is greater than <span style=\"color: black; background-color: white; font-weight: bold;\">end</span> <span style=\"color: black; background-color: white; font-weight: bold;\">date</span> of the <span style=\"color: black; background-color: white; font-weight: bold;\">package</span>"
            ]
          },
          "metadata": {}
        },
        {
          "output_type": "stream",
          "name": "stdout",
          "text": [
            "\n",
            "Row 2:\n"
          ]
        },
        {
          "output_type": "display_data",
          "data": {
            "text/plain": [
              "<IPython.core.display.HTML object>"
            ],
            "text/html": [
              "<span style=\"color: black; background-color: yellow; font-weight: bold;\">Login</span> into <span style=\"color: black; background-color: white; font-weight: bold;\">ARX</span> with <span style=\"color: black; background-color: white; font-weight: bold;\">Operational</span> <span style=\"color: black; background-color: white; font-weight: bold;\">maker</span> <span style=\"color: black; background-color: white; font-weight: bold;\">credential</span>"
            ]
          },
          "metadata": {}
        },
        {
          "output_type": "stream",
          "name": "stdout",
          "text": [
            "\n"
          ]
        },
        {
          "output_type": "display_data",
          "data": {
            "text/plain": [
              "<IPython.core.display.HTML object>"
            ],
            "text/html": [
              "<span style=\"color: black; background-color: yellow; font-weight: bold;\">Click</span> On <span style=\"color: black; background-color: white; font-weight: bold;\">CIM</span>"
            ]
          },
          "metadata": {}
        },
        {
          "output_type": "stream",
          "name": "stdout",
          "text": [
            "\n"
          ]
        },
        {
          "output_type": "display_data",
          "data": {
            "text/plain": [
              "<IPython.core.display.HTML object>"
            ],
            "text/html": [
              "In <span style=\"color: black; background-color: white; font-weight: bold;\">package</span> <span style=\"color: black; background-color: white; font-weight: bold;\">tab</span> <span style=\"color: black; background-color: yellow; font-weight: bold;\">click</span> on <span style=\"color: black; background-color: white; font-weight: bold;\">create</span> <span style=\"color: black; background-color: white; font-weight: bold;\">package</span>"
            ]
          },
          "metadata": {}
        },
        {
          "output_type": "stream",
          "name": "stdout",
          "text": [
            "\n"
          ]
        },
        {
          "output_type": "display_data",
          "data": {
            "text/plain": [
              "<IPython.core.display.HTML object>"
            ],
            "text/html": [
              "In <span style=\"color: black; background-color: white; font-weight: bold;\">details</span> <span style=\"color: black; background-color: yellow; font-weight: bold;\">enter</span> all <span style=\"color: black; background-color: white; font-weight: bold;\">mandatory</span> <span style=\"color: black; background-color: white; font-weight: bold;\">details</span> and select customization as allowed digital channel as allowed <span style=\"color: black; background-color: white; font-weight: bold;\">payment</span> <span style=\"color: black; background-color: white; font-weight: bold;\">limits</span> as <span style=\"color: black; background-color: white; font-weight: bold;\">valid</span> <span style=\"color: black; background-color: white; font-weight: bold;\">limit</span> and <span style=\"color: black; background-color: yellow; font-weight: bold;\">click</span> on <span style=\"color: black; background-color: white; font-weight: bold;\">next</span> <span style=\"color: black; background-color: white; font-weight: bold;\">button</span>"
            ]
          },
          "metadata": {}
        },
        {
          "output_type": "stream",
          "name": "stdout",
          "text": [
            "\n"
          ]
        },
        {
          "output_type": "display_data",
          "data": {
            "text/plain": [
              "<IPython.core.display.HTML object>"
            ],
            "text/html": [
              "In <span style=\"color: black; background-color: white; font-weight: bold;\">charges</span> page select billing cycle recurrence primary <span style=\"color: black; background-color: white; font-weight: bold;\">package</span> secondary <span style=\"color: black; background-color: white; font-weight: bold;\">package</span> <span style=\"color: black; background-color: white; font-weight: bold;\">promotional</span> <span style=\"color: black; background-color: white; font-weight: bold;\">charges</span> and select start <span style=\"color: black; background-color: white; font-weight: bold;\">date</span> for <span style=\"color: black; background-color: white; font-weight: bold;\">promotional</span> <span style=\"color: black; background-color: white; font-weight: bold;\">package</span> which is greater than <span style=\"color: black; background-color: white; font-weight: bold;\">end</span> <span style=\"color: black; background-color: white; font-weight: bold;\">date</span> of the <span style=\"color: black; background-color: white; font-weight: bold;\">package</span>"
            ]
          },
          "metadata": {}
        },
        {
          "output_type": "stream",
          "name": "stdout",
          "text": [
            "\n",
            "Row 3:\n"
          ]
        },
        {
          "output_type": "display_data",
          "data": {
            "text/plain": [
              "<IPython.core.display.HTML object>"
            ],
            "text/html": [
              "<span style=\"color: black; background-color: yellow; font-weight: bold;\">Login</span> into <span style=\"color: black; background-color: white; font-weight: bold;\">ARX</span> with <span style=\"color: black; background-color: white; font-weight: bold;\">Operational</span> <span style=\"color: black; background-color: white; font-weight: bold;\">maker</span> <span style=\"color: black; background-color: white; font-weight: bold;\">credential</span>"
            ]
          },
          "metadata": {}
        },
        {
          "output_type": "stream",
          "name": "stdout",
          "text": [
            "\n"
          ]
        },
        {
          "output_type": "display_data",
          "data": {
            "text/plain": [
              "<IPython.core.display.HTML object>"
            ],
            "text/html": [
              "<span style=\"color: black; background-color: yellow; font-weight: bold;\">Click</span> On <span style=\"color: black; background-color: white; font-weight: bold;\">CIM</span>"
            ]
          },
          "metadata": {}
        },
        {
          "output_type": "stream",
          "name": "stdout",
          "text": [
            "\n"
          ]
        },
        {
          "output_type": "display_data",
          "data": {
            "text/plain": [
              "<IPython.core.display.HTML object>"
            ],
            "text/html": [
              "In <span style=\"color: black; background-color: white; font-weight: bold;\">package</span> <span style=\"color: black; background-color: white; font-weight: bold;\">tab</span> <span style=\"color: black; background-color: yellow; font-weight: bold;\">click</span> on <span style=\"color: black; background-color: yellow; font-weight: bold;\">continue</span> <span style=\"color: black; background-color: yellow; font-weight: bold;\">editing</span> <span style=\"color: black; background-color: yellow; font-weight: bold;\">opting</span> for the <span style=\"color: black; background-color: white; font-weight: bold;\">package</span> which is draft"
            ]
          },
          "metadata": {}
        },
        {
          "output_type": "stream",
          "name": "stdout",
          "text": [
            "\n"
          ]
        },
        {
          "output_type": "display_data",
          "data": {
            "text/plain": [
              "<IPython.core.display.HTML object>"
            ],
            "text/html": [
              "In <span style=\"color: black; background-color: white; font-weight: bold;\">details</span> <span style=\"color: black; background-color: yellow; font-weight: bold;\">enter</span> all <span style=\"color: black; background-color: white; font-weight: bold;\">mandatory</span> <span style=\"color: black; background-color: white; font-weight: bold;\">details</span> and select customization as allowed digital channel as allowed <span style=\"color: black; background-color: white; font-weight: bold;\">payment</span> <span style=\"color: black; background-color: white; font-weight: bold;\">limits</span> as <span style=\"color: black; background-color: white; font-weight: bold;\">valid</span> <span style=\"color: black; background-color: white; font-weight: bold;\">limit</span> and <span style=\"color: black; background-color: yellow; font-weight: bold;\">click</span> on <span style=\"color: black; background-color: white; font-weight: bold;\">next</span> <span style=\"color: black; background-color: white; font-weight: bold;\">button</span>"
            ]
          },
          "metadata": {}
        },
        {
          "output_type": "stream",
          "name": "stdout",
          "text": [
            "\n"
          ]
        },
        {
          "output_type": "display_data",
          "data": {
            "text/plain": [
              "<IPython.core.display.HTML object>"
            ],
            "text/html": [
              "In <span style=\"color: black; background-color: white; font-weight: bold;\">charges</span> page select billing cycle recurrence primary <span style=\"color: black; background-color: white; font-weight: bold;\">package</span> secondary <span style=\"color: black; background-color: white; font-weight: bold;\">package</span> <span style=\"color: black; background-color: white; font-weight: bold;\">promotional</span> <span style=\"color: black; background-color: white; font-weight: bold;\">charges</span> and select start <span style=\"color: black; background-color: white; font-weight: bold;\">date</span> for <span style=\"color: black; background-color: white; font-weight: bold;\">promotional</span> <span style=\"color: black; background-color: white; font-weight: bold;\">package</span> which is greater than <span style=\"color: black; background-color: white; font-weight: bold;\">end</span> <span style=\"color: black; background-color: white; font-weight: bold;\">date</span> of the <span style=\"color: black; background-color: white; font-weight: bold;\">package</span>"
            ]
          },
          "metadata": {}
        },
        {
          "output_type": "stream",
          "name": "stdout",
          "text": [
            "\n",
            "Row 4:\n"
          ]
        },
        {
          "output_type": "display_data",
          "data": {
            "text/plain": [
              "<IPython.core.display.HTML object>"
            ],
            "text/html": [
              "<span style=\"color: black; background-color: yellow; font-weight: bold;\">Login</span> into <span style=\"color: black; background-color: white; font-weight: bold;\">ARX</span> with <span style=\"color: black; background-color: white; font-weight: bold;\">Operational</span> <span style=\"color: black; background-color: white; font-weight: bold;\">maker</span> <span style=\"color: black; background-color: white; font-weight: bold;\">credential</span>"
            ]
          },
          "metadata": {}
        },
        {
          "output_type": "stream",
          "name": "stdout",
          "text": [
            "\n"
          ]
        },
        {
          "output_type": "display_data",
          "data": {
            "text/plain": [
              "<IPython.core.display.HTML object>"
            ],
            "text/html": [
              "<span style=\"color: black; background-color: yellow; font-weight: bold;\">Click</span> On <span style=\"color: black; background-color: white; font-weight: bold;\">CIM</span>"
            ]
          },
          "metadata": {}
        },
        {
          "output_type": "stream",
          "name": "stdout",
          "text": [
            "\n"
          ]
        },
        {
          "output_type": "display_data",
          "data": {
            "text/plain": [
              "<IPython.core.display.HTML object>"
            ],
            "text/html": [
              "In <span style=\"color: black; background-color: white; font-weight: bold;\">package</span> <span style=\"color: black; background-color: white; font-weight: bold;\">tab</span> <span style=\"color: black; background-color: yellow; font-weight: bold;\">click</span> on <span style=\"color: black; background-color: white; font-weight: bold;\">create</span> <span style=\"color: black; background-color: white; font-weight: bold;\">package</span>"
            ]
          },
          "metadata": {}
        },
        {
          "output_type": "stream",
          "name": "stdout",
          "text": [
            "\n"
          ]
        },
        {
          "output_type": "display_data",
          "data": {
            "text/plain": [
              "<IPython.core.display.HTML object>"
            ],
            "text/html": [
              "In <span style=\"color: black; background-color: white; font-weight: bold;\">details</span> <span style=\"color: black; background-color: yellow; font-weight: bold;\">enter</span> all <span style=\"color: black; background-color: white; font-weight: bold;\">mandatory</span> <span style=\"color: black; background-color: white; font-weight: bold;\">details</span> and select customization as allowed digital channel as allowed <span style=\"color: black; background-color: white; font-weight: bold;\">payment</span> <span style=\"color: black; background-color: white; font-weight: bold;\">limits</span> as <span style=\"color: black; background-color: white; font-weight: bold;\">valid</span> <span style=\"color: black; background-color: white; font-weight: bold;\">limit</span> and <span style=\"color: black; background-color: yellow; font-weight: bold;\">click</span> on <span style=\"color: black; background-color: white; font-weight: bold;\">next</span> <span style=\"color: black; background-color: white; font-weight: bold;\">button</span>"
            ]
          },
          "metadata": {}
        },
        {
          "output_type": "stream",
          "name": "stdout",
          "text": [
            "\n"
          ]
        },
        {
          "output_type": "display_data",
          "data": {
            "text/plain": [
              "<IPython.core.display.HTML object>"
            ],
            "text/html": [
              "In <span style=\"color: black; background-color: white; font-weight: bold;\">charges</span> page select billing cycle recurrence primary <span style=\"color: black; background-color: white; font-weight: bold;\">package</span> secondary <span style=\"color: black; background-color: white; font-weight: bold;\">package</span> <span style=\"color: black; background-color: white; font-weight: bold;\">promotional</span> <span style=\"color: black; background-color: white; font-weight: bold;\">charges</span> and select <span style=\"color: black; background-color: white; font-weight: bold;\">end</span> <span style=\"color: black; background-color: white; font-weight: bold;\">date</span> for <span style=\"color: black; background-color: white; font-weight: bold;\">promotional</span> <span style=\"color: black; background-color: white; font-weight: bold;\">package</span> which is greater than <span style=\"color: black; background-color: white; font-weight: bold;\">end</span> <span style=\"color: black; background-color: white; font-weight: bold;\">date</span> of the <span style=\"color: black; background-color: white; font-weight: bold;\">package</span>"
            ]
          },
          "metadata": {}
        },
        {
          "output_type": "stream",
          "name": "stdout",
          "text": [
            "\n",
            "Row 5:\n"
          ]
        },
        {
          "output_type": "display_data",
          "data": {
            "text/plain": [
              "<IPython.core.display.HTML object>"
            ],
            "text/html": [
              "<span style=\"color: black; background-color: yellow; font-weight: bold;\">Login</span> into <span style=\"color: black; background-color: white; font-weight: bold;\">ARX</span> with <span style=\"color: black; background-color: white; font-weight: bold;\">Operational</span> <span style=\"color: black; background-color: white; font-weight: bold;\">maker</span> <span style=\"color: black; background-color: white; font-weight: bold;\">credential</span>"
            ]
          },
          "metadata": {}
        },
        {
          "output_type": "stream",
          "name": "stdout",
          "text": [
            "\n"
          ]
        },
        {
          "output_type": "display_data",
          "data": {
            "text/plain": [
              "<IPython.core.display.HTML object>"
            ],
            "text/html": [
              "<span style=\"color: black; background-color: yellow; font-weight: bold;\">Click</span> On <span style=\"color: black; background-color: white; font-weight: bold;\">CIM</span>"
            ]
          },
          "metadata": {}
        },
        {
          "output_type": "stream",
          "name": "stdout",
          "text": [
            "\n"
          ]
        },
        {
          "output_type": "display_data",
          "data": {
            "text/plain": [
              "<IPython.core.display.HTML object>"
            ],
            "text/html": [
              "In <span style=\"color: black; background-color: white; font-weight: bold;\">package</span> <span style=\"color: black; background-color: white; font-weight: bold;\">tab</span> <span style=\"color: black; background-color: yellow; font-weight: bold;\">click</span> on <span style=\"color: black; background-color: yellow; font-weight: bold;\">continue</span> <span style=\"color: black; background-color: yellow; font-weight: bold;\">editing</span> <span style=\"color: black; background-color: yellow; font-weight: bold;\">opting</span> for the <span style=\"color: black; background-color: white; font-weight: bold;\">package</span> which is draft"
            ]
          },
          "metadata": {}
        },
        {
          "output_type": "stream",
          "name": "stdout",
          "text": [
            "\n"
          ]
        },
        {
          "output_type": "display_data",
          "data": {
            "text/plain": [
              "<IPython.core.display.HTML object>"
            ],
            "text/html": [
              "In <span style=\"color: black; background-color: white; font-weight: bold;\">details</span> <span style=\"color: black; background-color: yellow; font-weight: bold;\">enter</span> all <span style=\"color: black; background-color: white; font-weight: bold;\">mandatory</span> <span style=\"color: black; background-color: white; font-weight: bold;\">details</span> and select customization as allowed digital channel as allowed <span style=\"color: black; background-color: white; font-weight: bold;\">payment</span> <span style=\"color: black; background-color: white; font-weight: bold;\">limits</span> as <span style=\"color: black; background-color: white; font-weight: bold;\">valid</span> <span style=\"color: black; background-color: white; font-weight: bold;\">limit</span> and <span style=\"color: black; background-color: yellow; font-weight: bold;\">click</span> on <span style=\"color: black; background-color: white; font-weight: bold;\">next</span> <span style=\"color: black; background-color: white; font-weight: bold;\">button</span>"
            ]
          },
          "metadata": {}
        },
        {
          "output_type": "stream",
          "name": "stdout",
          "text": [
            "\n"
          ]
        },
        {
          "output_type": "display_data",
          "data": {
            "text/plain": [
              "<IPython.core.display.HTML object>"
            ],
            "text/html": [
              "In <span style=\"color: black; background-color: white; font-weight: bold;\">charges</span> page select billing cycle recurrence primary <span style=\"color: black; background-color: white; font-weight: bold;\">package</span> secondary <span style=\"color: black; background-color: white; font-weight: bold;\">package</span> <span style=\"color: black; background-color: white; font-weight: bold;\">promotional</span> <span style=\"color: black; background-color: white; font-weight: bold;\">charges</span> and select <span style=\"color: black; background-color: white; font-weight: bold;\">end</span> <span style=\"color: black; background-color: white; font-weight: bold;\">date</span> for <span style=\"color: black; background-color: white; font-weight: bold;\">promotional</span> <span style=\"color: black; background-color: white; font-weight: bold;\">package</span> which is greater than <span style=\"color: black; background-color: white; font-weight: bold;\">end</span> <span style=\"color: black; background-color: white; font-weight: bold;\">date</span> of the <span style=\"color: black; background-color: white; font-weight: bold;\">package</span>"
            ]
          },
          "metadata": {}
        },
        {
          "output_type": "stream",
          "name": "stdout",
          "text": [
            "\n",
            "Row 6:\n"
          ]
        },
        {
          "output_type": "display_data",
          "data": {
            "text/plain": [
              "<IPython.core.display.HTML object>"
            ],
            "text/html": [
              "<span style=\"color: black; background-color: yellow; font-weight: bold;\">Login</span> into <span style=\"color: black; background-color: white; font-weight: bold;\">ARX</span> with <span style=\"color: black; background-color: white; font-weight: bold;\">Operational</span> <span style=\"color: black; background-color: white; font-weight: bold;\">maker</span> <span style=\"color: black; background-color: white; font-weight: bold;\">credential</span>"
            ]
          },
          "metadata": {}
        },
        {
          "output_type": "stream",
          "name": "stdout",
          "text": [
            "\n"
          ]
        },
        {
          "output_type": "display_data",
          "data": {
            "text/plain": [
              "<IPython.core.display.HTML object>"
            ],
            "text/html": [
              "<span style=\"color: black; background-color: yellow; font-weight: bold;\">Click</span> On <span style=\"color: black; background-color: white; font-weight: bold;\">CIM</span>"
            ]
          },
          "metadata": {}
        },
        {
          "output_type": "stream",
          "name": "stdout",
          "text": [
            "\n"
          ]
        },
        {
          "output_type": "display_data",
          "data": {
            "text/plain": [
              "<IPython.core.display.HTML object>"
            ],
            "text/html": [
              "In <span style=\"color: black; background-color: white; font-weight: bold;\">package</span> <span style=\"color: black; background-color: white; font-weight: bold;\">tab</span> <span style=\"color: black; background-color: yellow; font-weight: bold;\">click</span> on <span style=\"color: black; background-color: white; font-weight: bold;\">create</span> <span style=\"color: black; background-color: white; font-weight: bold;\">package</span>"
            ]
          },
          "metadata": {}
        },
        {
          "output_type": "stream",
          "name": "stdout",
          "text": [
            "\n"
          ]
        },
        {
          "output_type": "display_data",
          "data": {
            "text/plain": [
              "<IPython.core.display.HTML object>"
            ],
            "text/html": [
              "In <span style=\"color: black; background-color: white; font-weight: bold;\">details</span> <span style=\"color: black; background-color: yellow; font-weight: bold;\">enter</span> all <span style=\"color: black; background-color: white; font-weight: bold;\">mandatory</span> <span style=\"color: black; background-color: white; font-weight: bold;\">details</span> and select customization as allowed digital channel as allowed <span style=\"color: black; background-color: white; font-weight: bold;\">payment</span> <span style=\"color: black; background-color: white; font-weight: bold;\">limits</span> as <span style=\"color: black; background-color: white; font-weight: bold;\">valid</span> <span style=\"color: black; background-color: white; font-weight: bold;\">limit</span> and <span style=\"color: black; background-color: yellow; font-weight: bold;\">click</span> on <span style=\"color: black; background-color: white; font-weight: bold;\">next</span> <span style=\"color: black; background-color: white; font-weight: bold;\">button</span>"
            ]
          },
          "metadata": {}
        },
        {
          "output_type": "stream",
          "name": "stdout",
          "text": [
            "\n",
            "Row 7:\n"
          ]
        },
        {
          "output_type": "display_data",
          "data": {
            "text/plain": [
              "<IPython.core.display.HTML object>"
            ],
            "text/html": [
              "<span style=\"color: black; background-color: yellow; font-weight: bold;\">Login</span> into <span style=\"color: black; background-color: white; font-weight: bold;\">ARX</span> with <span style=\"color: black; background-color: white; font-weight: bold;\">Operational</span> <span style=\"color: black; background-color: white; font-weight: bold;\">maker</span> <span style=\"color: black; background-color: white; font-weight: bold;\">credential</span>"
            ]
          },
          "metadata": {}
        },
        {
          "output_type": "stream",
          "name": "stdout",
          "text": [
            "\n"
          ]
        },
        {
          "output_type": "display_data",
          "data": {
            "text/plain": [
              "<IPython.core.display.HTML object>"
            ],
            "text/html": [
              "<span style=\"color: black; background-color: yellow; font-weight: bold;\">Click</span> On <span style=\"color: black; background-color: white; font-weight: bold;\">CIM</span>"
            ]
          },
          "metadata": {}
        },
        {
          "output_type": "stream",
          "name": "stdout",
          "text": [
            "\n"
          ]
        },
        {
          "output_type": "display_data",
          "data": {
            "text/plain": [
              "<IPython.core.display.HTML object>"
            ],
            "text/html": [
              "In <span style=\"color: black; background-color: white; font-weight: bold;\">package</span> <span style=\"color: black; background-color: white; font-weight: bold;\">tab</span> <span style=\"color: black; background-color: yellow; font-weight: bold;\">click</span> on <span style=\"color: black; background-color: yellow; font-weight: bold;\">continue</span> <span style=\"color: black; background-color: yellow; font-weight: bold;\">editing</span> <span style=\"color: black; background-color: yellow; font-weight: bold;\">opting</span> for the <span style=\"color: black; background-color: white; font-weight: bold;\">package</span> which is draft"
            ]
          },
          "metadata": {}
        },
        {
          "output_type": "stream",
          "name": "stdout",
          "text": [
            "\n"
          ]
        },
        {
          "output_type": "display_data",
          "data": {
            "text/plain": [
              "<IPython.core.display.HTML object>"
            ],
            "text/html": [
              "In <span style=\"color: black; background-color: white; font-weight: bold;\">details</span> <span style=\"color: black; background-color: yellow; font-weight: bold;\">enter</span> all <span style=\"color: black; background-color: white; font-weight: bold;\">mandatory</span> <span style=\"color: black; background-color: white; font-weight: bold;\">details</span> and select customization as allowed digital channel as allowed <span style=\"color: black; background-color: white; font-weight: bold;\">payment</span> <span style=\"color: black; background-color: white; font-weight: bold;\">limits</span> as <span style=\"color: black; background-color: white; font-weight: bold;\">valid</span> <span style=\"color: black; background-color: white; font-weight: bold;\">limit</span> and <span style=\"color: black; background-color: yellow; font-weight: bold;\">click</span> on <span style=\"color: black; background-color: white; font-weight: bold;\">next</span> <span style=\"color: black; background-color: white; font-weight: bold;\">button</span>"
            ]
          },
          "metadata": {}
        },
        {
          "output_type": "stream",
          "name": "stdout",
          "text": [
            "\n",
            "Row 8:\n"
          ]
        },
        {
          "output_type": "display_data",
          "data": {
            "text/plain": [
              "<IPython.core.display.HTML object>"
            ],
            "text/html": [
              "<span style=\"color: black; background-color: yellow; font-weight: bold;\">Login</span> into <span style=\"color: black; background-color: white; font-weight: bold;\">ARX</span> with <span style=\"color: black; background-color: white; font-weight: bold;\">Operational</span> <span style=\"color: black; background-color: white; font-weight: bold;\">maker</span> <span style=\"color: black; background-color: white; font-weight: bold;\">credential</span>"
            ]
          },
          "metadata": {}
        },
        {
          "output_type": "stream",
          "name": "stdout",
          "text": [
            "\n"
          ]
        },
        {
          "output_type": "display_data",
          "data": {
            "text/plain": [
              "<IPython.core.display.HTML object>"
            ],
            "text/html": [
              "<span style=\"color: black; background-color: yellow; font-weight: bold;\">Click</span> On <span style=\"color: black; background-color: white; font-weight: bold;\">CIM</span>"
            ]
          },
          "metadata": {}
        },
        {
          "output_type": "stream",
          "name": "stdout",
          "text": [
            "\n"
          ]
        },
        {
          "output_type": "display_data",
          "data": {
            "text/plain": [
              "<IPython.core.display.HTML object>"
            ],
            "text/html": [
              "In <span style=\"color: black; background-color: white; font-weight: bold;\">package</span> <span style=\"color: black; background-color: white; font-weight: bold;\">tab</span> <span style=\"color: black; background-color: yellow; font-weight: bold;\">click</span> on <span style=\"color: black; background-color: white; font-weight: bold;\">create</span> <span style=\"color: black; background-color: white; font-weight: bold;\">package</span>"
            ]
          },
          "metadata": {}
        },
        {
          "output_type": "stream",
          "name": "stdout",
          "text": [
            "\n"
          ]
        },
        {
          "output_type": "display_data",
          "data": {
            "text/plain": [
              "<IPython.core.display.HTML object>"
            ],
            "text/html": [
              "In <span style=\"color: black; background-color: white; font-weight: bold;\">details</span> <span style=\"color: black; background-color: yellow; font-weight: bold;\">enter</span> all <span style=\"color: black; background-color: white; font-weight: bold;\">mandatory</span> <span style=\"color: black; background-color: white; font-weight: bold;\">details</span> and select customization as allowed digital channel as allowed <span style=\"color: black; background-color: white; font-weight: bold;\">payment</span> <span style=\"color: black; background-color: white; font-weight: bold;\">limits</span> as <span style=\"color: black; background-color: white; font-weight: bold;\">valid</span> <span style=\"color: black; background-color: white; font-weight: bold;\">limit</span> and <span style=\"color: black; background-color: yellow; font-weight: bold;\">click</span> on <span style=\"color: black; background-color: white; font-weight: bold;\">next</span> <span style=\"color: black; background-color: white; font-weight: bold;\">button</span>"
            ]
          },
          "metadata": {}
        },
        {
          "output_type": "stream",
          "name": "stdout",
          "text": [
            "\n",
            "Row 9:\n"
          ]
        },
        {
          "output_type": "display_data",
          "data": {
            "text/plain": [
              "<IPython.core.display.HTML object>"
            ],
            "text/html": [
              "<span style=\"color: black; background-color: yellow; font-weight: bold;\">Login</span> into <span style=\"color: black; background-color: white; font-weight: bold;\">ARX</span> with <span style=\"color: black; background-color: white; font-weight: bold;\">Operational</span> <span style=\"color: black; background-color: white; font-weight: bold;\">maker</span> <span style=\"color: black; background-color: white; font-weight: bold;\">credential</span>"
            ]
          },
          "metadata": {}
        },
        {
          "output_type": "stream",
          "name": "stdout",
          "text": [
            "\n"
          ]
        },
        {
          "output_type": "display_data",
          "data": {
            "text/plain": [
              "<IPython.core.display.HTML object>"
            ],
            "text/html": [
              "<span style=\"color: black; background-color: yellow; font-weight: bold;\">Click</span> On <span style=\"color: black; background-color: white; font-weight: bold;\">CIM</span>"
            ]
          },
          "metadata": {}
        },
        {
          "output_type": "stream",
          "name": "stdout",
          "text": [
            "\n"
          ]
        },
        {
          "output_type": "display_data",
          "data": {
            "text/plain": [
              "<IPython.core.display.HTML object>"
            ],
            "text/html": [
              "In <span style=\"color: black; background-color: white; font-weight: bold;\">package</span> <span style=\"color: black; background-color: white; font-weight: bold;\">tab</span> <span style=\"color: black; background-color: yellow; font-weight: bold;\">click</span> on <span style=\"color: black; background-color: yellow; font-weight: bold;\">continue</span> <span style=\"color: black; background-color: yellow; font-weight: bold;\">editing</span> <span style=\"color: black; background-color: yellow; font-weight: bold;\">opting</span> for the <span style=\"color: black; background-color: white; font-weight: bold;\">package</span> which is draft"
            ]
          },
          "metadata": {}
        },
        {
          "output_type": "stream",
          "name": "stdout",
          "text": [
            "\n"
          ]
        },
        {
          "output_type": "display_data",
          "data": {
            "text/plain": [
              "<IPython.core.display.HTML object>"
            ],
            "text/html": [
              "In <span style=\"color: black; background-color: white; font-weight: bold;\">details</span> <span style=\"color: black; background-color: yellow; font-weight: bold;\">enter</span> all <span style=\"color: black; background-color: white; font-weight: bold;\">mandatory</span> <span style=\"color: black; background-color: white; font-weight: bold;\">details</span> and select customization as allowed digital channel as allowed <span style=\"color: black; background-color: white; font-weight: bold;\">payment</span> <span style=\"color: black; background-color: white; font-weight: bold;\">limits</span> as <span style=\"color: black; background-color: white; font-weight: bold;\">valid</span> <span style=\"color: black; background-color: white; font-weight: bold;\">limit</span> and <span style=\"color: black; background-color: yellow; font-weight: bold;\">click</span> on <span style=\"color: black; background-color: white; font-weight: bold;\">next</span> <span style=\"color: black; background-color: white; font-weight: bold;\">button</span>"
            ]
          },
          "metadata": {}
        },
        {
          "output_type": "stream",
          "name": "stdout",
          "text": [
            "\n",
            "Row 10:\n"
          ]
        },
        {
          "output_type": "display_data",
          "data": {
            "text/plain": [
              "<IPython.core.display.HTML object>"
            ],
            "text/html": [
              "<span style=\"color: black; background-color: yellow; font-weight: bold;\">Login</span> into <span style=\"color: black; background-color: white; font-weight: bold;\">ARX</span> with <span style=\"color: black; background-color: white; font-weight: bold;\">Operational</span> <span style=\"color: black; background-color: white; font-weight: bold;\">maker</span> <span style=\"color: black; background-color: white; font-weight: bold;\">credential</span>"
            ]
          },
          "metadata": {}
        },
        {
          "output_type": "stream",
          "name": "stdout",
          "text": [
            "\n"
          ]
        },
        {
          "output_type": "display_data",
          "data": {
            "text/plain": [
              "<IPython.core.display.HTML object>"
            ],
            "text/html": [
              "<span style=\"color: black; background-color: yellow; font-weight: bold;\">Click</span> On <span style=\"color: black; background-color: white; font-weight: bold;\">CIM</span>"
            ]
          },
          "metadata": {}
        },
        {
          "output_type": "stream",
          "name": "stdout",
          "text": [
            "\n"
          ]
        },
        {
          "output_type": "display_data",
          "data": {
            "text/plain": [
              "<IPython.core.display.HTML object>"
            ],
            "text/html": [
              "In <span style=\"color: black; background-color: white; font-weight: bold;\">package</span> <span style=\"color: black; background-color: white; font-weight: bold;\">tab</span> <span style=\"color: black; background-color: yellow; font-weight: bold;\">click</span> on <span style=\"color: black; background-color: white; font-weight: bold;\">create</span> <span style=\"color: black; background-color: white; font-weight: bold;\">package</span>"
            ]
          },
          "metadata": {}
        },
        {
          "output_type": "stream",
          "name": "stdout",
          "text": [
            "\n"
          ]
        },
        {
          "output_type": "display_data",
          "data": {
            "text/plain": [
              "<IPython.core.display.HTML object>"
            ],
            "text/html": [
              "In <span style=\"color: black; background-color: white; font-weight: bold;\">details</span> <span style=\"color: black; background-color: yellow; font-weight: bold;\">enter</span> all <span style=\"color: black; background-color: white; font-weight: bold;\">mandatory</span> <span style=\"color: black; background-color: white; font-weight: bold;\">details</span> and select customization as allowed digital channel as allowed <span style=\"color: black; background-color: white; font-weight: bold;\">payment</span> <span style=\"color: black; background-color: white; font-weight: bold;\">limits</span> as <span style=\"color: black; background-color: white; font-weight: bold;\">valid</span> <span style=\"color: black; background-color: white; font-weight: bold;\">limit</span> and <span style=\"color: black; background-color: yellow; font-weight: bold;\">click</span> on <span style=\"color: black; background-color: white; font-weight: bold;\">next</span> <span style=\"color: black; background-color: white; font-weight: bold;\">button</span>"
            ]
          },
          "metadata": {}
        },
        {
          "output_type": "stream",
          "name": "stdout",
          "text": [
            "\n",
            "Row 11:\n"
          ]
        },
        {
          "output_type": "display_data",
          "data": {
            "text/plain": [
              "<IPython.core.display.HTML object>"
            ],
            "text/html": [
              "<span style=\"color: black; background-color: yellow; font-weight: bold;\">Login</span> into <span style=\"color: black; background-color: white; font-weight: bold;\">ARX</span> with <span style=\"color: black; background-color: white; font-weight: bold;\">Operational</span> <span style=\"color: black; background-color: white; font-weight: bold;\">maker</span> <span style=\"color: black; background-color: white; font-weight: bold;\">credential</span>"
            ]
          },
          "metadata": {}
        },
        {
          "output_type": "stream",
          "name": "stdout",
          "text": [
            "\n"
          ]
        },
        {
          "output_type": "display_data",
          "data": {
            "text/plain": [
              "<IPython.core.display.HTML object>"
            ],
            "text/html": [
              "<span style=\"color: black; background-color: yellow; font-weight: bold;\">Click</span> On <span style=\"color: black; background-color: white; font-weight: bold;\">CIM</span>"
            ]
          },
          "metadata": {}
        },
        {
          "output_type": "stream",
          "name": "stdout",
          "text": [
            "\n"
          ]
        },
        {
          "output_type": "display_data",
          "data": {
            "text/plain": [
              "<IPython.core.display.HTML object>"
            ],
            "text/html": [
              "In <span style=\"color: black; background-color: white; font-weight: bold;\">package</span> <span style=\"color: black; background-color: white; font-weight: bold;\">tab</span> <span style=\"color: black; background-color: yellow; font-weight: bold;\">click</span> on <span style=\"color: black; background-color: white; font-weight: bold;\">create</span> <span style=\"color: black; background-color: white; font-weight: bold;\">package</span>"
            ]
          },
          "metadata": {}
        },
        {
          "output_type": "stream",
          "name": "stdout",
          "text": [
            "\n"
          ]
        },
        {
          "output_type": "display_data",
          "data": {
            "text/plain": [
              "<IPython.core.display.HTML object>"
            ],
            "text/html": [
              "In <span style=\"color: black; background-color: white; font-weight: bold;\">details</span> <span style=\"color: black; background-color: yellow; font-weight: bold;\">enter</span> all <span style=\"color: black; background-color: white; font-weight: bold;\">mandatory</span> <span style=\"color: black; background-color: white; font-weight: bold;\">details</span> and select customization as allowed digital channel as allowed <span style=\"color: black; background-color: white; font-weight: bold;\">payment</span> <span style=\"color: black; background-color: white; font-weight: bold;\">limits</span> as <span style=\"color: black; background-color: white; font-weight: bold;\">valid</span> <span style=\"color: black; background-color: white; font-weight: bold;\">limit</span> and <span style=\"color: black; background-color: yellow; font-weight: bold;\">click</span> on <span style=\"color: black; background-color: white; font-weight: bold;\">next</span> <span style=\"color: black; background-color: white; font-weight: bold;\">button</span>"
            ]
          },
          "metadata": {}
        },
        {
          "output_type": "stream",
          "name": "stdout",
          "text": [
            "\n"
          ]
        },
        {
          "output_type": "display_data",
          "data": {
            "text/plain": [
              "<IPython.core.display.HTML object>"
            ],
            "text/html": [
              "In <span style=\"color: black; background-color: white; font-weight: bold;\">charges</span> page select billing cycle recurrence"
            ]
          },
          "metadata": {}
        },
        {
          "output_type": "stream",
          "name": "stdout",
          "text": [
            "\n"
          ]
        },
        {
          "output_type": "display_data",
          "data": {
            "text/plain": [
              "<IPython.core.display.HTML object>"
            ],
            "text/html": [
              "<span style=\"color: black; background-color: yellow; font-weight: bold;\">Verify</span> the <span style=\"color: black; background-color: white; font-weight: bold;\">charge</span> <span style=\"color: black; background-color: white; font-weight: bold;\">package</span> for <span style=\"color: black; background-color: white; font-weight: bold;\">billing</span> <span style=\"color: black; background-color: white; font-weight: bold;\">cycle</span> <span style=\"color: black; background-color: white; font-weight: bold;\">type</span> monthly"
            ]
          },
          "metadata": {}
        },
        {
          "output_type": "stream",
          "name": "stdout",
          "text": [
            "\n",
            "Row 12:\n"
          ]
        },
        {
          "output_type": "display_data",
          "data": {
            "text/plain": [
              "<IPython.core.display.HTML object>"
            ],
            "text/html": [
              "<span style=\"color: black; background-color: yellow; font-weight: bold;\">Login</span> into <span style=\"color: black; background-color: white; font-weight: bold;\">ARX</span> with <span style=\"color: black; background-color: white; font-weight: bold;\">Operational</span> <span style=\"color: black; background-color: white; font-weight: bold;\">maker</span> <span style=\"color: black; background-color: white; font-weight: bold;\">credential</span>"
            ]
          },
          "metadata": {}
        },
        {
          "output_type": "stream",
          "name": "stdout",
          "text": [
            "\n"
          ]
        },
        {
          "output_type": "display_data",
          "data": {
            "text/plain": [
              "<IPython.core.display.HTML object>"
            ],
            "text/html": [
              "<span style=\"color: black; background-color: yellow; font-weight: bold;\">Click</span> On <span style=\"color: black; background-color: white; font-weight: bold;\">CIM</span>"
            ]
          },
          "metadata": {}
        },
        {
          "output_type": "stream",
          "name": "stdout",
          "text": [
            "\n"
          ]
        },
        {
          "output_type": "display_data",
          "data": {
            "text/plain": [
              "<IPython.core.display.HTML object>"
            ],
            "text/html": [
              "In <span style=\"color: black; background-color: white; font-weight: bold;\">package</span> <span style=\"color: black; background-color: white; font-weight: bold;\">tab</span> <span style=\"color: black; background-color: yellow; font-weight: bold;\">click</span> on <span style=\"color: black; background-color: yellow; font-weight: bold;\">continue</span> <span style=\"color: black; background-color: yellow; font-weight: bold;\">editing</span> <span style=\"color: black; background-color: yellow; font-weight: bold;\">opting</span> for the <span style=\"color: black; background-color: white; font-weight: bold;\">package</span> which is draft"
            ]
          },
          "metadata": {}
        },
        {
          "output_type": "stream",
          "name": "stdout",
          "text": [
            "\n"
          ]
        },
        {
          "output_type": "display_data",
          "data": {
            "text/plain": [
              "<IPython.core.display.HTML object>"
            ],
            "text/html": [
              "In <span style=\"color: black; background-color: white; font-weight: bold;\">details</span> <span style=\"color: black; background-color: yellow; font-weight: bold;\">enter</span> all <span style=\"color: black; background-color: white; font-weight: bold;\">mandatory</span> <span style=\"color: black; background-color: white; font-weight: bold;\">details</span> and select customization as allowed digital channel as allowed <span style=\"color: black; background-color: white; font-weight: bold;\">payment</span> <span style=\"color: black; background-color: white; font-weight: bold;\">limits</span> as <span style=\"color: black; background-color: white; font-weight: bold;\">valid</span> <span style=\"color: black; background-color: white; font-weight: bold;\">limit</span> and <span style=\"color: black; background-color: yellow; font-weight: bold;\">click</span> on <span style=\"color: black; background-color: white; font-weight: bold;\">next</span> <span style=\"color: black; background-color: white; font-weight: bold;\">button</span>"
            ]
          },
          "metadata": {}
        },
        {
          "output_type": "stream",
          "name": "stdout",
          "text": [
            "\n"
          ]
        },
        {
          "output_type": "display_data",
          "data": {
            "text/plain": [
              "<IPython.core.display.HTML object>"
            ],
            "text/html": [
              "In <span style=\"color: black; background-color: white; font-weight: bold;\">charges</span> page select billing cycle recurrence"
            ]
          },
          "metadata": {}
        },
        {
          "output_type": "stream",
          "name": "stdout",
          "text": [
            "\n"
          ]
        },
        {
          "output_type": "display_data",
          "data": {
            "text/plain": [
              "<IPython.core.display.HTML object>"
            ],
            "text/html": [
              "<span style=\"color: black; background-color: yellow; font-weight: bold;\">Verify</span> the <span style=\"color: black; background-color: white; font-weight: bold;\">charge</span> <span style=\"color: black; background-color: white; font-weight: bold;\">package</span> for <span style=\"color: black; background-color: white; font-weight: bold;\">billing</span> <span style=\"color: black; background-color: white; font-weight: bold;\">cycle</span> <span style=\"color: black; background-color: white; font-weight: bold;\">type</span> monthly"
            ]
          },
          "metadata": {}
        },
        {
          "output_type": "stream",
          "name": "stdout",
          "text": [
            "\n",
            "Row 13:\n"
          ]
        },
        {
          "output_type": "display_data",
          "data": {
            "text/plain": [
              "<IPython.core.display.HTML object>"
            ],
            "text/html": [
              "<span style=\"color: black; background-color: yellow; font-weight: bold;\">Login</span> into <span style=\"color: black; background-color: white; font-weight: bold;\">ARX</span> with <span style=\"color: black; background-color: white; font-weight: bold;\">Operational</span> <span style=\"color: black; background-color: white; font-weight: bold;\">maker</span> <span style=\"color: black; background-color: white; font-weight: bold;\">credential</span>"
            ]
          },
          "metadata": {}
        },
        {
          "output_type": "stream",
          "name": "stdout",
          "text": [
            "\n"
          ]
        },
        {
          "output_type": "display_data",
          "data": {
            "text/plain": [
              "<IPython.core.display.HTML object>"
            ],
            "text/html": [
              "<span style=\"color: black; background-color: yellow; font-weight: bold;\">Click</span> On <span style=\"color: black; background-color: white; font-weight: bold;\">CIM</span>"
            ]
          },
          "metadata": {}
        },
        {
          "output_type": "stream",
          "name": "stdout",
          "text": [
            "\n"
          ]
        },
        {
          "output_type": "display_data",
          "data": {
            "text/plain": [
              "<IPython.core.display.HTML object>"
            ],
            "text/html": [
              "In <span style=\"color: black; background-color: white; font-weight: bold;\">package</span> <span style=\"color: black; background-color: white; font-weight: bold;\">tab</span> <span style=\"color: black; background-color: yellow; font-weight: bold;\">click</span> on <span style=\"color: black; background-color: white; font-weight: bold;\">create</span> <span style=\"color: black; background-color: white; font-weight: bold;\">package</span>"
            ]
          },
          "metadata": {}
        },
        {
          "output_type": "stream",
          "name": "stdout",
          "text": [
            "\n"
          ]
        },
        {
          "output_type": "display_data",
          "data": {
            "text/plain": [
              "<IPython.core.display.HTML object>"
            ],
            "text/html": [
              "In <span style=\"color: black; background-color: white; font-weight: bold;\">details</span> <span style=\"color: black; background-color: yellow; font-weight: bold;\">enter</span> all <span style=\"color: black; background-color: white; font-weight: bold;\">mandatory</span> <span style=\"color: black; background-color: white; font-weight: bold;\">details</span> and select customization as allowed digital channel as allowed <span style=\"color: black; background-color: white; font-weight: bold;\">payment</span> <span style=\"color: black; background-color: white; font-weight: bold;\">limits</span> as <span style=\"color: black; background-color: white; font-weight: bold;\">valid</span> <span style=\"color: black; background-color: white; font-weight: bold;\">limit</span> and <span style=\"color: black; background-color: yellow; font-weight: bold;\">click</span> on <span style=\"color: black; background-color: white; font-weight: bold;\">next</span> <span style=\"color: black; background-color: white; font-weight: bold;\">button</span>"
            ]
          },
          "metadata": {}
        },
        {
          "output_type": "stream",
          "name": "stdout",
          "text": [
            "\n"
          ]
        },
        {
          "output_type": "display_data",
          "data": {
            "text/plain": [
              "<IPython.core.display.HTML object>"
            ],
            "text/html": [
              "In <span style=\"color: black; background-color: white; font-weight: bold;\">charges</span> page select billing cycle recurrence"
            ]
          },
          "metadata": {}
        },
        {
          "output_type": "stream",
          "name": "stdout",
          "text": [
            "\n"
          ]
        },
        {
          "output_type": "display_data",
          "data": {
            "text/plain": [
              "<IPython.core.display.HTML object>"
            ],
            "text/html": [
              "<span style=\"color: black; background-color: yellow; font-weight: bold;\">Verify</span> the <span style=\"color: black; background-color: white; font-weight: bold;\">charge</span> <span style=\"color: black; background-color: white; font-weight: bold;\">package</span> for billing <span style=\"color: black; background-color: white; font-weight: bold;\">cycle</span> <span style=\"color: black; background-color: white; font-weight: bold;\">type</span> <span style=\"color: black; background-color: white; font-weight: bold;\">daily</span>"
            ]
          },
          "metadata": {}
        },
        {
          "output_type": "stream",
          "name": "stdout",
          "text": [
            "\n",
            "Row 14:\n"
          ]
        },
        {
          "output_type": "display_data",
          "data": {
            "text/plain": [
              "<IPython.core.display.HTML object>"
            ],
            "text/html": [
              "<span style=\"color: black; background-color: yellow; font-weight: bold;\">Login</span> into <span style=\"color: black; background-color: white; font-weight: bold;\">ARX</span> with <span style=\"color: black; background-color: white; font-weight: bold;\">Operational</span> <span style=\"color: black; background-color: white; font-weight: bold;\">maker</span> <span style=\"color: black; background-color: white; font-weight: bold;\">credential</span>"
            ]
          },
          "metadata": {}
        },
        {
          "output_type": "stream",
          "name": "stdout",
          "text": [
            "\n"
          ]
        },
        {
          "output_type": "display_data",
          "data": {
            "text/plain": [
              "<IPython.core.display.HTML object>"
            ],
            "text/html": [
              "<span style=\"color: black; background-color: yellow; font-weight: bold;\">Click</span> On <span style=\"color: black; background-color: white; font-weight: bold;\">CIM</span>"
            ]
          },
          "metadata": {}
        },
        {
          "output_type": "stream",
          "name": "stdout",
          "text": [
            "\n"
          ]
        },
        {
          "output_type": "display_data",
          "data": {
            "text/plain": [
              "<IPython.core.display.HTML object>"
            ],
            "text/html": [
              "In <span style=\"color: black; background-color: white; font-weight: bold;\">package</span> <span style=\"color: black; background-color: white; font-weight: bold;\">tab</span> <span style=\"color: black; background-color: yellow; font-weight: bold;\">click</span> on <span style=\"color: black; background-color: yellow; font-weight: bold;\">continue</span> <span style=\"color: black; background-color: yellow; font-weight: bold;\">editing</span> <span style=\"color: black; background-color: yellow; font-weight: bold;\">opting</span> for the <span style=\"color: black; background-color: white; font-weight: bold;\">package</span> which is draft"
            ]
          },
          "metadata": {}
        },
        {
          "output_type": "stream",
          "name": "stdout",
          "text": [
            "\n"
          ]
        },
        {
          "output_type": "display_data",
          "data": {
            "text/plain": [
              "<IPython.core.display.HTML object>"
            ],
            "text/html": [
              "In <span style=\"color: black; background-color: white; font-weight: bold;\">details</span> <span style=\"color: black; background-color: yellow; font-weight: bold;\">enter</span> all <span style=\"color: black; background-color: white; font-weight: bold;\">mandatory</span> <span style=\"color: black; background-color: white; font-weight: bold;\">details</span> and select customization as allowed digital channel as allowed <span style=\"color: black; background-color: white; font-weight: bold;\">payment</span> <span style=\"color: black; background-color: white; font-weight: bold;\">limits</span> as <span style=\"color: black; background-color: white; font-weight: bold;\">valid</span> <span style=\"color: black; background-color: white; font-weight: bold;\">limit</span> and <span style=\"color: black; background-color: yellow; font-weight: bold;\">click</span> on <span style=\"color: black; background-color: white; font-weight: bold;\">next</span> <span style=\"color: black; background-color: white; font-weight: bold;\">button</span>"
            ]
          },
          "metadata": {}
        },
        {
          "output_type": "stream",
          "name": "stdout",
          "text": [
            "\n"
          ]
        },
        {
          "output_type": "display_data",
          "data": {
            "text/plain": [
              "<IPython.core.display.HTML object>"
            ],
            "text/html": [
              "In <span style=\"color: black; background-color: white; font-weight: bold;\">charges</span> page select billing cycle recurrence"
            ]
          },
          "metadata": {}
        },
        {
          "output_type": "stream",
          "name": "stdout",
          "text": [
            "\n"
          ]
        },
        {
          "output_type": "display_data",
          "data": {
            "text/plain": [
              "<IPython.core.display.HTML object>"
            ],
            "text/html": [
              "<span style=\"color: black; background-color: yellow; font-weight: bold;\">Verify</span> the <span style=\"color: black; background-color: white; font-weight: bold;\">charge</span> <span style=\"color: black; background-color: white; font-weight: bold;\">package</span> for billing <span style=\"color: black; background-color: white; font-weight: bold;\">cycle</span> <span style=\"color: black; background-color: white; font-weight: bold;\">type</span> <span style=\"color: black; background-color: white; font-weight: bold;\">daily</span>"
            ]
          },
          "metadata": {}
        },
        {
          "output_type": "stream",
          "name": "stdout",
          "text": [
            "\n",
            "Row 15:\n"
          ]
        },
        {
          "output_type": "display_data",
          "data": {
            "text/plain": [
              "<IPython.core.display.HTML object>"
            ],
            "text/html": [
              "<span style=\"color: black; background-color: yellow; font-weight: bold;\">Login</span> into <span style=\"color: black; background-color: white; font-weight: bold;\">ARX</span> with <span style=\"color: black; background-color: white; font-weight: bold;\">Operational</span> <span style=\"color: black; background-color: white; font-weight: bold;\">maker</span> <span style=\"color: black; background-color: white; font-weight: bold;\">credential</span>"
            ]
          },
          "metadata": {}
        },
        {
          "output_type": "stream",
          "name": "stdout",
          "text": [
            "\n"
          ]
        },
        {
          "output_type": "display_data",
          "data": {
            "text/plain": [
              "<IPython.core.display.HTML object>"
            ],
            "text/html": [
              "<span style=\"color: black; background-color: yellow; font-weight: bold;\">Click</span> On <span style=\"color: black; background-color: white; font-weight: bold;\">CIM</span>"
            ]
          },
          "metadata": {}
        },
        {
          "output_type": "stream",
          "name": "stdout",
          "text": [
            "\n"
          ]
        },
        {
          "output_type": "display_data",
          "data": {
            "text/plain": [
              "<IPython.core.display.HTML object>"
            ],
            "text/html": [
              "In <span style=\"color: black; background-color: white; font-weight: bold;\">package</span> <span style=\"color: black; background-color: white; font-weight: bold;\">tab</span> <span style=\"color: black; background-color: yellow; font-weight: bold;\">click</span> on <span style=\"color: black; background-color: yellow; font-weight: bold;\">continue</span> <span style=\"color: black; background-color: yellow; font-weight: bold;\">editing</span> <span style=\"color: black; background-color: yellow; font-weight: bold;\">opting</span> for the <span style=\"color: black; background-color: white; font-weight: bold;\">package</span> which is draft"
            ]
          },
          "metadata": {}
        },
        {
          "output_type": "stream",
          "name": "stdout",
          "text": [
            "\n"
          ]
        },
        {
          "output_type": "display_data",
          "data": {
            "text/plain": [
              "<IPython.core.display.HTML object>"
            ],
            "text/html": [
              "In <span style=\"color: black; background-color: white; font-weight: bold;\">details</span> <span style=\"color: black; background-color: yellow; font-weight: bold;\">enter</span> all <span style=\"color: black; background-color: white; font-weight: bold;\">mandatory</span> <span style=\"color: black; background-color: white; font-weight: bold;\">details</span> and select customization as allowed digital channel as allowed <span style=\"color: black; background-color: white; font-weight: bold;\">payment</span> <span style=\"color: black; background-color: white; font-weight: bold;\">limits</span> as <span style=\"color: black; background-color: white; font-weight: bold;\">valid</span> <span style=\"color: black; background-color: white; font-weight: bold;\">limit</span> and <span style=\"color: black; background-color: yellow; font-weight: bold;\">click</span> on <span style=\"color: black; background-color: white; font-weight: bold;\">next</span> <span style=\"color: black; background-color: white; font-weight: bold;\">button</span>"
            ]
          },
          "metadata": {}
        },
        {
          "output_type": "stream",
          "name": "stdout",
          "text": [
            "\n",
            "Row 16:\n"
          ]
        },
        {
          "output_type": "display_data",
          "data": {
            "text/plain": [
              "<IPython.core.display.HTML object>"
            ],
            "text/html": [
              "<span style=\"color: black; background-color: yellow; font-weight: bold;\">Login</span> into <span style=\"color: black; background-color: white; font-weight: bold;\">ARX</span> with <span style=\"color: black; background-color: white; font-weight: bold;\">Operational</span> <span style=\"color: black; background-color: white; font-weight: bold;\">maker</span> <span style=\"color: black; background-color: white; font-weight: bold;\">credential</span>"
            ]
          },
          "metadata": {}
        },
        {
          "output_type": "stream",
          "name": "stdout",
          "text": [
            "\n"
          ]
        },
        {
          "output_type": "display_data",
          "data": {
            "text/plain": [
              "<IPython.core.display.HTML object>"
            ],
            "text/html": [
              "<span style=\"color: black; background-color: yellow; font-weight: bold;\">Click</span> On <span style=\"color: black; background-color: white; font-weight: bold;\">CIM</span>"
            ]
          },
          "metadata": {}
        },
        {
          "output_type": "stream",
          "name": "stdout",
          "text": [
            "\n"
          ]
        },
        {
          "output_type": "display_data",
          "data": {
            "text/plain": [
              "<IPython.core.display.HTML object>"
            ],
            "text/html": [
              "In <span style=\"color: black; background-color: white; font-weight: bold;\">package</span> <span style=\"color: black; background-color: white; font-weight: bold;\">tab</span> <span style=\"color: black; background-color: yellow; font-weight: bold;\">click</span> on <span style=\"color: black; background-color: yellow; font-weight: bold;\">continue</span> <span style=\"color: black; background-color: yellow; font-weight: bold;\">editing</span> <span style=\"color: black; background-color: yellow; font-weight: bold;\">opting</span> for the <span style=\"color: black; background-color: white; font-weight: bold;\">package</span> which is draft"
            ]
          },
          "metadata": {}
        },
        {
          "output_type": "stream",
          "name": "stdout",
          "text": [
            "\n"
          ]
        },
        {
          "output_type": "display_data",
          "data": {
            "text/plain": [
              "<IPython.core.display.HTML object>"
            ],
            "text/html": [
              "In <span style=\"color: black; background-color: white; font-weight: bold;\">details</span> <span style=\"color: black; background-color: yellow; font-weight: bold;\">enter</span> all <span style=\"color: black; background-color: white; font-weight: bold;\">mandatory</span> <span style=\"color: black; background-color: white; font-weight: bold;\">details</span> and select customization as allowed digital channel as allowed <span style=\"color: black; background-color: white; font-weight: bold;\">payment</span> <span style=\"color: black; background-color: white; font-weight: bold;\">limits</span> as <span style=\"color: black; background-color: white; font-weight: bold;\">valid</span> <span style=\"color: black; background-color: white; font-weight: bold;\">limit</span> and <span style=\"color: black; background-color: yellow; font-weight: bold;\">click</span> on <span style=\"color: black; background-color: white; font-weight: bold;\">next</span> <span style=\"color: black; background-color: white; font-weight: bold;\">button</span>"
            ]
          },
          "metadata": {}
        },
        {
          "output_type": "stream",
          "name": "stdout",
          "text": [
            "\n",
            "Row 17:\n"
          ]
        },
        {
          "output_type": "display_data",
          "data": {
            "text/plain": [
              "<IPython.core.display.HTML object>"
            ],
            "text/html": [
              "<span style=\"color: black; background-color: yellow; font-weight: bold;\">Login</span> into <span style=\"color: black; background-color: white; font-weight: bold;\">ARX</span> with <span style=\"color: black; background-color: white; font-weight: bold;\">Operational</span> <span style=\"color: black; background-color: white; font-weight: bold;\">maker</span> <span style=\"color: black; background-color: white; font-weight: bold;\">credential</span>"
            ]
          },
          "metadata": {}
        },
        {
          "output_type": "stream",
          "name": "stdout",
          "text": [
            "\n"
          ]
        },
        {
          "output_type": "display_data",
          "data": {
            "text/plain": [
              "<IPython.core.display.HTML object>"
            ],
            "text/html": [
              "<span style=\"color: black; background-color: yellow; font-weight: bold;\">Click</span> On <span style=\"color: black; background-color: white; font-weight: bold;\">CIM</span>"
            ]
          },
          "metadata": {}
        },
        {
          "output_type": "stream",
          "name": "stdout",
          "text": [
            "\n"
          ]
        },
        {
          "output_type": "display_data",
          "data": {
            "text/plain": [
              "<IPython.core.display.HTML object>"
            ],
            "text/html": [
              "In <span style=\"color: black; background-color: white; font-weight: bold;\">package</span> <span style=\"color: black; background-color: white; font-weight: bold;\">tab</span> <span style=\"color: black; background-color: yellow; font-weight: bold;\">click</span> on <span style=\"color: black; background-color: yellow; font-weight: bold;\">continue</span> <span style=\"color: black; background-color: yellow; font-weight: bold;\">editing</span> <span style=\"color: black; background-color: yellow; font-weight: bold;\">opting</span> for the <span style=\"color: black; background-color: white; font-weight: bold;\">package</span> which is draft"
            ]
          },
          "metadata": {}
        },
        {
          "output_type": "stream",
          "name": "stdout",
          "text": [
            "\n"
          ]
        },
        {
          "output_type": "display_data",
          "data": {
            "text/plain": [
              "<IPython.core.display.HTML object>"
            ],
            "text/html": [
              "In <span style=\"color: black; background-color: white; font-weight: bold;\">details</span> <span style=\"color: black; background-color: yellow; font-weight: bold;\">enter</span> all <span style=\"color: black; background-color: white; font-weight: bold;\">mandatory</span> <span style=\"color: black; background-color: white; font-weight: bold;\">details</span> and select customization as allowed digital channel as allowed <span style=\"color: black; background-color: white; font-weight: bold;\">payment</span> <span style=\"color: black; background-color: white; font-weight: bold;\">limits</span> as <span style=\"color: black; background-color: white; font-weight: bold;\">valid</span> <span style=\"color: black; background-color: white; font-weight: bold;\">limit</span> and <span style=\"color: black; background-color: yellow; font-weight: bold;\">click</span> on <span style=\"color: black; background-color: white; font-weight: bold;\">next</span> <span style=\"color: black; background-color: white; font-weight: bold;\">button</span>"
            ]
          },
          "metadata": {}
        },
        {
          "output_type": "stream",
          "name": "stdout",
          "text": [
            "\n",
            "Row 18:\n"
          ]
        },
        {
          "output_type": "display_data",
          "data": {
            "text/plain": [
              "<IPython.core.display.HTML object>"
            ],
            "text/html": [
              "<span style=\"color: black; background-color: yellow; font-weight: bold;\">Login</span> into <span style=\"color: black; background-color: white; font-weight: bold;\">ARX</span> with <span style=\"color: black; background-color: white; font-weight: bold;\">Operational</span> <span style=\"color: black; background-color: white; font-weight: bold;\">maker</span> <span style=\"color: black; background-color: white; font-weight: bold;\">credential</span>"
            ]
          },
          "metadata": {}
        },
        {
          "output_type": "stream",
          "name": "stdout",
          "text": [
            "\n"
          ]
        },
        {
          "output_type": "display_data",
          "data": {
            "text/plain": [
              "<IPython.core.display.HTML object>"
            ],
            "text/html": [
              "<span style=\"color: black; background-color: yellow; font-weight: bold;\">Click</span> On <span style=\"color: black; background-color: white; font-weight: bold;\">CIM</span>"
            ]
          },
          "metadata": {}
        },
        {
          "output_type": "stream",
          "name": "stdout",
          "text": [
            "\n"
          ]
        },
        {
          "output_type": "display_data",
          "data": {
            "text/plain": [
              "<IPython.core.display.HTML object>"
            ],
            "text/html": [
              "In <span style=\"color: black; background-color: white; font-weight: bold;\">package</span> <span style=\"color: black; background-color: white; font-weight: bold;\">tab</span> <span style=\"color: black; background-color: yellow; font-weight: bold;\">click</span> on <span style=\"color: black; background-color: white; font-weight: bold;\">create</span> <span style=\"color: black; background-color: white; font-weight: bold;\">package</span>"
            ]
          },
          "metadata": {}
        },
        {
          "output_type": "stream",
          "name": "stdout",
          "text": [
            "\n"
          ]
        },
        {
          "output_type": "display_data",
          "data": {
            "text/plain": [
              "<IPython.core.display.HTML object>"
            ],
            "text/html": [
              "In <span style=\"color: black; background-color: white; font-weight: bold;\">details</span> <span style=\"color: black; background-color: yellow; font-weight: bold;\">enter</span> all <span style=\"color: black; background-color: white; font-weight: bold;\">mandatory</span> <span style=\"color: black; background-color: white; font-weight: bold;\">details</span> and select customization as allowed digital channel as allowed <span style=\"color: black; background-color: white; font-weight: bold;\">payment</span> <span style=\"color: black; background-color: white; font-weight: bold;\">limits</span> as <span style=\"color: black; background-color: white; font-weight: bold;\">valid</span> <span style=\"color: black; background-color: white; font-weight: bold;\">limit</span> and <span style=\"color: black; background-color: yellow; font-weight: bold;\">click</span> on <span style=\"color: black; background-color: white; font-weight: bold;\">next</span> <span style=\"color: black; background-color: white; font-weight: bold;\">button</span>"
            ]
          },
          "metadata": {}
        },
        {
          "output_type": "stream",
          "name": "stdout",
          "text": [
            "\n",
            "Row 19:\n"
          ]
        },
        {
          "output_type": "display_data",
          "data": {
            "text/plain": [
              "<IPython.core.display.HTML object>"
            ],
            "text/html": [
              "<span style=\"color: black; background-color: yellow; font-weight: bold;\">Login</span> into <span style=\"color: black; background-color: white; font-weight: bold;\">ARX</span> with <span style=\"color: black; background-color: white; font-weight: bold;\">Operational</span> <span style=\"color: black; background-color: white; font-weight: bold;\">maker</span> <span style=\"color: black; background-color: white; font-weight: bold;\">credential</span>"
            ]
          },
          "metadata": {}
        },
        {
          "output_type": "stream",
          "name": "stdout",
          "text": [
            "\n"
          ]
        },
        {
          "output_type": "display_data",
          "data": {
            "text/plain": [
              "<IPython.core.display.HTML object>"
            ],
            "text/html": [
              "<span style=\"color: black; background-color: yellow; font-weight: bold;\">Click</span> On <span style=\"color: black; background-color: white; font-weight: bold;\">CIM</span>"
            ]
          },
          "metadata": {}
        },
        {
          "output_type": "stream",
          "name": "stdout",
          "text": [
            "\n"
          ]
        },
        {
          "output_type": "display_data",
          "data": {
            "text/plain": [
              "<IPython.core.display.HTML object>"
            ],
            "text/html": [
              "In <span style=\"color: black; background-color: white; font-weight: bold;\">package</span> <span style=\"color: black; background-color: white; font-weight: bold;\">tab</span> <span style=\"color: black; background-color: yellow; font-weight: bold;\">click</span> on <span style=\"color: black; background-color: yellow; font-weight: bold;\">continue</span> <span style=\"color: black; background-color: yellow; font-weight: bold;\">editing</span> <span style=\"color: black; background-color: yellow; font-weight: bold;\">opting</span> for the <span style=\"color: black; background-color: white; font-weight: bold;\">package</span> which is draft"
            ]
          },
          "metadata": {}
        },
        {
          "output_type": "stream",
          "name": "stdout",
          "text": [
            "\n"
          ]
        },
        {
          "output_type": "display_data",
          "data": {
            "text/plain": [
              "<IPython.core.display.HTML object>"
            ],
            "text/html": [
              "In <span style=\"color: black; background-color: white; font-weight: bold;\">details</span> <span style=\"color: black; background-color: yellow; font-weight: bold;\">enter</span> all <span style=\"color: black; background-color: white; font-weight: bold;\">mandatory</span> <span style=\"color: black; background-color: white; font-weight: bold;\">details</span> and select customization as allowed digital channel as allowed <span style=\"color: black; background-color: white; font-weight: bold;\">payment</span> <span style=\"color: black; background-color: white; font-weight: bold;\">limits</span> as <span style=\"color: black; background-color: white; font-weight: bold;\">valid</span> <span style=\"color: black; background-color: white; font-weight: bold;\">limit</span> and <span style=\"color: black; background-color: yellow; font-weight: bold;\">click</span> on <span style=\"color: black; background-color: white; font-weight: bold;\">next</span> <span style=\"color: black; background-color: white; font-weight: bold;\">button</span>"
            ]
          },
          "metadata": {}
        },
        {
          "output_type": "stream",
          "name": "stdout",
          "text": [
            "\n",
            "Row 20:\n"
          ]
        },
        {
          "output_type": "display_data",
          "data": {
            "text/plain": [
              "<IPython.core.display.HTML object>"
            ],
            "text/html": [
              "<span style=\"color: black; background-color: yellow; font-weight: bold;\">Login</span> into <span style=\"color: black; background-color: white; font-weight: bold;\">ARX</span> with <span style=\"color: black; background-color: white; font-weight: bold;\">Operational</span> <span style=\"color: black; background-color: white; font-weight: bold;\">maker</span> <span style=\"color: black; background-color: white; font-weight: bold;\">credential</span>"
            ]
          },
          "metadata": {}
        },
        {
          "output_type": "stream",
          "name": "stdout",
          "text": [
            "\n"
          ]
        },
        {
          "output_type": "display_data",
          "data": {
            "text/plain": [
              "<IPython.core.display.HTML object>"
            ],
            "text/html": [
              "<span style=\"color: black; background-color: yellow; font-weight: bold;\">Click</span> On <span style=\"color: black; background-color: white; font-weight: bold;\">CIM</span>"
            ]
          },
          "metadata": {}
        },
        {
          "output_type": "stream",
          "name": "stdout",
          "text": [
            "\n"
          ]
        },
        {
          "output_type": "display_data",
          "data": {
            "text/plain": [
              "<IPython.core.display.HTML object>"
            ],
            "text/html": [
              "In <span style=\"color: black; background-color: white; font-weight: bold;\">package</span> <span style=\"color: black; background-color: white; font-weight: bold;\">tab</span> <span style=\"color: black; background-color: yellow; font-weight: bold;\">click</span> on <span style=\"color: black; background-color: white; font-weight: bold;\">create</span> <span style=\"color: black; background-color: white; font-weight: bold;\">package</span>"
            ]
          },
          "metadata": {}
        },
        {
          "output_type": "stream",
          "name": "stdout",
          "text": [
            "\n"
          ]
        },
        {
          "output_type": "display_data",
          "data": {
            "text/plain": [
              "<IPython.core.display.HTML object>"
            ],
            "text/html": [
              "In <span style=\"color: black; background-color: white; font-weight: bold;\">details</span> <span style=\"color: black; background-color: yellow; font-weight: bold;\">enter</span> all <span style=\"color: black; background-color: white; font-weight: bold;\">mandatory</span> <span style=\"color: black; background-color: white; font-weight: bold;\">details</span> and select customization as allowed digital channel as allowed <span style=\"color: black; background-color: white; font-weight: bold;\">payment</span> <span style=\"color: black; background-color: white; font-weight: bold;\">limits</span> as <span style=\"color: black; background-color: white; font-weight: bold;\">valid</span> <span style=\"color: black; background-color: white; font-weight: bold;\">limit</span> and <span style=\"color: black; background-color: yellow; font-weight: bold;\">click</span> on <span style=\"color: black; background-color: white; font-weight: bold;\">next</span> <span style=\"color: black; background-color: white; font-weight: bold;\">button</span>"
            ]
          },
          "metadata": {}
        },
        {
          "output_type": "stream",
          "name": "stdout",
          "text": [
            "\n",
            "Row 21:\n"
          ]
        },
        {
          "output_type": "display_data",
          "data": {
            "text/plain": [
              "<IPython.core.display.HTML object>"
            ],
            "text/html": [
              "<span style=\"color: black; background-color: yellow; font-weight: bold;\">Login</span> into <span style=\"color: black; background-color: white; font-weight: bold;\">ARX</span> with <span style=\"color: black; background-color: white; font-weight: bold;\">Operational</span> <span style=\"color: black; background-color: white; font-weight: bold;\">maker</span> <span style=\"color: black; background-color: white; font-weight: bold;\">credential</span>"
            ]
          },
          "metadata": {}
        },
        {
          "output_type": "stream",
          "name": "stdout",
          "text": [
            "\n"
          ]
        },
        {
          "output_type": "display_data",
          "data": {
            "text/plain": [
              "<IPython.core.display.HTML object>"
            ],
            "text/html": [
              "<span style=\"color: black; background-color: yellow; font-weight: bold;\">Click</span> On <span style=\"color: black; background-color: white; font-weight: bold;\">CIM</span>"
            ]
          },
          "metadata": {}
        },
        {
          "output_type": "stream",
          "name": "stdout",
          "text": [
            "\n"
          ]
        },
        {
          "output_type": "display_data",
          "data": {
            "text/plain": [
              "<IPython.core.display.HTML object>"
            ],
            "text/html": [
              "In <span style=\"color: black; background-color: white; font-weight: bold;\">package</span> <span style=\"color: black; background-color: white; font-weight: bold;\">tab</span> <span style=\"color: black; background-color: yellow; font-weight: bold;\">click</span> on <span style=\"color: black; background-color: yellow; font-weight: bold;\">continue</span> <span style=\"color: black; background-color: yellow; font-weight: bold;\">editing</span> <span style=\"color: black; background-color: yellow; font-weight: bold;\">opting</span> for the <span style=\"color: black; background-color: white; font-weight: bold;\">package</span> which is draft"
            ]
          },
          "metadata": {}
        },
        {
          "output_type": "stream",
          "name": "stdout",
          "text": [
            "\n"
          ]
        },
        {
          "output_type": "display_data",
          "data": {
            "text/plain": [
              "<IPython.core.display.HTML object>"
            ],
            "text/html": [
              "In <span style=\"color: black; background-color: white; font-weight: bold;\">details</span> <span style=\"color: black; background-color: yellow; font-weight: bold;\">enter</span> all <span style=\"color: black; background-color: white; font-weight: bold;\">mandatory</span> <span style=\"color: black; background-color: white; font-weight: bold;\">details</span> and select customization as allowed digital channel as allowed <span style=\"color: black; background-color: white; font-weight: bold;\">payment</span> <span style=\"color: black; background-color: white; font-weight: bold;\">limits</span> as <span style=\"color: black; background-color: white; font-weight: bold;\">valid</span> <span style=\"color: black; background-color: white; font-weight: bold;\">limit</span> and <span style=\"color: black; background-color: yellow; font-weight: bold;\">click</span> on <span style=\"color: black; background-color: white; font-weight: bold;\">next</span> <span style=\"color: black; background-color: white; font-weight: bold;\">button</span>"
            ]
          },
          "metadata": {}
        },
        {
          "output_type": "stream",
          "name": "stdout",
          "text": [
            "\n",
            "Row 22:\n"
          ]
        },
        {
          "output_type": "display_data",
          "data": {
            "text/plain": [
              "<IPython.core.display.HTML object>"
            ],
            "text/html": [
              "<span style=\"color: black; background-color: yellow; font-weight: bold;\">Verify</span> the <span style=\"color: black; background-color: white; font-weight: bold;\">charge</span> <span style=\"color: black; background-color: white; font-weight: bold;\">packages</span> applicable to <span style=\"color: black; background-color: yellow; font-weight: bold;\">package</span> after <span style=\"color: black; background-color: white; font-weight: bold;\">EOD</span> when primary <span style=\"color: black; background-color: yellow; font-weight: bold;\">package</span> is expired and secondary <span style=\"color: black; background-color: yellow; font-weight: bold;\">package</span> is <span style=\"color: black; background-color: yellow; font-weight: bold;\">started</span> for the <span style=\"color: black; background-color: yellow; font-weight: bold;\">package</span> which is authorized"
            ]
          },
          "metadata": {}
        },
        {
          "output_type": "stream",
          "name": "stdout",
          "text": [
            "\n",
            "Row 23:\n"
          ]
        },
        {
          "output_type": "display_data",
          "data": {
            "text/plain": [
              "<IPython.core.display.HTML object>"
            ],
            "text/html": [
              "<span style=\"color: black; background-color: yellow; font-weight: bold;\">Verify</span> the <span style=\"color: black; background-color: white; font-weight: bold;\">charge</span> <span style=\"color: black; background-color: white; font-weight: bold;\">packages</span> applicable to <span style=\"color: black; background-color: yellow; font-weight: bold;\">package</span> after <span style=\"color: black; background-color: white; font-weight: bold;\">EOD</span> when primary <span style=\"color: black; background-color: yellow; font-weight: bold;\">package</span> is expired and secondary <span style=\"color: black; background-color: yellow; font-weight: bold;\">package</span> is <span style=\"color: black; background-color: yellow; font-weight: bold;\">started</span> for the <span style=\"color: black; background-color: yellow; font-weight: bold;\">package</span> which is draft"
            ]
          },
          "metadata": {}
        },
        {
          "output_type": "stream",
          "name": "stdout",
          "text": [
            "\n",
            "Row 24:\n"
          ]
        },
        {
          "output_type": "display_data",
          "data": {
            "text/plain": [
              "<IPython.core.display.HTML object>"
            ],
            "text/html": [
              "<span style=\"color: black; background-color: yellow; font-weight: bold;\">Verify</span> the <span style=\"color: black; background-color: white; font-weight: bold;\">charge</span> <span style=\"color: black; background-color: white; font-weight: bold;\">packages</span> applicable to <span style=\"color: black; background-color: yellow; font-weight: bold;\">package</span> after <span style=\"color: black; background-color: white; font-weight: bold;\">EOD</span> when primary <span style=\"color: black; background-color: yellow; font-weight: bold;\">package</span> is expired and secondary <span style=\"color: black; background-color: yellow; font-weight: bold;\">package</span> is <span style=\"color: black; background-color: yellow; font-weight: bold;\">started</span> for the <span style=\"color: black; background-color: yellow; font-weight: bold;\">package</span> which is pending for <span style=\"color: black; background-color: white; font-weight: bold;\">authorization</span>"
            ]
          },
          "metadata": {}
        },
        {
          "output_type": "stream",
          "name": "stdout",
          "text": [
            "\n",
            "Row 25:\n"
          ]
        },
        {
          "output_type": "display_data",
          "data": {
            "text/plain": [
              "<IPython.core.display.HTML object>"
            ],
            "text/html": [
              "<span style=\"color: black; background-color: yellow; font-weight: bold;\">Verify</span> the <span style=\"color: black; background-color: white; font-weight: bold;\">charge</span> <span style=\"color: black; background-color: white; font-weight: bold;\">packages</span> applicable to <span style=\"color: black; background-color: yellow; font-weight: bold;\">package</span> after <span style=\"color: black; background-color: white; font-weight: bold;\">EOD</span> when primary <span style=\"color: black; background-color: yellow; font-weight: bold;\">package</span> is expired and secondary <span style=\"color: black; background-color: yellow; font-weight: bold;\">package</span> is <span style=\"color: black; background-color: yellow; font-weight: bold;\">started</span> for the <span style=\"color: black; background-color: yellow; font-weight: bold;\">package</span> which is rejected"
            ]
          },
          "metadata": {}
        },
        {
          "output_type": "stream",
          "name": "stdout",
          "text": [
            "\n",
            "Row 26:\n"
          ]
        },
        {
          "output_type": "display_data",
          "data": {
            "text/plain": [
              "<IPython.core.display.HTML object>"
            ],
            "text/html": [
              "<span style=\"color: black; background-color: yellow; font-weight: bold;\">Login</span> into <span style=\"color: black; background-color: white; font-weight: bold;\">ARX</span> with <span style=\"color: black; background-color: white; font-weight: bold;\">Operational</span> <span style=\"color: black; background-color: white; font-weight: bold;\">maker</span> <span style=\"color: black; background-color: white; font-weight: bold;\">credential</span>"
            ]
          },
          "metadata": {}
        },
        {
          "output_type": "stream",
          "name": "stdout",
          "text": [
            "\n"
          ]
        },
        {
          "output_type": "display_data",
          "data": {
            "text/plain": [
              "<IPython.core.display.HTML object>"
            ],
            "text/html": [
              "<span style=\"color: black; background-color: yellow; font-weight: bold;\">Click</span> On <span style=\"color: black; background-color: white; font-weight: bold;\">CIM</span>"
            ]
          },
          "metadata": {}
        },
        {
          "output_type": "stream",
          "name": "stdout",
          "text": [
            "\n"
          ]
        },
        {
          "output_type": "display_data",
          "data": {
            "text/plain": [
              "<IPython.core.display.HTML object>"
            ],
            "text/html": [
              "In <span style=\"color: black; background-color: white; font-weight: bold;\">package</span> <span style=\"color: black; background-color: white; font-weight: bold;\">tab</span> <span style=\"color: black; background-color: yellow; font-weight: bold;\">click</span> on <span style=\"color: black; background-color: white; font-weight: bold;\">create</span> <span style=\"color: black; background-color: white; font-weight: bold;\">package</span>"
            ]
          },
          "metadata": {}
        },
        {
          "output_type": "stream",
          "name": "stdout",
          "text": [
            "\n"
          ]
        },
        {
          "output_type": "display_data",
          "data": {
            "text/plain": [
              "<IPython.core.display.HTML object>"
            ],
            "text/html": [
              "In <span style=\"color: black; background-color: white; font-weight: bold;\">details</span> <span style=\"color: black; background-color: yellow; font-weight: bold;\">enter</span> all <span style=\"color: black; background-color: white; font-weight: bold;\">mandatory</span> <span style=\"color: black; background-color: white; font-weight: bold;\">details</span> and select customization as allowed digital channel as allowed <span style=\"color: black; background-color: white; font-weight: bold;\">payment</span> <span style=\"color: black; background-color: white; font-weight: bold;\">limits</span> as <span style=\"color: black; background-color: white; font-weight: bold;\">valid</span> <span style=\"color: black; background-color: white; font-weight: bold;\">limit</span> and <span style=\"color: black; background-color: yellow; font-weight: bold;\">click</span> on <span style=\"color: black; background-color: white; font-weight: bold;\">next</span> <span style=\"color: black; background-color: white; font-weight: bold;\">button</span>"
            ]
          },
          "metadata": {}
        },
        {
          "output_type": "stream",
          "name": "stdout",
          "text": [
            "\n"
          ]
        },
        {
          "output_type": "display_data",
          "data": {
            "text/plain": [
              "<IPython.core.display.HTML object>"
            ],
            "text/html": [
              "In <span style=\"color: black; background-color: white; font-weight: bold;\">charges</span> page select billing cycle recurrence primary <span style=\"color: black; background-color: white; font-weight: bold;\">package</span> secondary <span style=\"color: black; background-color: white; font-weight: bold;\">package</span> <span style=\"color: black; background-color: yellow; font-weight: bold;\">start</span> <span style=\"color: black; background-color: white; font-weight: bold;\">date</span> as <span style=\"color: black; background-color: white; font-weight: bold;\">back</span> <span style=\"color: black; background-color: white; font-weight: bold;\">date</span>"
            ]
          },
          "metadata": {}
        },
        {
          "output_type": "stream",
          "name": "stdout",
          "text": [
            "\n",
            "Row 27:\n"
          ]
        },
        {
          "output_type": "display_data",
          "data": {
            "text/plain": [
              "<IPython.core.display.HTML object>"
            ],
            "text/html": [
              "<span style=\"color: black; background-color: yellow; font-weight: bold;\">Login</span> into <span style=\"color: black; background-color: white; font-weight: bold;\">ARX</span> with <span style=\"color: black; background-color: white; font-weight: bold;\">Operational</span> <span style=\"color: black; background-color: white; font-weight: bold;\">maker</span> <span style=\"color: black; background-color: white; font-weight: bold;\">credential</span>"
            ]
          },
          "metadata": {}
        },
        {
          "output_type": "stream",
          "name": "stdout",
          "text": [
            "\n"
          ]
        },
        {
          "output_type": "display_data",
          "data": {
            "text/plain": [
              "<IPython.core.display.HTML object>"
            ],
            "text/html": [
              "<span style=\"color: black; background-color: yellow; font-weight: bold;\">Click</span> On <span style=\"color: black; background-color: white; font-weight: bold;\">CIM</span>"
            ]
          },
          "metadata": {}
        },
        {
          "output_type": "stream",
          "name": "stdout",
          "text": [
            "\n"
          ]
        },
        {
          "output_type": "display_data",
          "data": {
            "text/plain": [
              "<IPython.core.display.HTML object>"
            ],
            "text/html": [
              "In <span style=\"color: black; background-color: white; font-weight: bold;\">package</span> <span style=\"color: black; background-color: white; font-weight: bold;\">tab</span> <span style=\"color: black; background-color: yellow; font-weight: bold;\">click</span> on <span style=\"color: black; background-color: yellow; font-weight: bold;\">continue</span> <span style=\"color: black; background-color: yellow; font-weight: bold;\">editing</span> <span style=\"color: black; background-color: yellow; font-weight: bold;\">opting</span> for the <span style=\"color: black; background-color: white; font-weight: bold;\">package</span> which is draft"
            ]
          },
          "metadata": {}
        },
        {
          "output_type": "stream",
          "name": "stdout",
          "text": [
            "\n"
          ]
        },
        {
          "output_type": "display_data",
          "data": {
            "text/plain": [
              "<IPython.core.display.HTML object>"
            ],
            "text/html": [
              "In <span style=\"color: black; background-color: white; font-weight: bold;\">details</span> <span style=\"color: black; background-color: yellow; font-weight: bold;\">enter</span> all <span style=\"color: black; background-color: white; font-weight: bold;\">mandatory</span> <span style=\"color: black; background-color: white; font-weight: bold;\">details</span> and select customization as allowed digital channel as allowed <span style=\"color: black; background-color: white; font-weight: bold;\">payment</span> <span style=\"color: black; background-color: white; font-weight: bold;\">limits</span> as <span style=\"color: black; background-color: white; font-weight: bold;\">valid</span> <span style=\"color: black; background-color: white; font-weight: bold;\">limit</span> and <span style=\"color: black; background-color: yellow; font-weight: bold;\">click</span> on <span style=\"color: black; background-color: white; font-weight: bold;\">next</span> <span style=\"color: black; background-color: white; font-weight: bold;\">button</span>"
            ]
          },
          "metadata": {}
        },
        {
          "output_type": "stream",
          "name": "stdout",
          "text": [
            "\n"
          ]
        },
        {
          "output_type": "display_data",
          "data": {
            "text/plain": [
              "<IPython.core.display.HTML object>"
            ],
            "text/html": [
              "In <span style=\"color: black; background-color: white; font-weight: bold;\">charges</span> page select billing cycle recurrence primary <span style=\"color: black; background-color: white; font-weight: bold;\">package</span> secondary <span style=\"color: black; background-color: white; font-weight: bold;\">package</span> <span style=\"color: black; background-color: yellow; font-weight: bold;\">start</span> <span style=\"color: black; background-color: white; font-weight: bold;\">date</span> as <span style=\"color: black; background-color: white; font-weight: bold;\">back</span> <span style=\"color: black; background-color: white; font-weight: bold;\">date</span>"
            ]
          },
          "metadata": {}
        },
        {
          "output_type": "stream",
          "name": "stdout",
          "text": [
            "\n",
            "Row 28:\n"
          ]
        },
        {
          "output_type": "display_data",
          "data": {
            "text/plain": [
              "<IPython.core.display.HTML object>"
            ],
            "text/html": [
              "<span style=\"color: black; background-color: yellow; font-weight: bold;\">Login</span> into <span style=\"color: black; background-color: white; font-weight: bold;\">ARX</span> with <span style=\"color: black; background-color: white; font-weight: bold;\">Operational</span> <span style=\"color: black; background-color: white; font-weight: bold;\">maker</span> <span style=\"color: black; background-color: white; font-weight: bold;\">credential</span>"
            ]
          },
          "metadata": {}
        },
        {
          "output_type": "stream",
          "name": "stdout",
          "text": [
            "\n"
          ]
        },
        {
          "output_type": "display_data",
          "data": {
            "text/plain": [
              "<IPython.core.display.HTML object>"
            ],
            "text/html": [
              "<span style=\"color: black; background-color: yellow; font-weight: bold;\">Click</span> On <span style=\"color: black; background-color: white; font-weight: bold;\">CIM</span>"
            ]
          },
          "metadata": {}
        },
        {
          "output_type": "stream",
          "name": "stdout",
          "text": [
            "\n"
          ]
        },
        {
          "output_type": "display_data",
          "data": {
            "text/plain": [
              "<IPython.core.display.HTML object>"
            ],
            "text/html": [
              "In <span style=\"color: black; background-color: white; font-weight: bold;\">package</span> <span style=\"color: black; background-color: white; font-weight: bold;\">tab</span> <span style=\"color: black; background-color: yellow; font-weight: bold;\">click</span> on <span style=\"color: black; background-color: white; font-weight: bold;\">create</span> <span style=\"color: black; background-color: white; font-weight: bold;\">package</span>"
            ]
          },
          "metadata": {}
        },
        {
          "output_type": "stream",
          "name": "stdout",
          "text": [
            "\n"
          ]
        },
        {
          "output_type": "display_data",
          "data": {
            "text/plain": [
              "<IPython.core.display.HTML object>"
            ],
            "text/html": [
              "In <span style=\"color: black; background-color: white; font-weight: bold;\">details</span> <span style=\"color: black; background-color: yellow; font-weight: bold;\">enter</span> all <span style=\"color: black; background-color: white; font-weight: bold;\">mandatory</span> <span style=\"color: black; background-color: white; font-weight: bold;\">details</span> and select customization as allowed digital channel as allowed <span style=\"color: black; background-color: white; font-weight: bold;\">payment</span> <span style=\"color: black; background-color: white; font-weight: bold;\">limits</span> as <span style=\"color: black; background-color: white; font-weight: bold;\">valid</span> <span style=\"color: black; background-color: white; font-weight: bold;\">limit</span> and <span style=\"color: black; background-color: yellow; font-weight: bold;\">click</span> on <span style=\"color: black; background-color: white; font-weight: bold;\">next</span> <span style=\"color: black; background-color: white; font-weight: bold;\">button</span>"
            ]
          },
          "metadata": {}
        },
        {
          "output_type": "stream",
          "name": "stdout",
          "text": [
            "\n",
            "Row 29:\n"
          ]
        },
        {
          "output_type": "display_data",
          "data": {
            "text/plain": [
              "<IPython.core.display.HTML object>"
            ],
            "text/html": [
              "<span style=\"color: black; background-color: yellow; font-weight: bold;\">Login</span> into <span style=\"color: black; background-color: white; font-weight: bold;\">ARX</span> with <span style=\"color: black; background-color: white; font-weight: bold;\">Operational</span> <span style=\"color: black; background-color: white; font-weight: bold;\">maker</span> <span style=\"color: black; background-color: white; font-weight: bold;\">credential</span>"
            ]
          },
          "metadata": {}
        },
        {
          "output_type": "stream",
          "name": "stdout",
          "text": [
            "\n"
          ]
        },
        {
          "output_type": "display_data",
          "data": {
            "text/plain": [
              "<IPython.core.display.HTML object>"
            ],
            "text/html": [
              "<span style=\"color: black; background-color: yellow; font-weight: bold;\">Click</span> On <span style=\"color: black; background-color: white; font-weight: bold;\">CIM</span>"
            ]
          },
          "metadata": {}
        },
        {
          "output_type": "stream",
          "name": "stdout",
          "text": [
            "\n"
          ]
        },
        {
          "output_type": "display_data",
          "data": {
            "text/plain": [
              "<IPython.core.display.HTML object>"
            ],
            "text/html": [
              "In <span style=\"color: black; background-color: white; font-weight: bold;\">package</span> <span style=\"color: black; background-color: white; font-weight: bold;\">tab</span> <span style=\"color: black; background-color: yellow; font-weight: bold;\">click</span> on <span style=\"color: black; background-color: yellow; font-weight: bold;\">continue</span> <span style=\"color: black; background-color: yellow; font-weight: bold;\">editing</span> <span style=\"color: black; background-color: yellow; font-weight: bold;\">opting</span> for the <span style=\"color: black; background-color: white; font-weight: bold;\">package</span> which is draft"
            ]
          },
          "metadata": {}
        },
        {
          "output_type": "stream",
          "name": "stdout",
          "text": [
            "\n"
          ]
        },
        {
          "output_type": "display_data",
          "data": {
            "text/plain": [
              "<IPython.core.display.HTML object>"
            ],
            "text/html": [
              "In <span style=\"color: black; background-color: white; font-weight: bold;\">details</span> <span style=\"color: black; background-color: yellow; font-weight: bold;\">enter</span> all <span style=\"color: black; background-color: white; font-weight: bold;\">mandatory</span> <span style=\"color: black; background-color: white; font-weight: bold;\">details</span> and select customization as allowed digital channel as allowed <span style=\"color: black; background-color: white; font-weight: bold;\">payment</span> <span style=\"color: black; background-color: white; font-weight: bold;\">limits</span> as <span style=\"color: black; background-color: white; font-weight: bold;\">valid</span> <span style=\"color: black; background-color: white; font-weight: bold;\">limit</span> and <span style=\"color: black; background-color: yellow; font-weight: bold;\">click</span> on <span style=\"color: black; background-color: white; font-weight: bold;\">next</span> <span style=\"color: black; background-color: white; font-weight: bold;\">button</span>"
            ]
          },
          "metadata": {}
        },
        {
          "output_type": "stream",
          "name": "stdout",
          "text": [
            "\n",
            "Row 30:\n"
          ]
        },
        {
          "output_type": "display_data",
          "data": {
            "text/plain": [
              "<IPython.core.display.HTML object>"
            ],
            "text/html": [
              "<span style=\"color: black; background-color: yellow; font-weight: bold;\">Login</span> into <span style=\"color: black; background-color: white; font-weight: bold;\">ARX</span> with <span style=\"color: black; background-color: white; font-weight: bold;\">Operational</span> <span style=\"color: black; background-color: white; font-weight: bold;\">maker</span> <span style=\"color: black; background-color: white; font-weight: bold;\">credential</span>"
            ]
          },
          "metadata": {}
        },
        {
          "output_type": "stream",
          "name": "stdout",
          "text": [
            "\n"
          ]
        },
        {
          "output_type": "display_data",
          "data": {
            "text/plain": [
              "<IPython.core.display.HTML object>"
            ],
            "text/html": [
              "<span style=\"color: black; background-color: yellow; font-weight: bold;\">Click</span> On <span style=\"color: black; background-color: white; font-weight: bold;\">CIM</span>"
            ]
          },
          "metadata": {}
        },
        {
          "output_type": "stream",
          "name": "stdout",
          "text": [
            "\n"
          ]
        },
        {
          "output_type": "display_data",
          "data": {
            "text/plain": [
              "<IPython.core.display.HTML object>"
            ],
            "text/html": [
              "In <span style=\"color: black; background-color: white; font-weight: bold;\">package</span> <span style=\"color: black; background-color: white; font-weight: bold;\">tab</span> <span style=\"color: black; background-color: yellow; font-weight: bold;\">click</span> on <span style=\"color: black; background-color: white; font-weight: bold;\">create</span> <span style=\"color: black; background-color: white; font-weight: bold;\">package</span>"
            ]
          },
          "metadata": {}
        },
        {
          "output_type": "stream",
          "name": "stdout",
          "text": [
            "\n"
          ]
        },
        {
          "output_type": "display_data",
          "data": {
            "text/plain": [
              "<IPython.core.display.HTML object>"
            ],
            "text/html": [
              "In <span style=\"color: black; background-color: white; font-weight: bold;\">details</span> <span style=\"color: black; background-color: yellow; font-weight: bold;\">enter</span> all <span style=\"color: black; background-color: white; font-weight: bold;\">mandatory</span> <span style=\"color: black; background-color: white; font-weight: bold;\">details</span> and select customization as allowed digital channel as allowed <span style=\"color: black; background-color: white; font-weight: bold;\">payment</span> <span style=\"color: black; background-color: white; font-weight: bold;\">limits</span> as <span style=\"color: black; background-color: white; font-weight: bold;\">valid</span> <span style=\"color: black; background-color: white; font-weight: bold;\">limit</span> and <span style=\"color: black; background-color: yellow; font-weight: bold;\">click</span> on <span style=\"color: black; background-color: white; font-weight: bold;\">next</span> <span style=\"color: black; background-color: white; font-weight: bold;\">button</span>"
            ]
          },
          "metadata": {}
        },
        {
          "output_type": "stream",
          "name": "stdout",
          "text": [
            "\n",
            "Row 31:\n"
          ]
        },
        {
          "output_type": "display_data",
          "data": {
            "text/plain": [
              "<IPython.core.display.HTML object>"
            ],
            "text/html": [
              "<span style=\"color: black; background-color: yellow; font-weight: bold;\">Login</span> into <span style=\"color: black; background-color: white; font-weight: bold;\">ARX</span> with <span style=\"color: black; background-color: white; font-weight: bold;\">Operational</span> <span style=\"color: black; background-color: white; font-weight: bold;\">maker</span> <span style=\"color: black; background-color: white; font-weight: bold;\">credential</span>"
            ]
          },
          "metadata": {}
        },
        {
          "output_type": "stream",
          "name": "stdout",
          "text": [
            "\n"
          ]
        },
        {
          "output_type": "display_data",
          "data": {
            "text/plain": [
              "<IPython.core.display.HTML object>"
            ],
            "text/html": [
              "<span style=\"color: black; background-color: yellow; font-weight: bold;\">Click</span> On <span style=\"color: black; background-color: white; font-weight: bold;\">CIM</span>"
            ]
          },
          "metadata": {}
        },
        {
          "output_type": "stream",
          "name": "stdout",
          "text": [
            "\n"
          ]
        },
        {
          "output_type": "display_data",
          "data": {
            "text/plain": [
              "<IPython.core.display.HTML object>"
            ],
            "text/html": [
              "In <span style=\"color: black; background-color: white; font-weight: bold;\">package</span> <span style=\"color: black; background-color: white; font-weight: bold;\">tab</span> <span style=\"color: black; background-color: yellow; font-weight: bold;\">click</span> on <span style=\"color: black; background-color: yellow; font-weight: bold;\">continue</span> <span style=\"color: black; background-color: yellow; font-weight: bold;\">editing</span> <span style=\"color: black; background-color: yellow; font-weight: bold;\">opting</span> for the <span style=\"color: black; background-color: white; font-weight: bold;\">package</span> which is draft"
            ]
          },
          "metadata": {}
        },
        {
          "output_type": "stream",
          "name": "stdout",
          "text": [
            "\n"
          ]
        },
        {
          "output_type": "display_data",
          "data": {
            "text/plain": [
              "<IPython.core.display.HTML object>"
            ],
            "text/html": [
              "In <span style=\"color: black; background-color: white; font-weight: bold;\">details</span> <span style=\"color: black; background-color: yellow; font-weight: bold;\">enter</span> all <span style=\"color: black; background-color: white; font-weight: bold;\">mandatory</span> <span style=\"color: black; background-color: white; font-weight: bold;\">details</span> and select customization as allowed digital channel as allowed <span style=\"color: black; background-color: white; font-weight: bold;\">payment</span> <span style=\"color: black; background-color: white; font-weight: bold;\">limits</span> as <span style=\"color: black; background-color: white; font-weight: bold;\">valid</span> <span style=\"color: black; background-color: white; font-weight: bold;\">limit</span> and <span style=\"color: black; background-color: yellow; font-weight: bold;\">click</span> on <span style=\"color: black; background-color: white; font-weight: bold;\">next</span> <span style=\"color: black; background-color: white; font-weight: bold;\">button</span>"
            ]
          },
          "metadata": {}
        },
        {
          "output_type": "stream",
          "name": "stdout",
          "text": [
            "\n",
            "Row 32:\n"
          ]
        },
        {
          "output_type": "display_data",
          "data": {
            "text/plain": [
              "<IPython.core.display.HTML object>"
            ],
            "text/html": [
              "<span style=\"color: black; background-color: yellow; font-weight: bold;\">Login</span> into <span style=\"color: black; background-color: white; font-weight: bold;\">ARX</span> with <span style=\"color: black; background-color: white; font-weight: bold;\">Operational</span> <span style=\"color: black; background-color: white; font-weight: bold;\">maker</span> <span style=\"color: black; background-color: white; font-weight: bold;\">credential</span>"
            ]
          },
          "metadata": {}
        },
        {
          "output_type": "stream",
          "name": "stdout",
          "text": [
            "\n"
          ]
        },
        {
          "output_type": "display_data",
          "data": {
            "text/plain": [
              "<IPython.core.display.HTML object>"
            ],
            "text/html": [
              "<span style=\"color: black; background-color: yellow; font-weight: bold;\">Click</span> On <span style=\"color: black; background-color: white; font-weight: bold;\">CIM</span>"
            ]
          },
          "metadata": {}
        },
        {
          "output_type": "stream",
          "name": "stdout",
          "text": [
            "\n"
          ]
        },
        {
          "output_type": "display_data",
          "data": {
            "text/plain": [
              "<IPython.core.display.HTML object>"
            ],
            "text/html": [
              "In <span style=\"color: black; background-color: white; font-weight: bold;\">package</span> <span style=\"color: black; background-color: white; font-weight: bold;\">tab</span> <span style=\"color: black; background-color: yellow; font-weight: bold;\">click</span> on <span style=\"color: black; background-color: white; font-weight: bold;\">create</span> <span style=\"color: black; background-color: white; font-weight: bold;\">package</span>"
            ]
          },
          "metadata": {}
        },
        {
          "output_type": "stream",
          "name": "stdout",
          "text": [
            "\n"
          ]
        },
        {
          "output_type": "display_data",
          "data": {
            "text/plain": [
              "<IPython.core.display.HTML object>"
            ],
            "text/html": [
              "In <span style=\"color: black; background-color: white; font-weight: bold;\">details</span> <span style=\"color: black; background-color: yellow; font-weight: bold;\">enter</span> all <span style=\"color: black; background-color: white; font-weight: bold;\">mandatory</span> <span style=\"color: black; background-color: white; font-weight: bold;\">details</span> and select customization as allowed digital channel as allowed <span style=\"color: black; background-color: white; font-weight: bold;\">payment</span> <span style=\"color: black; background-color: white; font-weight: bold;\">limits</span> as <span style=\"color: black; background-color: white; font-weight: bold;\">valid</span> <span style=\"color: black; background-color: white; font-weight: bold;\">limit</span> and <span style=\"color: black; background-color: yellow; font-weight: bold;\">click</span> on <span style=\"color: black; background-color: white; font-weight: bold;\">next</span> <span style=\"color: black; background-color: white; font-weight: bold;\">button</span>"
            ]
          },
          "metadata": {}
        },
        {
          "output_type": "stream",
          "name": "stdout",
          "text": [
            "\n",
            "Row 33:\n"
          ]
        },
        {
          "output_type": "display_data",
          "data": {
            "text/plain": [
              "<IPython.core.display.HTML object>"
            ],
            "text/html": [
              "<span style=\"color: black; background-color: yellow; font-weight: bold;\">Login</span> into <span style=\"color: black; background-color: white; font-weight: bold;\">ARX</span> with <span style=\"color: black; background-color: white; font-weight: bold;\">Operational</span> <span style=\"color: black; background-color: white; font-weight: bold;\">maker</span> <span style=\"color: black; background-color: white; font-weight: bold;\">credential</span>"
            ]
          },
          "metadata": {}
        },
        {
          "output_type": "stream",
          "name": "stdout",
          "text": [
            "\n"
          ]
        },
        {
          "output_type": "display_data",
          "data": {
            "text/plain": [
              "<IPython.core.display.HTML object>"
            ],
            "text/html": [
              "<span style=\"color: black; background-color: yellow; font-weight: bold;\">Click</span> On <span style=\"color: black; background-color: white; font-weight: bold;\">CIM</span>"
            ]
          },
          "metadata": {}
        },
        {
          "output_type": "stream",
          "name": "stdout",
          "text": [
            "\n"
          ]
        },
        {
          "output_type": "display_data",
          "data": {
            "text/plain": [
              "<IPython.core.display.HTML object>"
            ],
            "text/html": [
              "In <span style=\"color: black; background-color: white; font-weight: bold;\">package</span> <span style=\"color: black; background-color: white; font-weight: bold;\">tab</span> <span style=\"color: black; background-color: yellow; font-weight: bold;\">click</span> on <span style=\"color: black; background-color: yellow; font-weight: bold;\">continue</span> <span style=\"color: black; background-color: yellow; font-weight: bold;\">editing</span> <span style=\"color: black; background-color: yellow; font-weight: bold;\">opting</span> for the <span style=\"color: black; background-color: white; font-weight: bold;\">package</span> which is draft"
            ]
          },
          "metadata": {}
        },
        {
          "output_type": "stream",
          "name": "stdout",
          "text": [
            "\n"
          ]
        },
        {
          "output_type": "display_data",
          "data": {
            "text/plain": [
              "<IPython.core.display.HTML object>"
            ],
            "text/html": [
              "In <span style=\"color: black; background-color: white; font-weight: bold;\">details</span> <span style=\"color: black; background-color: yellow; font-weight: bold;\">enter</span> all <span style=\"color: black; background-color: white; font-weight: bold;\">mandatory</span> <span style=\"color: black; background-color: white; font-weight: bold;\">details</span> and select customization as allowed digital channel as allowed <span style=\"color: black; background-color: white; font-weight: bold;\">payment</span> <span style=\"color: black; background-color: white; font-weight: bold;\">limits</span> as <span style=\"color: black; background-color: white; font-weight: bold;\">valid</span> <span style=\"color: black; background-color: white; font-weight: bold;\">limit</span> and <span style=\"color: black; background-color: yellow; font-weight: bold;\">click</span> on <span style=\"color: black; background-color: white; font-weight: bold;\">next</span> <span style=\"color: black; background-color: white; font-weight: bold;\">button</span>"
            ]
          },
          "metadata": {}
        },
        {
          "output_type": "stream",
          "name": "stdout",
          "text": [
            "\n",
            "Row 34:\n"
          ]
        },
        {
          "output_type": "display_data",
          "data": {
            "text/plain": [
              "<IPython.core.display.HTML object>"
            ],
            "text/html": [
              "<span style=\"color: black; background-color: yellow; font-weight: bold;\">Login</span> into <span style=\"color: black; background-color: white; font-weight: bold;\">ARX</span> with <span style=\"color: black; background-color: white; font-weight: bold;\">Operational</span> <span style=\"color: black; background-color: white; font-weight: bold;\">maker</span> <span style=\"color: black; background-color: white; font-weight: bold;\">credential</span>"
            ]
          },
          "metadata": {}
        },
        {
          "output_type": "stream",
          "name": "stdout",
          "text": [
            "\n"
          ]
        },
        {
          "output_type": "display_data",
          "data": {
            "text/plain": [
              "<IPython.core.display.HTML object>"
            ],
            "text/html": [
              "<span style=\"color: black; background-color: yellow; font-weight: bold;\">Click</span> On <span style=\"color: black; background-color: white; font-weight: bold;\">CIM</span>"
            ]
          },
          "metadata": {}
        },
        {
          "output_type": "stream",
          "name": "stdout",
          "text": [
            "\n"
          ]
        },
        {
          "output_type": "display_data",
          "data": {
            "text/plain": [
              "<IPython.core.display.HTML object>"
            ],
            "text/html": [
              "In <span style=\"color: black; background-color: white; font-weight: bold;\">package</span> <span style=\"color: black; background-color: white; font-weight: bold;\">tab</span> <span style=\"color: black; background-color: yellow; font-weight: bold;\">click</span> on <span style=\"color: black; background-color: white; font-weight: bold;\">create</span> <span style=\"color: black; background-color: white; font-weight: bold;\">package</span>"
            ]
          },
          "metadata": {}
        },
        {
          "output_type": "stream",
          "name": "stdout",
          "text": [
            "\n"
          ]
        },
        {
          "output_type": "display_data",
          "data": {
            "text/plain": [
              "<IPython.core.display.HTML object>"
            ],
            "text/html": [
              "In <span style=\"color: black; background-color: white; font-weight: bold;\">details</span> <span style=\"color: black; background-color: yellow; font-weight: bold;\">enter</span> all <span style=\"color: black; background-color: white; font-weight: bold;\">mandatory</span> <span style=\"color: black; background-color: white; font-weight: bold;\">details</span> and select customization as allowed digital channel as allowed <span style=\"color: black; background-color: white; font-weight: bold;\">payment</span> <span style=\"color: black; background-color: white; font-weight: bold;\">limits</span> as <span style=\"color: black; background-color: white; font-weight: bold;\">valid</span> <span style=\"color: black; background-color: white; font-weight: bold;\">limit</span> and <span style=\"color: black; background-color: yellow; font-weight: bold;\">click</span> on <span style=\"color: black; background-color: white; font-weight: bold;\">next</span> <span style=\"color: black; background-color: white; font-weight: bold;\">button</span>"
            ]
          },
          "metadata": {}
        },
        {
          "output_type": "stream",
          "name": "stdout",
          "text": [
            "\n",
            "Row 35:\n"
          ]
        },
        {
          "output_type": "display_data",
          "data": {
            "text/plain": [
              "<IPython.core.display.HTML object>"
            ],
            "text/html": [
              "<span style=\"color: black; background-color: yellow; font-weight: bold;\">Login</span> into <span style=\"color: black; background-color: white; font-weight: bold;\">ARX</span> with <span style=\"color: black; background-color: white; font-weight: bold;\">Operational</span> <span style=\"color: black; background-color: white; font-weight: bold;\">maker</span> <span style=\"color: black; background-color: white; font-weight: bold;\">credential</span>"
            ]
          },
          "metadata": {}
        },
        {
          "output_type": "stream",
          "name": "stdout",
          "text": [
            "\n"
          ]
        },
        {
          "output_type": "display_data",
          "data": {
            "text/plain": [
              "<IPython.core.display.HTML object>"
            ],
            "text/html": [
              "<span style=\"color: black; background-color: yellow; font-weight: bold;\">Click</span> On <span style=\"color: black; background-color: white; font-weight: bold;\">CIM</span>"
            ]
          },
          "metadata": {}
        },
        {
          "output_type": "stream",
          "name": "stdout",
          "text": [
            "\n"
          ]
        },
        {
          "output_type": "display_data",
          "data": {
            "text/plain": [
              "<IPython.core.display.HTML object>"
            ],
            "text/html": [
              "In <span style=\"color: black; background-color: white; font-weight: bold;\">package</span> <span style=\"color: black; background-color: white; font-weight: bold;\">tab</span> <span style=\"color: black; background-color: yellow; font-weight: bold;\">click</span> on <span style=\"color: black; background-color: yellow; font-weight: bold;\">continue</span> <span style=\"color: black; background-color: yellow; font-weight: bold;\">editing</span> <span style=\"color: black; background-color: yellow; font-weight: bold;\">opting</span> for the <span style=\"color: black; background-color: white; font-weight: bold;\">package</span> which is draft"
            ]
          },
          "metadata": {}
        },
        {
          "output_type": "stream",
          "name": "stdout",
          "text": [
            "\n"
          ]
        },
        {
          "output_type": "display_data",
          "data": {
            "text/plain": [
              "<IPython.core.display.HTML object>"
            ],
            "text/html": [
              "In <span style=\"color: black; background-color: white; font-weight: bold;\">details</span> <span style=\"color: black; background-color: yellow; font-weight: bold;\">enter</span> all <span style=\"color: black; background-color: white; font-weight: bold;\">mandatory</span> <span style=\"color: black; background-color: white; font-weight: bold;\">details</span> and select customization as allowed digital channel as allowed <span style=\"color: black; background-color: white; font-weight: bold;\">payment</span> <span style=\"color: black; background-color: white; font-weight: bold;\">limits</span> as <span style=\"color: black; background-color: white; font-weight: bold;\">valid</span> <span style=\"color: black; background-color: white; font-weight: bold;\">limit</span> and <span style=\"color: black; background-color: yellow; font-weight: bold;\">click</span> on <span style=\"color: black; background-color: white; font-weight: bold;\">next</span> <span style=\"color: black; background-color: white; font-weight: bold;\">button</span>"
            ]
          },
          "metadata": {}
        },
        {
          "output_type": "stream",
          "name": "stdout",
          "text": [
            "\n",
            "Row 36:\n"
          ]
        },
        {
          "output_type": "display_data",
          "data": {
            "text/plain": [
              "<IPython.core.display.HTML object>"
            ],
            "text/html": [
              "<span style=\"color: black; background-color: yellow; font-weight: bold;\">Login</span> into <span style=\"color: black; background-color: white; font-weight: bold;\">ARX</span> with <span style=\"color: black; background-color: white; font-weight: bold;\">Operational</span> <span style=\"color: black; background-color: white; font-weight: bold;\">maker</span> <span style=\"color: black; background-color: white; font-weight: bold;\">credential</span>"
            ]
          },
          "metadata": {}
        },
        {
          "output_type": "stream",
          "name": "stdout",
          "text": [
            "\n"
          ]
        },
        {
          "output_type": "display_data",
          "data": {
            "text/plain": [
              "<IPython.core.display.HTML object>"
            ],
            "text/html": [
              "<span style=\"color: black; background-color: yellow; font-weight: bold;\">Click</span> On <span style=\"color: black; background-color: white; font-weight: bold;\">CIM</span>"
            ]
          },
          "metadata": {}
        },
        {
          "output_type": "stream",
          "name": "stdout",
          "text": [
            "\n"
          ]
        },
        {
          "output_type": "display_data",
          "data": {
            "text/plain": [
              "<IPython.core.display.HTML object>"
            ],
            "text/html": [
              "In <span style=\"color: black; background-color: white; font-weight: bold;\">package</span> <span style=\"color: black; background-color: white; font-weight: bold;\">tab</span> <span style=\"color: black; background-color: yellow; font-weight: bold;\">click</span> on <span style=\"color: black; background-color: white; font-weight: bold;\">create</span> <span style=\"color: black; background-color: white; font-weight: bold;\">package</span>"
            ]
          },
          "metadata": {}
        },
        {
          "output_type": "stream",
          "name": "stdout",
          "text": [
            "\n"
          ]
        },
        {
          "output_type": "display_data",
          "data": {
            "text/plain": [
              "<IPython.core.display.HTML object>"
            ],
            "text/html": [
              "In <span style=\"color: black; background-color: white; font-weight: bold;\">details</span> <span style=\"color: black; background-color: yellow; font-weight: bold;\">enter</span> all <span style=\"color: black; background-color: white; font-weight: bold;\">mandatory</span> <span style=\"color: black; background-color: white; font-weight: bold;\">details</span> and select customization as allowed digital channel as allowed <span style=\"color: black; background-color: white; font-weight: bold;\">payment</span> <span style=\"color: black; background-color: white; font-weight: bold;\">limits</span> as <span style=\"color: black; background-color: white; font-weight: bold;\">valid</span> <span style=\"color: black; background-color: white; font-weight: bold;\">limit</span> and <span style=\"color: black; background-color: yellow; font-weight: bold;\">click</span> on <span style=\"color: black; background-color: white; font-weight: bold;\">next</span> <span style=\"color: black; background-color: white; font-weight: bold;\">button</span>"
            ]
          },
          "metadata": {}
        },
        {
          "output_type": "stream",
          "name": "stdout",
          "text": [
            "\n",
            "Row 37:\n"
          ]
        },
        {
          "output_type": "display_data",
          "data": {
            "text/plain": [
              "<IPython.core.display.HTML object>"
            ],
            "text/html": [
              "<span style=\"color: black; background-color: yellow; font-weight: bold;\">Login</span> into <span style=\"color: black; background-color: white; font-weight: bold;\">ARX</span> with <span style=\"color: black; background-color: white; font-weight: bold;\">Operational</span> <span style=\"color: black; background-color: white; font-weight: bold;\">maker</span> <span style=\"color: black; background-color: white; font-weight: bold;\">credential</span>"
            ]
          },
          "metadata": {}
        },
        {
          "output_type": "stream",
          "name": "stdout",
          "text": [
            "\n"
          ]
        },
        {
          "output_type": "display_data",
          "data": {
            "text/plain": [
              "<IPython.core.display.HTML object>"
            ],
            "text/html": [
              "<span style=\"color: black; background-color: yellow; font-weight: bold;\">Click</span> On <span style=\"color: black; background-color: white; font-weight: bold;\">CIM</span>"
            ]
          },
          "metadata": {}
        },
        {
          "output_type": "stream",
          "name": "stdout",
          "text": [
            "\n"
          ]
        },
        {
          "output_type": "display_data",
          "data": {
            "text/plain": [
              "<IPython.core.display.HTML object>"
            ],
            "text/html": [
              "In <span style=\"color: black; background-color: white; font-weight: bold;\">package</span> <span style=\"color: black; background-color: white; font-weight: bold;\">tab</span> <span style=\"color: black; background-color: yellow; font-weight: bold;\">click</span> on <span style=\"color: black; background-color: yellow; font-weight: bold;\">continue</span> <span style=\"color: black; background-color: yellow; font-weight: bold;\">editing</span> <span style=\"color: black; background-color: yellow; font-weight: bold;\">opting</span> for the <span style=\"color: black; background-color: white; font-weight: bold;\">package</span> which is draft"
            ]
          },
          "metadata": {}
        },
        {
          "output_type": "stream",
          "name": "stdout",
          "text": [
            "\n"
          ]
        },
        {
          "output_type": "display_data",
          "data": {
            "text/plain": [
              "<IPython.core.display.HTML object>"
            ],
            "text/html": [
              "In <span style=\"color: black; background-color: white; font-weight: bold;\">details</span> <span style=\"color: black; background-color: yellow; font-weight: bold;\">enter</span> all <span style=\"color: black; background-color: white; font-weight: bold;\">mandatory</span> <span style=\"color: black; background-color: white; font-weight: bold;\">details</span> and select customization as allowed digital channel as allowed <span style=\"color: black; background-color: white; font-weight: bold;\">payment</span> <span style=\"color: black; background-color: white; font-weight: bold;\">limits</span> as <span style=\"color: black; background-color: white; font-weight: bold;\">valid</span> <span style=\"color: black; background-color: white; font-weight: bold;\">limit</span> and <span style=\"color: black; background-color: yellow; font-weight: bold;\">click</span> on <span style=\"color: black; background-color: white; font-weight: bold;\">next</span> <span style=\"color: black; background-color: white; font-weight: bold;\">button</span>"
            ]
          },
          "metadata": {}
        },
        {
          "output_type": "stream",
          "name": "stdout",
          "text": [
            "\n",
            "Row 38:\n"
          ]
        },
        {
          "output_type": "display_data",
          "data": {
            "text/plain": [
              "<IPython.core.display.HTML object>"
            ],
            "text/html": [
              "<span style=\"color: black; background-color: yellow; font-weight: bold;\">Login</span> into <span style=\"color: black; background-color: white; font-weight: bold;\">ARX</span> with <span style=\"color: black; background-color: white; font-weight: bold;\">Operational</span> <span style=\"color: black; background-color: white; font-weight: bold;\">maker</span> <span style=\"color: black; background-color: white; font-weight: bold;\">credential</span>"
            ]
          },
          "metadata": {}
        },
        {
          "output_type": "stream",
          "name": "stdout",
          "text": [
            "\n"
          ]
        },
        {
          "output_type": "display_data",
          "data": {
            "text/plain": [
              "<IPython.core.display.HTML object>"
            ],
            "text/html": [
              "<span style=\"color: black; background-color: yellow; font-weight: bold;\">Click</span> On <span style=\"color: black; background-color: white; font-weight: bold;\">CIM</span>"
            ]
          },
          "metadata": {}
        },
        {
          "output_type": "stream",
          "name": "stdout",
          "text": [
            "\n"
          ]
        },
        {
          "output_type": "display_data",
          "data": {
            "text/plain": [
              "<IPython.core.display.HTML object>"
            ],
            "text/html": [
              "In <span style=\"color: black; background-color: white; font-weight: bold;\">package</span> <span style=\"color: black; background-color: white; font-weight: bold;\">tab</span> <span style=\"color: black; background-color: yellow; font-weight: bold;\">click</span> on <span style=\"color: black; background-color: white; font-weight: bold;\">create</span> <span style=\"color: black; background-color: white; font-weight: bold;\">package</span>"
            ]
          },
          "metadata": {}
        },
        {
          "output_type": "stream",
          "name": "stdout",
          "text": [
            "\n"
          ]
        },
        {
          "output_type": "display_data",
          "data": {
            "text/plain": [
              "<IPython.core.display.HTML object>"
            ],
            "text/html": [
              "In <span style=\"color: black; background-color: white; font-weight: bold;\">details</span> <span style=\"color: black; background-color: yellow; font-weight: bold;\">enter</span> all <span style=\"color: black; background-color: white; font-weight: bold;\">mandatory</span> <span style=\"color: black; background-color: white; font-weight: bold;\">details</span> and select customization as allowed digital channel as allowed <span style=\"color: black; background-color: white; font-weight: bold;\">payment</span> <span style=\"color: black; background-color: white; font-weight: bold;\">limits</span> as <span style=\"color: black; background-color: white; font-weight: bold;\">valid</span> <span style=\"color: black; background-color: white; font-weight: bold;\">limit</span> and <span style=\"color: black; background-color: yellow; font-weight: bold;\">click</span> on <span style=\"color: black; background-color: white; font-weight: bold;\">next</span> <span style=\"color: black; background-color: white; font-weight: bold;\">button</span>"
            ]
          },
          "metadata": {}
        },
        {
          "output_type": "stream",
          "name": "stdout",
          "text": [
            "\n",
            "Row 39:\n"
          ]
        },
        {
          "output_type": "display_data",
          "data": {
            "text/plain": [
              "<IPython.core.display.HTML object>"
            ],
            "text/html": [
              "<span style=\"color: black; background-color: yellow; font-weight: bold;\">Login</span> into <span style=\"color: black; background-color: white; font-weight: bold;\">ARX</span> with <span style=\"color: black; background-color: white; font-weight: bold;\">Operational</span> <span style=\"color: black; background-color: white; font-weight: bold;\">maker</span> <span style=\"color: black; background-color: white; font-weight: bold;\">credential</span>"
            ]
          },
          "metadata": {}
        },
        {
          "output_type": "stream",
          "name": "stdout",
          "text": [
            "\n"
          ]
        },
        {
          "output_type": "display_data",
          "data": {
            "text/plain": [
              "<IPython.core.display.HTML object>"
            ],
            "text/html": [
              "<span style=\"color: black; background-color: yellow; font-weight: bold;\">Click</span> On <span style=\"color: black; background-color: white; font-weight: bold;\">CIM</span>"
            ]
          },
          "metadata": {}
        },
        {
          "output_type": "stream",
          "name": "stdout",
          "text": [
            "\n"
          ]
        },
        {
          "output_type": "display_data",
          "data": {
            "text/plain": [
              "<IPython.core.display.HTML object>"
            ],
            "text/html": [
              "In <span style=\"color: black; background-color: white; font-weight: bold;\">package</span> <span style=\"color: black; background-color: white; font-weight: bold;\">tab</span> <span style=\"color: black; background-color: yellow; font-weight: bold;\">click</span> on <span style=\"color: black; background-color: yellow; font-weight: bold;\">continue</span> <span style=\"color: black; background-color: yellow; font-weight: bold;\">editing</span> <span style=\"color: black; background-color: yellow; font-weight: bold;\">opting</span> for the <span style=\"color: black; background-color: white; font-weight: bold;\">package</span> which is draft"
            ]
          },
          "metadata": {}
        },
        {
          "output_type": "stream",
          "name": "stdout",
          "text": [
            "\n"
          ]
        },
        {
          "output_type": "display_data",
          "data": {
            "text/plain": [
              "<IPython.core.display.HTML object>"
            ],
            "text/html": [
              "In <span style=\"color: black; background-color: white; font-weight: bold;\">details</span> <span style=\"color: black; background-color: yellow; font-weight: bold;\">enter</span> all <span style=\"color: black; background-color: white; font-weight: bold;\">mandatory</span> <span style=\"color: black; background-color: white; font-weight: bold;\">details</span> and select customization as allowed digital channel as allowed <span style=\"color: black; background-color: white; font-weight: bold;\">payment</span> <span style=\"color: black; background-color: white; font-weight: bold;\">limits</span> as <span style=\"color: black; background-color: white; font-weight: bold;\">valid</span> <span style=\"color: black; background-color: white; font-weight: bold;\">limit</span> and <span style=\"color: black; background-color: yellow; font-weight: bold;\">click</span> on <span style=\"color: black; background-color: white; font-weight: bold;\">next</span> <span style=\"color: black; background-color: white; font-weight: bold;\">button</span>"
            ]
          },
          "metadata": {}
        },
        {
          "output_type": "stream",
          "name": "stdout",
          "text": [
            "\n",
            "Row 40:\n"
          ]
        },
        {
          "output_type": "display_data",
          "data": {
            "text/plain": [
              "<IPython.core.display.HTML object>"
            ],
            "text/html": [
              "<span style=\"color: black; background-color: yellow; font-weight: bold;\">Login</span> into <span style=\"color: black; background-color: white; font-weight: bold;\">ARX</span> with <span style=\"color: black; background-color: white; font-weight: bold;\">Operational</span> <span style=\"color: black; background-color: white; font-weight: bold;\">maker</span> <span style=\"color: black; background-color: white; font-weight: bold;\">credential</span>"
            ]
          },
          "metadata": {}
        },
        {
          "output_type": "stream",
          "name": "stdout",
          "text": [
            "\n"
          ]
        },
        {
          "output_type": "display_data",
          "data": {
            "text/plain": [
              "<IPython.core.display.HTML object>"
            ],
            "text/html": [
              "<span style=\"color: black; background-color: yellow; font-weight: bold;\">Click</span> On <span style=\"color: black; background-color: white; font-weight: bold;\">CIM</span>"
            ]
          },
          "metadata": {}
        },
        {
          "output_type": "stream",
          "name": "stdout",
          "text": [
            "\n"
          ]
        },
        {
          "output_type": "display_data",
          "data": {
            "text/plain": [
              "<IPython.core.display.HTML object>"
            ],
            "text/html": [
              "In <span style=\"color: black; background-color: white; font-weight: bold;\">package</span> <span style=\"color: black; background-color: white; font-weight: bold;\">tab</span> <span style=\"color: black; background-color: yellow; font-weight: bold;\">click</span> on <span style=\"color: black; background-color: white; font-weight: bold;\">create</span> <span style=\"color: black; background-color: white; font-weight: bold;\">package</span>"
            ]
          },
          "metadata": {}
        },
        {
          "output_type": "stream",
          "name": "stdout",
          "text": [
            "\n"
          ]
        },
        {
          "output_type": "display_data",
          "data": {
            "text/plain": [
              "<IPython.core.display.HTML object>"
            ],
            "text/html": [
              "In <span style=\"color: black; background-color: white; font-weight: bold;\">details</span> <span style=\"color: black; background-color: yellow; font-weight: bold;\">enter</span> all <span style=\"color: black; background-color: white; font-weight: bold;\">mandatory</span> <span style=\"color: black; background-color: white; font-weight: bold;\">details</span> and select customization as allowed digital channel as allowed <span style=\"color: black; background-color: white; font-weight: bold;\">payment</span> <span style=\"color: black; background-color: white; font-weight: bold;\">limits</span> as <span style=\"color: black; background-color: white; font-weight: bold;\">valid</span> <span style=\"color: black; background-color: white; font-weight: bold;\">limit</span> and <span style=\"color: black; background-color: yellow; font-weight: bold;\">click</span> on <span style=\"color: black; background-color: white; font-weight: bold;\">next</span> <span style=\"color: black; background-color: white; font-weight: bold;\">button</span>"
            ]
          },
          "metadata": {}
        },
        {
          "output_type": "stream",
          "name": "stdout",
          "text": [
            "\n",
            "Row 41:\n"
          ]
        },
        {
          "output_type": "display_data",
          "data": {
            "text/plain": [
              "<IPython.core.display.HTML object>"
            ],
            "text/html": [
              "<span style=\"color: black; background-color: yellow; font-weight: bold;\">Login</span> into <span style=\"color: black; background-color: white; font-weight: bold;\">ARX</span> with <span style=\"color: black; background-color: white; font-weight: bold;\">Operational</span> <span style=\"color: black; background-color: white; font-weight: bold;\">maker</span> <span style=\"color: black; background-color: white; font-weight: bold;\">credential</span>"
            ]
          },
          "metadata": {}
        },
        {
          "output_type": "stream",
          "name": "stdout",
          "text": [
            "\n"
          ]
        },
        {
          "output_type": "display_data",
          "data": {
            "text/plain": [
              "<IPython.core.display.HTML object>"
            ],
            "text/html": [
              "<span style=\"color: black; background-color: yellow; font-weight: bold;\">Click</span> On <span style=\"color: black; background-color: white; font-weight: bold;\">CIM</span>"
            ]
          },
          "metadata": {}
        },
        {
          "output_type": "stream",
          "name": "stdout",
          "text": [
            "\n"
          ]
        },
        {
          "output_type": "display_data",
          "data": {
            "text/plain": [
              "<IPython.core.display.HTML object>"
            ],
            "text/html": [
              "In <span style=\"color: black; background-color: white; font-weight: bold;\">package</span> <span style=\"color: black; background-color: white; font-weight: bold;\">tab</span> <span style=\"color: black; background-color: yellow; font-weight: bold;\">click</span> on <span style=\"color: black; background-color: yellow; font-weight: bold;\">continue</span> <span style=\"color: black; background-color: yellow; font-weight: bold;\">editing</span> <span style=\"color: black; background-color: yellow; font-weight: bold;\">opting</span> for the <span style=\"color: black; background-color: white; font-weight: bold;\">package</span> which is draft"
            ]
          },
          "metadata": {}
        },
        {
          "output_type": "stream",
          "name": "stdout",
          "text": [
            "\n"
          ]
        },
        {
          "output_type": "display_data",
          "data": {
            "text/plain": [
              "<IPython.core.display.HTML object>"
            ],
            "text/html": [
              "In <span style=\"color: black; background-color: white; font-weight: bold;\">details</span> <span style=\"color: black; background-color: yellow; font-weight: bold;\">enter</span> all <span style=\"color: black; background-color: white; font-weight: bold;\">mandatory</span> <span style=\"color: black; background-color: white; font-weight: bold;\">details</span> and select customization as allowed digital channel as allowed <span style=\"color: black; background-color: white; font-weight: bold;\">payment</span> <span style=\"color: black; background-color: white; font-weight: bold;\">limits</span> as <span style=\"color: black; background-color: white; font-weight: bold;\">valid</span> <span style=\"color: black; background-color: white; font-weight: bold;\">limit</span> and <span style=\"color: black; background-color: yellow; font-weight: bold;\">click</span> on <span style=\"color: black; background-color: white; font-weight: bold;\">next</span> <span style=\"color: black; background-color: white; font-weight: bold;\">button</span>"
            ]
          },
          "metadata": {}
        },
        {
          "output_type": "stream",
          "name": "stdout",
          "text": [
            "\n",
            "Row 42:\n"
          ]
        },
        {
          "output_type": "display_data",
          "data": {
            "text/plain": [
              "<IPython.core.display.HTML object>"
            ],
            "text/html": [
              "<span style=\"color: black; background-color: yellow; font-weight: bold;\">Login</span> into <span style=\"color: black; background-color: white; font-weight: bold;\">ARX</span> with <span style=\"color: black; background-color: white; font-weight: bold;\">Operational</span> <span style=\"color: black; background-color: white; font-weight: bold;\">maker</span> <span style=\"color: black; background-color: white; font-weight: bold;\">credential</span>"
            ]
          },
          "metadata": {}
        },
        {
          "output_type": "stream",
          "name": "stdout",
          "text": [
            "\n"
          ]
        },
        {
          "output_type": "display_data",
          "data": {
            "text/plain": [
              "<IPython.core.display.HTML object>"
            ],
            "text/html": [
              "<span style=\"color: black; background-color: yellow; font-weight: bold;\">Click</span> On <span style=\"color: black; background-color: white; font-weight: bold;\">CIM</span>"
            ]
          },
          "metadata": {}
        },
        {
          "output_type": "stream",
          "name": "stdout",
          "text": [
            "\n"
          ]
        },
        {
          "output_type": "display_data",
          "data": {
            "text/plain": [
              "<IPython.core.display.HTML object>"
            ],
            "text/html": [
              "In <span style=\"color: black; background-color: white; font-weight: bold;\">package</span> <span style=\"color: black; background-color: white; font-weight: bold;\">tab</span> <span style=\"color: black; background-color: yellow; font-weight: bold;\">click</span> on <span style=\"color: black; background-color: white; font-weight: bold;\">create</span> <span style=\"color: black; background-color: white; font-weight: bold;\">package</span>"
            ]
          },
          "metadata": {}
        },
        {
          "output_type": "stream",
          "name": "stdout",
          "text": [
            "\n"
          ]
        },
        {
          "output_type": "display_data",
          "data": {
            "text/plain": [
              "<IPython.core.display.HTML object>"
            ],
            "text/html": [
              "In <span style=\"color: black; background-color: white; font-weight: bold;\">details</span> <span style=\"color: black; background-color: yellow; font-weight: bold;\">enter</span> all <span style=\"color: black; background-color: white; font-weight: bold;\">mandatory</span> <span style=\"color: black; background-color: white; font-weight: bold;\">details</span> and select customization as allowed digital channel as allowed <span style=\"color: black; background-color: white; font-weight: bold;\">payment</span> <span style=\"color: black; background-color: white; font-weight: bold;\">limits</span> as <span style=\"color: black; background-color: white; font-weight: bold;\">valid</span> <span style=\"color: black; background-color: white; font-weight: bold;\">limit</span> and <span style=\"color: black; background-color: yellow; font-weight: bold;\">click</span> on <span style=\"color: black; background-color: white; font-weight: bold;\">next</span> <span style=\"color: black; background-color: white; font-weight: bold;\">button</span>"
            ]
          },
          "metadata": {}
        },
        {
          "output_type": "stream",
          "name": "stdout",
          "text": [
            "\n",
            "Row 43:\n"
          ]
        },
        {
          "output_type": "display_data",
          "data": {
            "text/plain": [
              "<IPython.core.display.HTML object>"
            ],
            "text/html": [
              "<span style=\"color: black; background-color: yellow; font-weight: bold;\">Login</span> into <span style=\"color: black; background-color: white; font-weight: bold;\">ARX</span> with <span style=\"color: black; background-color: white; font-weight: bold;\">Operational</span> <span style=\"color: black; background-color: white; font-weight: bold;\">maker</span> <span style=\"color: black; background-color: white; font-weight: bold;\">credential</span>"
            ]
          },
          "metadata": {}
        },
        {
          "output_type": "stream",
          "name": "stdout",
          "text": [
            "\n"
          ]
        },
        {
          "output_type": "display_data",
          "data": {
            "text/plain": [
              "<IPython.core.display.HTML object>"
            ],
            "text/html": [
              "<span style=\"color: black; background-color: yellow; font-weight: bold;\">Click</span> On <span style=\"color: black; background-color: white; font-weight: bold;\">CIM</span>"
            ]
          },
          "metadata": {}
        },
        {
          "output_type": "stream",
          "name": "stdout",
          "text": [
            "\n"
          ]
        },
        {
          "output_type": "display_data",
          "data": {
            "text/plain": [
              "<IPython.core.display.HTML object>"
            ],
            "text/html": [
              "In <span style=\"color: black; background-color: white; font-weight: bold;\">package</span> <span style=\"color: black; background-color: white; font-weight: bold;\">tab</span> <span style=\"color: black; background-color: yellow; font-weight: bold;\">click</span> on <span style=\"color: black; background-color: yellow; font-weight: bold;\">continue</span> <span style=\"color: black; background-color: yellow; font-weight: bold;\">editing</span> <span style=\"color: black; background-color: yellow; font-weight: bold;\">opting</span> for the <span style=\"color: black; background-color: white; font-weight: bold;\">package</span> which is draft"
            ]
          },
          "metadata": {}
        },
        {
          "output_type": "stream",
          "name": "stdout",
          "text": [
            "\n"
          ]
        },
        {
          "output_type": "display_data",
          "data": {
            "text/plain": [
              "<IPython.core.display.HTML object>"
            ],
            "text/html": [
              "In <span style=\"color: black; background-color: white; font-weight: bold;\">details</span> <span style=\"color: black; background-color: yellow; font-weight: bold;\">enter</span> all <span style=\"color: black; background-color: white; font-weight: bold;\">mandatory</span> <span style=\"color: black; background-color: white; font-weight: bold;\">details</span> and select customization as allowed digital channel as allowed <span style=\"color: black; background-color: white; font-weight: bold;\">payment</span> <span style=\"color: black; background-color: white; font-weight: bold;\">limits</span> as <span style=\"color: black; background-color: white; font-weight: bold;\">valid</span> <span style=\"color: black; background-color: white; font-weight: bold;\">limit</span> and <span style=\"color: black; background-color: yellow; font-weight: bold;\">click</span> on <span style=\"color: black; background-color: white; font-weight: bold;\">next</span> <span style=\"color: black; background-color: white; font-weight: bold;\">button</span>"
            ]
          },
          "metadata": {}
        },
        {
          "output_type": "stream",
          "name": "stdout",
          "text": [
            "\n"
          ]
        },
        {
          "output_type": "display_data",
          "data": {
            "text/plain": [
              "<IPython.core.display.HTML object>"
            ],
            "text/html": [
              "In <span style=\"color: black; background-color: white; font-weight: bold;\">charges</span> page select billing cycle recurrence and deselect primary <span style=\"color: black; background-color: white; font-weight: bold;\">package</span> if any selected proceed with <span style=\"color: black; background-color: white; font-weight: bold;\">package</span> <span style=\"color: black; background-color: white; font-weight: bold;\">creation</span>"
            ]
          },
          "metadata": {}
        },
        {
          "output_type": "stream",
          "name": "stdout",
          "text": [
            "\n",
            "Row 44:\n"
          ]
        },
        {
          "output_type": "display_data",
          "data": {
            "text/plain": [
              "<IPython.core.display.HTML object>"
            ],
            "text/html": [
              "<span style=\"color: black; background-color: yellow; font-weight: bold;\">Login</span> into <span style=\"color: black; background-color: white; font-weight: bold;\">ARX</span> with <span style=\"color: black; background-color: white; font-weight: bold;\">Operational</span> <span style=\"color: black; background-color: white; font-weight: bold;\">maker</span> <span style=\"color: black; background-color: white; font-weight: bold;\">credential</span>"
            ]
          },
          "metadata": {}
        },
        {
          "output_type": "stream",
          "name": "stdout",
          "text": [
            "\n"
          ]
        },
        {
          "output_type": "display_data",
          "data": {
            "text/plain": [
              "<IPython.core.display.HTML object>"
            ],
            "text/html": [
              "<span style=\"color: black; background-color: yellow; font-weight: bold;\">Click</span> On <span style=\"color: black; background-color: white; font-weight: bold;\">CIM</span>"
            ]
          },
          "metadata": {}
        },
        {
          "output_type": "stream",
          "name": "stdout",
          "text": [
            "\n"
          ]
        },
        {
          "output_type": "display_data",
          "data": {
            "text/plain": [
              "<IPython.core.display.HTML object>"
            ],
            "text/html": [
              "In <span style=\"color: black; background-color: white; font-weight: bold;\">package</span> <span style=\"color: black; background-color: white; font-weight: bold;\">tab</span> <span style=\"color: black; background-color: yellow; font-weight: bold;\">click</span> on <span style=\"color: black; background-color: white; font-weight: bold;\">create</span> <span style=\"color: black; background-color: white; font-weight: bold;\">package</span>"
            ]
          },
          "metadata": {}
        },
        {
          "output_type": "stream",
          "name": "stdout",
          "text": [
            "\n"
          ]
        },
        {
          "output_type": "display_data",
          "data": {
            "text/plain": [
              "<IPython.core.display.HTML object>"
            ],
            "text/html": [
              "In <span style=\"color: black; background-color: white; font-weight: bold;\">details</span> <span style=\"color: black; background-color: yellow; font-weight: bold;\">enter</span> all <span style=\"color: black; background-color: white; font-weight: bold;\">mandatory</span> <span style=\"color: black; background-color: white; font-weight: bold;\">details</span> and select customization as allowed digital channel as allowed <span style=\"color: black; background-color: white; font-weight: bold;\">payment</span> <span style=\"color: black; background-color: white; font-weight: bold;\">limits</span> as <span style=\"color: black; background-color: white; font-weight: bold;\">valid</span> <span style=\"color: black; background-color: white; font-weight: bold;\">limit</span> and <span style=\"color: black; background-color: yellow; font-weight: bold;\">click</span> on <span style=\"color: black; background-color: white; font-weight: bold;\">next</span> <span style=\"color: black; background-color: white; font-weight: bold;\">button</span>"
            ]
          },
          "metadata": {}
        },
        {
          "output_type": "stream",
          "name": "stdout",
          "text": [
            "\n",
            "Row 45:\n"
          ]
        },
        {
          "output_type": "display_data",
          "data": {
            "text/plain": [
              "<IPython.core.display.HTML object>"
            ],
            "text/html": [
              "<span style=\"color: black; background-color: yellow; font-weight: bold;\">Login</span> into <span style=\"color: black; background-color: white; font-weight: bold;\">ARX</span> with <span style=\"color: black; background-color: white; font-weight: bold;\">Operational</span> <span style=\"color: black; background-color: white; font-weight: bold;\">maker</span> <span style=\"color: black; background-color: white; font-weight: bold;\">credential</span>"
            ]
          },
          "metadata": {}
        },
        {
          "output_type": "stream",
          "name": "stdout",
          "text": [
            "\n"
          ]
        },
        {
          "output_type": "display_data",
          "data": {
            "text/plain": [
              "<IPython.core.display.HTML object>"
            ],
            "text/html": [
              "<span style=\"color: black; background-color: yellow; font-weight: bold;\">Click</span> On <span style=\"color: black; background-color: white; font-weight: bold;\">CIM</span>"
            ]
          },
          "metadata": {}
        },
        {
          "output_type": "stream",
          "name": "stdout",
          "text": [
            "\n"
          ]
        },
        {
          "output_type": "display_data",
          "data": {
            "text/plain": [
              "<IPython.core.display.HTML object>"
            ],
            "text/html": [
              "In <span style=\"color: black; background-color: white; font-weight: bold;\">package</span> <span style=\"color: black; background-color: white; font-weight: bold;\">tab</span> <span style=\"color: black; background-color: yellow; font-weight: bold;\">click</span> on <span style=\"color: black; background-color: yellow; font-weight: bold;\">continue</span> <span style=\"color: black; background-color: yellow; font-weight: bold;\">editing</span> <span style=\"color: black; background-color: yellow; font-weight: bold;\">opting</span> for the <span style=\"color: black; background-color: white; font-weight: bold;\">package</span> which is draft"
            ]
          },
          "metadata": {}
        },
        {
          "output_type": "stream",
          "name": "stdout",
          "text": [
            "\n"
          ]
        },
        {
          "output_type": "display_data",
          "data": {
            "text/plain": [
              "<IPython.core.display.HTML object>"
            ],
            "text/html": [
              "In <span style=\"color: black; background-color: white; font-weight: bold;\">details</span> <span style=\"color: black; background-color: yellow; font-weight: bold;\">enter</span> all <span style=\"color: black; background-color: white; font-weight: bold;\">mandatory</span> <span style=\"color: black; background-color: white; font-weight: bold;\">details</span> and select customization as allowed digital channel as allowed <span style=\"color: black; background-color: white; font-weight: bold;\">payment</span> <span style=\"color: black; background-color: white; font-weight: bold;\">limits</span> as <span style=\"color: black; background-color: white; font-weight: bold;\">valid</span> <span style=\"color: black; background-color: white; font-weight: bold;\">limit</span> and <span style=\"color: black; background-color: yellow; font-weight: bold;\">click</span> on <span style=\"color: black; background-color: white; font-weight: bold;\">next</span> <span style=\"color: black; background-color: white; font-weight: bold;\">button</span>"
            ]
          },
          "metadata": {}
        },
        {
          "output_type": "stream",
          "name": "stdout",
          "text": [
            "\n"
          ]
        },
        {
          "output_type": "display_data",
          "data": {
            "text/plain": [
              "<IPython.core.display.HTML object>"
            ],
            "text/html": [
              "In <span style=\"color: black; background-color: white; font-weight: bold;\">charges</span> page select billing cycle recurrence and deselect primary <span style=\"color: black; background-color: white; font-weight: bold;\">package</span> if any selected proceed with <span style=\"color: black; background-color: white; font-weight: bold;\">package</span> <span style=\"color: black; background-color: white; font-weight: bold;\">creation</span>"
            ]
          },
          "metadata": {}
        },
        {
          "output_type": "stream",
          "name": "stdout",
          "text": [
            "\n",
            "Row 46:\n"
          ]
        },
        {
          "output_type": "display_data",
          "data": {
            "text/plain": [
              "<IPython.core.display.HTML object>"
            ],
            "text/html": [
              "<span style=\"color: black; background-color: yellow; font-weight: bold;\">Verify</span> all the <span style=\"color: black; background-color: white; font-weight: bold;\">fields</span> and field validation with <span style=\"color: black; background-color: white; font-weight: bold;\">automation</span> <span style=\"color: black; background-color: white; font-weight: bold;\">script</span>"
            ]
          },
          "metadata": {}
        },
        {
          "output_type": "stream",
          "name": "stdout",
          "text": [
            "\n",
            "Row 47:\n"
          ]
        },
        {
          "output_type": "display_data",
          "data": {
            "text/plain": [
              "<IPython.core.display.HTML object>"
            ],
            "text/html": [
              "<span style=\"color: black; background-color: yellow; font-weight: bold;\">Login</span> into <span style=\"color: black; background-color: white; font-weight: bold;\">ARX</span> with <span style=\"color: black; background-color: white; font-weight: bold;\">Operational</span> <span style=\"color: black; background-color: white; font-weight: bold;\">maker</span> <span style=\"color: black; background-color: white; font-weight: bold;\">credential</span>"
            ]
          },
          "metadata": {}
        },
        {
          "output_type": "stream",
          "name": "stdout",
          "text": [
            "\n"
          ]
        },
        {
          "output_type": "display_data",
          "data": {
            "text/plain": [
              "<IPython.core.display.HTML object>"
            ],
            "text/html": [
              "<span style=\"color: black; background-color: yellow; font-weight: bold;\">Click</span> On <span style=\"color: black; background-color: white; font-weight: bold;\">CIM</span>"
            ]
          },
          "metadata": {}
        },
        {
          "output_type": "stream",
          "name": "stdout",
          "text": [
            "\n"
          ]
        },
        {
          "output_type": "display_data",
          "data": {
            "text/plain": [
              "<IPython.core.display.HTML object>"
            ],
            "text/html": [
              "In <span style=\"color: black; background-color: white; font-weight: bold;\">package</span> <span style=\"color: black; background-color: white; font-weight: bold;\">tab</span> <span style=\"color: black; background-color: yellow; font-weight: bold;\">click</span> on <span style=\"color: black; background-color: white; font-weight: bold;\">create</span> <span style=\"color: black; background-color: white; font-weight: bold;\">package</span>"
            ]
          },
          "metadata": {}
        },
        {
          "output_type": "stream",
          "name": "stdout",
          "text": [
            "\n"
          ]
        },
        {
          "output_type": "display_data",
          "data": {
            "text/plain": [
              "<IPython.core.display.HTML object>"
            ],
            "text/html": [
              "In <span style=\"color: black; background-color: white; font-weight: bold;\">details</span> <span style=\"color: black; background-color: yellow; font-weight: bold;\">enter</span> all <span style=\"color: black; background-color: white; font-weight: bold;\">mandatory</span> <span style=\"color: black; background-color: white; font-weight: bold;\">details</span> and select customization as allowed digital channel as allowed <span style=\"color: black; background-color: white; font-weight: bold;\">payment</span> <span style=\"color: black; background-color: white; font-weight: bold;\">limits</span> as <span style=\"color: black; background-color: white; font-weight: bold;\">valid</span> <span style=\"color: black; background-color: white; font-weight: bold;\">limit</span> and <span style=\"color: black; background-color: yellow; font-weight: bold;\">click</span> on <span style=\"color: black; background-color: white; font-weight: bold;\">next</span> <span style=\"color: black; background-color: white; font-weight: bold;\">button</span>"
            ]
          },
          "metadata": {}
        },
        {
          "output_type": "stream",
          "name": "stdout",
          "text": [
            "\n",
            "Row 48:\n"
          ]
        },
        {
          "output_type": "display_data",
          "data": {
            "text/plain": [
              "<IPython.core.display.HTML object>"
            ],
            "text/html": [
              "<span style=\"color: black; background-color: yellow; font-weight: bold;\">Login</span> into <span style=\"color: black; background-color: white; font-weight: bold;\">ARX</span> with <span style=\"color: black; background-color: white; font-weight: bold;\">Operational</span> <span style=\"color: black; background-color: white; font-weight: bold;\">maker</span> <span style=\"color: black; background-color: white; font-weight: bold;\">credential</span>"
            ]
          },
          "metadata": {}
        },
        {
          "output_type": "stream",
          "name": "stdout",
          "text": [
            "\n"
          ]
        },
        {
          "output_type": "display_data",
          "data": {
            "text/plain": [
              "<IPython.core.display.HTML object>"
            ],
            "text/html": [
              "<span style=\"color: black; background-color: yellow; font-weight: bold;\">Click</span> On <span style=\"color: black; background-color: white; font-weight: bold;\">CIM</span>"
            ]
          },
          "metadata": {}
        },
        {
          "output_type": "stream",
          "name": "stdout",
          "text": [
            "\n"
          ]
        },
        {
          "output_type": "display_data",
          "data": {
            "text/plain": [
              "<IPython.core.display.HTML object>"
            ],
            "text/html": [
              "In <span style=\"color: black; background-color: white; font-weight: bold;\">package</span> <span style=\"color: black; background-color: white; font-weight: bold;\">tab</span> <span style=\"color: black; background-color: yellow; font-weight: bold;\">click</span> on <span style=\"color: black; background-color: yellow; font-weight: bold;\">continue</span> <span style=\"color: black; background-color: yellow; font-weight: bold;\">editing</span> <span style=\"color: black; background-color: yellow; font-weight: bold;\">opting</span> for the <span style=\"color: black; background-color: white; font-weight: bold;\">package</span> which is draft"
            ]
          },
          "metadata": {}
        },
        {
          "output_type": "stream",
          "name": "stdout",
          "text": [
            "\n"
          ]
        },
        {
          "output_type": "display_data",
          "data": {
            "text/plain": [
              "<IPython.core.display.HTML object>"
            ],
            "text/html": [
              "In <span style=\"color: black; background-color: white; font-weight: bold;\">details</span> <span style=\"color: black; background-color: yellow; font-weight: bold;\">enter</span> all <span style=\"color: black; background-color: white; font-weight: bold;\">mandatory</span> <span style=\"color: black; background-color: white; font-weight: bold;\">details</span> and select customization as allowed digital channel as allowed <span style=\"color: black; background-color: white; font-weight: bold;\">payment</span> <span style=\"color: black; background-color: white; font-weight: bold;\">limits</span> as <span style=\"color: black; background-color: white; font-weight: bold;\">valid</span> <span style=\"color: black; background-color: white; font-weight: bold;\">limit</span> and <span style=\"color: black; background-color: yellow; font-weight: bold;\">click</span> on <span style=\"color: black; background-color: white; font-weight: bold;\">next</span> <span style=\"color: black; background-color: white; font-weight: bold;\">button</span>"
            ]
          },
          "metadata": {}
        },
        {
          "output_type": "stream",
          "name": "stdout",
          "text": [
            "\n"
          ]
        },
        {
          "output_type": "display_data",
          "data": {
            "text/plain": [
              "<IPython.core.display.HTML object>"
            ],
            "text/html": [
              "In <span style=\"color: black; background-color: white; font-weight: bold;\">charges</span> page select billing cycle recurrence  alert <span style=\"color: black; background-color: white; font-weight: bold;\">package</span> selection and <span style=\"color: black; background-color: yellow; font-weight: bold;\">proceed</span> with <span style=\"color: black; background-color: white; font-weight: bold;\">package</span> <span style=\"color: black; background-color: white; font-weight: bold;\">creation</span>"
            ]
          },
          "metadata": {}
        },
        {
          "output_type": "stream",
          "name": "stdout",
          "text": [
            "\n",
            "Row 49:\n"
          ]
        },
        {
          "output_type": "display_data",
          "data": {
            "text/plain": [
              "<IPython.core.display.HTML object>"
            ],
            "text/html": [
              "<span style=\"color: black; background-color: yellow; font-weight: bold;\">Login</span> into <span style=\"color: black; background-color: white; font-weight: bold;\">ARX</span> with <span style=\"color: black; background-color: white; font-weight: bold;\">Operational</span> <span style=\"color: black; background-color: white; font-weight: bold;\">maker</span> <span style=\"color: black; background-color: white; font-weight: bold;\">credential</span>"
            ]
          },
          "metadata": {}
        },
        {
          "output_type": "stream",
          "name": "stdout",
          "text": [
            "\n"
          ]
        },
        {
          "output_type": "display_data",
          "data": {
            "text/plain": [
              "<IPython.core.display.HTML object>"
            ],
            "text/html": [
              "<span style=\"color: black; background-color: yellow; font-weight: bold;\">Click</span> On <span style=\"color: black; background-color: white; font-weight: bold;\">CIM</span>"
            ]
          },
          "metadata": {}
        },
        {
          "output_type": "stream",
          "name": "stdout",
          "text": [
            "\n"
          ]
        },
        {
          "output_type": "display_data",
          "data": {
            "text/plain": [
              "<IPython.core.display.HTML object>"
            ],
            "text/html": [
              "In <span style=\"color: black; background-color: white; font-weight: bold;\">package</span> <span style=\"color: black; background-color: white; font-weight: bold;\">tab</span> <span style=\"color: black; background-color: yellow; font-weight: bold;\">click</span> on <span style=\"color: black; background-color: white; font-weight: bold;\">create</span> <span style=\"color: black; background-color: white; font-weight: bold;\">package</span>"
            ]
          },
          "metadata": {}
        },
        {
          "output_type": "stream",
          "name": "stdout",
          "text": [
            "\n"
          ]
        },
        {
          "output_type": "display_data",
          "data": {
            "text/plain": [
              "<IPython.core.display.HTML object>"
            ],
            "text/html": [
              "In <span style=\"color: black; background-color: white; font-weight: bold;\">details</span> <span style=\"color: black; background-color: yellow; font-weight: bold;\">enter</span> all <span style=\"color: black; background-color: white; font-weight: bold;\">mandatory</span> <span style=\"color: black; background-color: white; font-weight: bold;\">details</span> and select customization as allowed digital channel as allowed <span style=\"color: black; background-color: white; font-weight: bold;\">payment</span> <span style=\"color: black; background-color: white; font-weight: bold;\">limits</span> as <span style=\"color: black; background-color: white; font-weight: bold;\">valid</span> <span style=\"color: black; background-color: white; font-weight: bold;\">limit</span> and <span style=\"color: black; background-color: yellow; font-weight: bold;\">click</span> on <span style=\"color: black; background-color: white; font-weight: bold;\">next</span> <span style=\"color: black; background-color: white; font-weight: bold;\">button</span>"
            ]
          },
          "metadata": {}
        },
        {
          "output_type": "stream",
          "name": "stdout",
          "text": [
            "\n",
            "Row 50:\n"
          ]
        },
        {
          "output_type": "display_data",
          "data": {
            "text/plain": [
              "<IPython.core.display.HTML object>"
            ],
            "text/html": [
              "<span style=\"color: black; background-color: yellow; font-weight: bold;\">Login</span> into <span style=\"color: black; background-color: white; font-weight: bold;\">ARX</span> with <span style=\"color: black; background-color: white; font-weight: bold;\">Operational</span> <span style=\"color: black; background-color: white; font-weight: bold;\">maker</span> <span style=\"color: black; background-color: white; font-weight: bold;\">credential</span>"
            ]
          },
          "metadata": {}
        },
        {
          "output_type": "stream",
          "name": "stdout",
          "text": [
            "\n"
          ]
        },
        {
          "output_type": "display_data",
          "data": {
            "text/plain": [
              "<IPython.core.display.HTML object>"
            ],
            "text/html": [
              "<span style=\"color: black; background-color: yellow; font-weight: bold;\">Click</span> On <span style=\"color: black; background-color: white; font-weight: bold;\">CIM</span>"
            ]
          },
          "metadata": {}
        },
        {
          "output_type": "stream",
          "name": "stdout",
          "text": [
            "\n"
          ]
        },
        {
          "output_type": "display_data",
          "data": {
            "text/plain": [
              "<IPython.core.display.HTML object>"
            ],
            "text/html": [
              "In <span style=\"color: black; background-color: white; font-weight: bold;\">package</span> <span style=\"color: black; background-color: white; font-weight: bold;\">tab</span> <span style=\"color: black; background-color: yellow; font-weight: bold;\">click</span> on <span style=\"color: black; background-color: yellow; font-weight: bold;\">continue</span> <span style=\"color: black; background-color: yellow; font-weight: bold;\">editing</span> <span style=\"color: black; background-color: yellow; font-weight: bold;\">opting</span> for the <span style=\"color: black; background-color: white; font-weight: bold;\">package</span> which is draft"
            ]
          },
          "metadata": {}
        },
        {
          "output_type": "stream",
          "name": "stdout",
          "text": [
            "\n"
          ]
        },
        {
          "output_type": "display_data",
          "data": {
            "text/plain": [
              "<IPython.core.display.HTML object>"
            ],
            "text/html": [
              "In <span style=\"color: black; background-color: white; font-weight: bold;\">details</span> <span style=\"color: black; background-color: yellow; font-weight: bold;\">enter</span> all <span style=\"color: black; background-color: white; font-weight: bold;\">mandatory</span> <span style=\"color: black; background-color: white; font-weight: bold;\">details</span> and select customization as allowed digital channel as allowed <span style=\"color: black; background-color: white; font-weight: bold;\">payment</span> <span style=\"color: black; background-color: white; font-weight: bold;\">limits</span> as <span style=\"color: black; background-color: white; font-weight: bold;\">valid</span> <span style=\"color: black; background-color: white; font-weight: bold;\">limit</span> and <span style=\"color: black; background-color: yellow; font-weight: bold;\">click</span> on <span style=\"color: black; background-color: white; font-weight: bold;\">next</span> <span style=\"color: black; background-color: white; font-weight: bold;\">button</span>"
            ]
          },
          "metadata": {}
        },
        {
          "output_type": "stream",
          "name": "stdout",
          "text": [
            "\n"
          ]
        },
        {
          "output_type": "display_data",
          "data": {
            "text/plain": [
              "<IPython.core.display.HTML object>"
            ],
            "text/html": [
              "In <span style=\"color: black; background-color: white; font-weight: bold;\">charges</span> page select billing cycle recurrence selection and <span style=\"color: black; background-color: yellow; font-weight: bold;\">proceed</span> with <span style=\"color: black; background-color: white; font-weight: bold;\">package</span> <span style=\"color: black; background-color: white; font-weight: bold;\">creation</span>"
            ]
          },
          "metadata": {}
        },
        {
          "output_type": "stream",
          "name": "stdout",
          "text": [
            "\n"
          ]
        }
      ]
    }
  ]
}