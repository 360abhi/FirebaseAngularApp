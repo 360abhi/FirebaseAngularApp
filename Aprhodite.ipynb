{
  "nbformat": 4,
  "nbformat_minor": 0,
  "metadata": {
    "colab": {
      "provenance": [],
      "authorship_tag": "ABX9TyNa/V4FGWPYUpIRPmbFy2dZ",
      "include_colab_link": true
    },
    "kernelspec": {
      "name": "python3",
      "display_name": "Python 3"
    },
    "language_info": {
      "name": "python"
    }
  },
  "cells": [
    {
      "cell_type": "markdown",
      "metadata": {
        "id": "view-in-github",
        "colab_type": "text"
      },
      "source": [
        "<a href=\"https://colab.research.google.com/github/360abhi/FirebaseAngularApp/blob/main/Aprhodite.ipynb\" target=\"_parent\"><img src=\"https://colab.research.google.com/assets/colab-badge.svg\" alt=\"Open In Colab\"/></a>"
      ]
    },
    {
      "cell_type": "code",
      "execution_count": 1,
      "metadata": {
        "colab": {
          "base_uri": "https://localhost:8080/"
        },
        "collapsed": true,
        "id": "QUiPZ2VSHtFW",
        "outputId": "1a134088-c8d0-49ff-cfa9-5ae7f11c228a"
      },
      "outputs": [
        {
          "output_type": "stream",
          "name": "stdout",
          "text": [
            "Collecting en-core-web-lg==3.7.1\n",
            "  Downloading https://github.com/explosion/spacy-models/releases/download/en_core_web_lg-3.7.1/en_core_web_lg-3.7.1-py3-none-any.whl (587.7 MB)\n",
            "\u001b[2K     \u001b[90m━━━━━━━━━━━━━━━━━━━━━━━━━━━━━━━━━━━━━━━━\u001b[0m \u001b[32m587.7/587.7 MB\u001b[0m \u001b[31m1.2 MB/s\u001b[0m eta \u001b[36m0:00:00\u001b[0m\n",
            "\u001b[?25hRequirement already satisfied: spacy<3.8.0,>=3.7.2 in /usr/local/lib/python3.10/dist-packages (from en-core-web-lg==3.7.1) (3.7.5)\n",
            "Requirement already satisfied: spacy-legacy<3.1.0,>=3.0.11 in /usr/local/lib/python3.10/dist-packages (from spacy<3.8.0,>=3.7.2->en-core-web-lg==3.7.1) (3.0.12)\n",
            "Requirement already satisfied: spacy-loggers<2.0.0,>=1.0.0 in /usr/local/lib/python3.10/dist-packages (from spacy<3.8.0,>=3.7.2->en-core-web-lg==3.7.1) (1.0.5)\n",
            "Requirement already satisfied: murmurhash<1.1.0,>=0.28.0 in /usr/local/lib/python3.10/dist-packages (from spacy<3.8.0,>=3.7.2->en-core-web-lg==3.7.1) (1.0.10)\n",
            "Requirement already satisfied: cymem<2.1.0,>=2.0.2 in /usr/local/lib/python3.10/dist-packages (from spacy<3.8.0,>=3.7.2->en-core-web-lg==3.7.1) (2.0.8)\n",
            "Requirement already satisfied: preshed<3.1.0,>=3.0.2 in /usr/local/lib/python3.10/dist-packages (from spacy<3.8.0,>=3.7.2->en-core-web-lg==3.7.1) (3.0.9)\n",
            "Requirement already satisfied: thinc<8.3.0,>=8.2.2 in /usr/local/lib/python3.10/dist-packages (from spacy<3.8.0,>=3.7.2->en-core-web-lg==3.7.1) (8.2.5)\n",
            "Requirement already satisfied: wasabi<1.2.0,>=0.9.1 in /usr/local/lib/python3.10/dist-packages (from spacy<3.8.0,>=3.7.2->en-core-web-lg==3.7.1) (1.1.3)\n",
            "Requirement already satisfied: srsly<3.0.0,>=2.4.3 in /usr/local/lib/python3.10/dist-packages (from spacy<3.8.0,>=3.7.2->en-core-web-lg==3.7.1) (2.4.8)\n",
            "Requirement already satisfied: catalogue<2.1.0,>=2.0.6 in /usr/local/lib/python3.10/dist-packages (from spacy<3.8.0,>=3.7.2->en-core-web-lg==3.7.1) (2.0.10)\n",
            "Requirement already satisfied: weasel<0.5.0,>=0.1.0 in /usr/local/lib/python3.10/dist-packages (from spacy<3.8.0,>=3.7.2->en-core-web-lg==3.7.1) (0.4.1)\n",
            "Requirement already satisfied: typer<1.0.0,>=0.3.0 in /usr/local/lib/python3.10/dist-packages (from spacy<3.8.0,>=3.7.2->en-core-web-lg==3.7.1) (0.12.3)\n",
            "Requirement already satisfied: tqdm<5.0.0,>=4.38.0 in /usr/local/lib/python3.10/dist-packages (from spacy<3.8.0,>=3.7.2->en-core-web-lg==3.7.1) (4.66.4)\n",
            "Requirement already satisfied: requests<3.0.0,>=2.13.0 in /usr/local/lib/python3.10/dist-packages (from spacy<3.8.0,>=3.7.2->en-core-web-lg==3.7.1) (2.31.0)\n",
            "Requirement already satisfied: pydantic!=1.8,!=1.8.1,<3.0.0,>=1.7.4 in /usr/local/lib/python3.10/dist-packages (from spacy<3.8.0,>=3.7.2->en-core-web-lg==3.7.1) (2.8.2)\n",
            "Requirement already satisfied: jinja2 in /usr/local/lib/python3.10/dist-packages (from spacy<3.8.0,>=3.7.2->en-core-web-lg==3.7.1) (3.1.4)\n",
            "Requirement already satisfied: setuptools in /usr/local/lib/python3.10/dist-packages (from spacy<3.8.0,>=3.7.2->en-core-web-lg==3.7.1) (71.0.4)\n",
            "Requirement already satisfied: packaging>=20.0 in /usr/local/lib/python3.10/dist-packages (from spacy<3.8.0,>=3.7.2->en-core-web-lg==3.7.1) (24.1)\n",
            "Requirement already satisfied: langcodes<4.0.0,>=3.2.0 in /usr/local/lib/python3.10/dist-packages (from spacy<3.8.0,>=3.7.2->en-core-web-lg==3.7.1) (3.4.0)\n",
            "Requirement already satisfied: numpy>=1.19.0 in /usr/local/lib/python3.10/dist-packages (from spacy<3.8.0,>=3.7.2->en-core-web-lg==3.7.1) (1.26.4)\n",
            "Requirement already satisfied: language-data>=1.2 in /usr/local/lib/python3.10/dist-packages (from langcodes<4.0.0,>=3.2.0->spacy<3.8.0,>=3.7.2->en-core-web-lg==3.7.1) (1.2.0)\n",
            "Requirement already satisfied: annotated-types>=0.4.0 in /usr/local/lib/python3.10/dist-packages (from pydantic!=1.8,!=1.8.1,<3.0.0,>=1.7.4->spacy<3.8.0,>=3.7.2->en-core-web-lg==3.7.1) (0.7.0)\n",
            "Requirement already satisfied: pydantic-core==2.20.1 in /usr/local/lib/python3.10/dist-packages (from pydantic!=1.8,!=1.8.1,<3.0.0,>=1.7.4->spacy<3.8.0,>=3.7.2->en-core-web-lg==3.7.1) (2.20.1)\n",
            "Requirement already satisfied: typing-extensions>=4.6.1 in /usr/local/lib/python3.10/dist-packages (from pydantic!=1.8,!=1.8.1,<3.0.0,>=1.7.4->spacy<3.8.0,>=3.7.2->en-core-web-lg==3.7.1) (4.12.2)\n",
            "Requirement already satisfied: charset-normalizer<4,>=2 in /usr/local/lib/python3.10/dist-packages (from requests<3.0.0,>=2.13.0->spacy<3.8.0,>=3.7.2->en-core-web-lg==3.7.1) (3.3.2)\n",
            "Requirement already satisfied: idna<4,>=2.5 in /usr/local/lib/python3.10/dist-packages (from requests<3.0.0,>=2.13.0->spacy<3.8.0,>=3.7.2->en-core-web-lg==3.7.1) (3.7)\n",
            "Requirement already satisfied: urllib3<3,>=1.21.1 in /usr/local/lib/python3.10/dist-packages (from requests<3.0.0,>=2.13.0->spacy<3.8.0,>=3.7.2->en-core-web-lg==3.7.1) (2.0.7)\n",
            "Requirement already satisfied: certifi>=2017.4.17 in /usr/local/lib/python3.10/dist-packages (from requests<3.0.0,>=2.13.0->spacy<3.8.0,>=3.7.2->en-core-web-lg==3.7.1) (2024.7.4)\n",
            "Requirement already satisfied: blis<0.8.0,>=0.7.8 in /usr/local/lib/python3.10/dist-packages (from thinc<8.3.0,>=8.2.2->spacy<3.8.0,>=3.7.2->en-core-web-lg==3.7.1) (0.7.11)\n",
            "Requirement already satisfied: confection<1.0.0,>=0.0.1 in /usr/local/lib/python3.10/dist-packages (from thinc<8.3.0,>=8.2.2->spacy<3.8.0,>=3.7.2->en-core-web-lg==3.7.1) (0.1.5)\n",
            "Requirement already satisfied: click>=8.0.0 in /usr/local/lib/python3.10/dist-packages (from typer<1.0.0,>=0.3.0->spacy<3.8.0,>=3.7.2->en-core-web-lg==3.7.1) (8.1.7)\n",
            "Requirement already satisfied: shellingham>=1.3.0 in /usr/local/lib/python3.10/dist-packages (from typer<1.0.0,>=0.3.0->spacy<3.8.0,>=3.7.2->en-core-web-lg==3.7.1) (1.5.4)\n",
            "Requirement already satisfied: rich>=10.11.0 in /usr/local/lib/python3.10/dist-packages (from typer<1.0.0,>=0.3.0->spacy<3.8.0,>=3.7.2->en-core-web-lg==3.7.1) (13.7.1)\n",
            "Requirement already satisfied: cloudpathlib<1.0.0,>=0.7.0 in /usr/local/lib/python3.10/dist-packages (from weasel<0.5.0,>=0.1.0->spacy<3.8.0,>=3.7.2->en-core-web-lg==3.7.1) (0.18.1)\n",
            "Requirement already satisfied: smart-open<8.0.0,>=5.2.1 in /usr/local/lib/python3.10/dist-packages (from weasel<0.5.0,>=0.1.0->spacy<3.8.0,>=3.7.2->en-core-web-lg==3.7.1) (7.0.4)\n",
            "Requirement already satisfied: MarkupSafe>=2.0 in /usr/local/lib/python3.10/dist-packages (from jinja2->spacy<3.8.0,>=3.7.2->en-core-web-lg==3.7.1) (2.1.5)\n",
            "Requirement already satisfied: marisa-trie>=0.7.7 in /usr/local/lib/python3.10/dist-packages (from language-data>=1.2->langcodes<4.0.0,>=3.2.0->spacy<3.8.0,>=3.7.2->en-core-web-lg==3.7.1) (1.2.0)\n",
            "Requirement already satisfied: markdown-it-py>=2.2.0 in /usr/local/lib/python3.10/dist-packages (from rich>=10.11.0->typer<1.0.0,>=0.3.0->spacy<3.8.0,>=3.7.2->en-core-web-lg==3.7.1) (3.0.0)\n",
            "Requirement already satisfied: pygments<3.0.0,>=2.13.0 in /usr/local/lib/python3.10/dist-packages (from rich>=10.11.0->typer<1.0.0,>=0.3.0->spacy<3.8.0,>=3.7.2->en-core-web-lg==3.7.1) (2.16.1)\n",
            "Requirement already satisfied: wrapt in /usr/local/lib/python3.10/dist-packages (from smart-open<8.0.0,>=5.2.1->weasel<0.5.0,>=0.1.0->spacy<3.8.0,>=3.7.2->en-core-web-lg==3.7.1) (1.16.0)\n",
            "Requirement already satisfied: mdurl~=0.1 in /usr/local/lib/python3.10/dist-packages (from markdown-it-py>=2.2.0->rich>=10.11.0->typer<1.0.0,>=0.3.0->spacy<3.8.0,>=3.7.2->en-core-web-lg==3.7.1) (0.1.2)\n",
            "\u001b[38;5;2m✔ Download and installation successful\u001b[0m\n",
            "You can now load the package via spacy.load('en_core_web_lg')\n",
            "\u001b[38;5;3m⚠ Restart to reload dependencies\u001b[0m\n",
            "If you are in a Jupyter or Colab notebook, you may need to restart Python in\n",
            "order to load all the package's dependencies. You can do this by selecting the\n",
            "'Restart kernel' or 'Restart runtime' option.\n"
          ]
        }
      ],
      "source": [
        "import spacy\n",
        "!python -m spacy download en_core_web_lg\n",
        "from spacy.util import filter_spans\n",
        "from spacy.tokens import DocBin\n",
        "import spacy\n",
        "from spacy import displacy"
      ]
    },
    {
      "cell_type": "code",
      "source": [
        "from tqdm import tqdm\n",
        "nlp = spacy.blank(\"en\")\n",
        "doc_bin = DocBin()"
      ],
      "metadata": {
        "id": "Ibq_yG0DJh8t"
      },
      "execution_count": 3,
      "outputs": []
    },
    {
      "cell_type": "code",
      "source": [
        "import pandas as pd\n",
        "def process_excel_to_format(excel_file):\n",
        "    df = pd.read_excel(excel_file,sheet_name=\"Train_Data\", engine='openpyxl')\n",
        "    train_data = []\n",
        "    for index, row in df.iterrows():\n",
        "\n",
        "        text = row['Sentences'].lower()\n",
        "\n",
        "        action = row['ACTION'].lower() if pd.notnull(row['ACTION']) else \"\"\n",
        "\n",
        "        page = row['PAGE'].lower() if pd.notnull(row['PAGE']) else \"\"\n",
        "\n",
        "        field = row['FIELD'].lower() if pd.notnull(row['FIELD']) else \"\"\n",
        "\n",
        "        data = row['DATA'].lower() if pd.notnull(row['DATA']) else \"\"\n",
        "\n",
        "        entities = [\n",
        "\n",
        "            (text.find(action),  text.find(action) + len(action),  \"ACTION\"),\n",
        "\n",
        "            (text.find(page),text.find(page) + len(page), \"PAGE\"),\n",
        "\n",
        "            (text.find(field),text.find(field) + len(field),\"FIELD\"),\n",
        "\n",
        "            (text.find(data),text.find(data) + len(data),  \"DATA\")\n",
        "\n",
        "        ]\n",
        "\n",
        "        train_data.append({\"text\": text, \"entities\": entities})\n",
        "\n",
        "    return train_data\n",
        "\n",
        "excel_file = \"CIM_TestCases.xlsx\"\n",
        "\n",
        "formatted_data = process_excel_to_format(excel_file)\n",
        "\n",
        "print(formatted_data)\n"
      ],
      "metadata": {
        "colab": {
          "base_uri": "https://localhost:8080/"
        },
        "id": "XppnzpSdK0wo",
        "outputId": "13668c02-6e51-4a8a-86e8-95eaf9050514"
      },
      "execution_count": 4,
      "outputs": [
        {
          "output_type": "stream",
          "name": "stdout",
          "text": [
            "[{'text': 'login into arx with operational maker credential', 'entities': [(0, 5, 'ACTION'), (11, 14, 'PAGE'), (0, 0, 'FIELD'), (20, 48, 'DATA')]}, {'text': 'click on cim', 'entities': [(0, 5, 'ACTION'), (0, 0, 'PAGE'), (9, 12, 'FIELD'), (0, 0, 'DATA')]}, {'text': 'in package tab, click on create package', 'entities': [(16, 21, 'ACTION'), (3, 14, 'PAGE'), (25, 39, 'FIELD'), (0, 0, 'DATA')]}, {'text': 'in details, enter all mandatory details and select customization as allowed, digital channel as allowed, payment limits as valid limit and click on next button', 'entities': [(12, 17, 'ACTION'), (3, 10, 'PAGE'), (0, 0, 'FIELD'), (22, 39, 'DATA')]}, {'text': 'in products page, select\\xa0 all products', 'entities': [(18, 24, 'ACTION'), (3, 11, 'PAGE'), (3, 11, 'FIELD'), (3, 11, 'DATA')]}, {'text': 'select appropriate charges', 'entities': [(0, 6, 'ACTION'), (-1, 7, 'PAGE'), (19, 26, 'FIELD'), (0, 0, 'DATA')]}, {'text': 'remove the product level limit for max no of transaction amount per day', 'entities': [(0, 6, 'ACTION'), (-1, 7, 'PAGE'), (11, 30, 'FIELD'), (0, 0, 'DATA')]}, {'text': 'login into arx with operational maker credential.', 'entities': [(0, 5, 'ACTION'), (11, 14, 'PAGE'), (0, 0, 'FIELD'), (20, 48, 'DATA')]}, {'text': 'click on cim.', 'entities': [(0, 5, 'ACTION'), (0, 0, 'PAGE'), (9, 12, 'FIELD'), (0, 0, 'DATA')]}, {'text': 'in package tab, click on create package.', 'entities': [(16, 21, 'ACTION'), (3, 10, 'PAGE'), (25, 39, 'FIELD'), (0, 0, 'DATA')]}, {'text': 'in details, enter all mandatory details and select customization as allowed, digital channel as allowed, payment limits as valid limit and click on next button.', 'entities': [(12, 17, 'ACTION'), (3, 10, 'PAGE'), (-1, 15, 'FIELD'), (22, 39, 'DATA')]}, {'text': 'in details, enter all mandatory details and select customization as allowed, digital channel as allowed, payment limits as valid limit and click on next button.', 'entities': [(12, 17, 'ACTION'), (3, 10, 'PAGE'), (51, 64, 'FIELD'), (22, 39, 'DATA')]}, {'text': 'in details, enter all mandatory details and select customization as allowed, digital channel as allowed, payment limits as valid limit and click on next button.', 'entities': [(44, 50, 'ACTION'), (3, 10, 'PAGE'), (105, 119, 'FIELD'), (22, 39, 'DATA')]}, {'text': 'in products page, select\\xa0 all products', 'entities': [(18, 24, 'ACTION'), (3, 11, 'PAGE'), (2, 11, 'FIELD'), (0, 0, 'DATA')]}, {'text': 'select the billing cycle type and alert charge package', 'entities': [(0, 6, 'ACTION'), (0, 0, 'PAGE'), (11, 24, 'FIELD'), (0, 0, 'DATA')]}, {'text': 'select the billing cycle type and alert charge package', 'entities': [(0, 6, 'ACTION'), (0, 0, 'PAGE'), (34, 54, 'FIELD'), (0, 0, 'DATA')]}, {'text': 'verify the template upload option.', 'entities': [(0, 6, 'ACTION'), (0, 0, 'PAGE'), (11, 26, 'FIELD'), (0, 0, 'DATA')]}, {'text': 'login into arx with operational maker credential.', 'entities': [(0, 5, 'ACTION'), (11, 14, 'PAGE'), (0, 0, 'FIELD'), (20, 48, 'DATA')]}, {'text': 'click on cim.', 'entities': [(0, 5, 'ACTION'), (0, 0, 'PAGE'), (9, 12, 'FIELD'), (0, 0, 'DATA')]}, {'text': \"in package tab, click on 'create package' button.\", 'entities': [(16, 21, 'ACTION'), (3, 10, 'PAGE'), (-1, 20, 'FIELD'), (0, 0, 'DATA')]}, {'text': 'enter package name', 'entities': [(0, 5, 'ACTION'), (0, 0, 'PAGE'), (6, 18, 'FIELD'), (0, 0, 'DATA')]}, {'text': 'enter package description', 'entities': [(0, 5, 'ACTION'), (0, 0, 'PAGE'), (6, 25, 'FIELD'), (0, 0, 'DATA')]}, {'text': 'select bank entity', 'entities': [(0, 6, 'ACTION'), (0, 0, 'PAGE'), (7, 18, 'FIELD'), (0, 0, 'DATA')]}, {'text': 'select country', 'entities': [(0, 6, 'ACTION'), (0, 0, 'PAGE'), (7, 14, 'FIELD'), (0, 0, 'DATA')]}, {'text': 'select segment', 'entities': [(0, 6, 'ACTION'), (0, 0, 'PAGE'), (7, 14, 'FIELD'), (0, 0, 'DATA')]}, {'text': 'select sector all', 'entities': [(0, 6, 'ACTION'), (0, 0, 'PAGE'), (7, 17, 'FIELD'), (0, 0, 'DATA')]}, {'text': 'select allow customisation option', 'entities': [(0, 6, 'ACTION'), (0, 0, 'PAGE'), (7, 26, 'FIELD'), (0, 0, 'DATA')]}, {'text': 'select digital channel option', 'entities': [(0, 6, 'ACTION'), (0, 0, 'PAGE'), (7, 22, 'FIELD'), (0, 0, 'DATA')]}, {'text': \"enter value in single transaction limit of 'maximum number of transaction initiation per day'\", 'entities': [(0, 5, 'ACTION'), (0, 0, 'PAGE'), (15, 39, 'FIELD'), (0, 0, 'DATA')]}, {'text': \"enter less value in single transaction limit of 'maximum number of transaction initiation per month' than single transaction limit of 'maximum number of transaction initiation per day'\", 'entities': [(0, 5, 'ACTION'), (0, 0, 'PAGE'), (20, 44, 'FIELD'), (0, 0, 'DATA')]}, {'text': 'login into arx with operational maker credential.', 'entities': [(0, 5, 'ACTION'), (11, 14, 'PAGE'), (0, 0, 'FIELD'), (20, 48, 'DATA')]}, {'text': 'click on cim.', 'entities': [(0, 5, 'ACTION'), (0, 0, 'PAGE'), (9, 12, 'FIELD'), (0, 0, 'DATA')]}, {'text': 'in package tab, click on create package.', 'entities': [(16, 21, 'ACTION'), (3, 14, 'PAGE'), (25, 39, 'FIELD'), (0, 0, 'DATA')]}, {'text': 'in details, enter all mandatory details and select customization as allowed, digital channel as allowed, payment limits as valid limit and click on next button.', 'entities': [(68, 75, 'ACTION'), (3, 10, 'PAGE'), (51, 64, 'FIELD'), (22, 39, 'DATA')]}, {'text': 'in details, enter all mandatory details and select customization as allowed, digital channel as allowed, payment limits as valid limit and click on next button.', 'entities': [(123, 134, 'ACTION'), (3, 10, 'PAGE'), (-1, 15, 'FIELD'), (22, 39, 'DATA')]}, {'text': 'in details, enter all mandatory details and select customization as allowed, digital channel as allowed, payment limits as valid limit and click on next button.', 'entities': [(123, 134, 'ACTION'), (3, 10, 'PAGE'), (105, 119, 'FIELD'), (22, 39, 'DATA')]}, {'text': 'in products page, select  all products', 'entities': [(18, 24, 'ACTION'), (3, 11, 'PAGE'), (26, 38, 'FIELD'), (0, 0, 'DATA')]}, {'text': 'select the billing cycle type and alert charge package', 'entities': [(0, 6, 'ACTION'), (0, 0, 'PAGE'), (34, 54, 'FIELD'), (0, 0, 'DATA')]}, {'text': 'select the billing cycle type and alert charge package', 'entities': [(0, 6, 'ACTION'), (0, 0, 'PAGE'), (-1, 18, 'FIELD'), (0, 0, 'DATA')]}, {'text': 'select all the payment reports.', 'entities': [(0, 6, 'ACTION'), (0, 0, 'PAGE'), (15, 30, 'FIELD'), (0, 0, 'DATA')]}, {'text': 'select all the collection reports.', 'entities': [(0, 6, 'ACTION'), (0, 0, 'PAGE'), (15, 33, 'FIELD'), (0, 0, 'DATA')]}, {'text': 'select all the common reports.', 'entities': [(0, 6, 'ACTION'), (0, 0, 'PAGE'), (15, 29, 'FIELD'), (0, 0, 'DATA')]}, {'text': 'verify the save as draft functionality.', 'entities': [(0, 6, 'ACTION'), (0, 0, 'PAGE'), (11, 24, 'FIELD'), (0, 0, 'DATA')]}, {'text': 'verify the message on screen', 'entities': [(0, 6, 'ACTION'), (0, 0, 'PAGE'), (11, 18, 'FIELD'), (0, 0, 'DATA')]}, {'text': 'verify the save as draft functionality.', 'entities': [(0, 6, 'ACTION'), (0, 0, 'PAGE'), (11, 24, 'FIELD'), (0, 0, 'DATA')]}, {'text': 'login into arx with operational maker credential.', 'entities': [(0, 5, 'ACTION'), (11, 14, 'PAGE'), (0, 0, 'FIELD'), (20, 48, 'DATA')]}, {'text': 'click on cim.', 'entities': [(0, 5, 'ACTION'), (0, 0, 'PAGE'), (9, 12, 'FIELD'), (0, 0, 'DATA')]}, {'text': 'in package tab, click on \\'click \"\">\"\"button available on package summary of active status package', 'entities': [(16, 21, 'ACTION'), (3, 10, 'PAGE'), (-1, 13, 'FIELD'), (0, 0, 'DATA')]}, {'text': 'click on edit icon in a package detail screen ', 'entities': [(0, 5, 'ACTION'), (24, 38, 'PAGE'), (9, 18, 'FIELD'), (0, 0, 'DATA')]}, {'text': 'edit package details', 'entities': [(0, 4, 'ACTION'), (0, 0, 'PAGE'), (5, 20, 'FIELD'), (0, 0, 'DATA')]}, {'text': 'edit package products', 'entities': [(0, 4, 'ACTION'), (0, 0, 'PAGE'), (5, 21, 'FIELD'), (0, 0, 'DATA')]}, {'text': 'edit charges', 'entities': [(0, 4, 'ACTION'), (0, 0, 'PAGE'), (5, 12, 'FIELD'), (0, 0, 'DATA')]}, {'text': 'edit billing details', 'entities': [(0, 4, 'ACTION'), (0, 0, 'PAGE'), (5, 20, 'FIELD'), (0, 0, 'DATA')]}, {'text': 'edit liquidity details', 'entities': [(0, 4, 'ACTION'), (0, 0, 'PAGE'), (5, 22, 'FIELD'), (0, 0, 'DATA')]}, {'text': 'edit payment package', 'entities': [(0, 4, 'ACTION'), (0, 0, 'PAGE'), (5, 20, 'FIELD'), (0, 0, 'DATA')]}, {'text': 'edit common reports limits', 'entities': [(0, 4, 'ACTION'), (0, 0, 'PAGE'), (5, 26, 'FIELD'), (0, 0, 'DATA')]}]\n"
          ]
        }
      ]
    },
    {
      "cell_type": "code",
      "source": [
        "train_data = formatted_data"
      ],
      "metadata": {
        "id": "H_E_Xw9XK5W_"
      },
      "execution_count": 5,
      "outputs": []
    },
    {
      "cell_type": "code",
      "source": [
        "for training_example in tqdm(train_data):\n",
        "    text = training_example['text']\n",
        "    labels = training_example['entities']\n",
        "    doc = nlp.make_doc(text)\n",
        "    ents = []\n",
        "    for start, end, label in labels:\n",
        "        span = doc.char_span(start, end, label=label,alignment_mode=\"contract\")\n",
        "        if span is None:\n",
        "            print(\"Skipping entity\")\n",
        "        else:\n",
        "            ents.append(span)\n",
        "    filtered_ents = filter_spans(ents)\n",
        "    doc.ents = filtered_ents\n",
        "    doc_bin.add(doc)\n",
        "doc_bin.to_disk(\"./train.spacy\")"
      ],
      "metadata": {
        "colab": {
          "base_uri": "https://localhost:8080/"
        },
        "id": "QyJucciWK06K",
        "outputId": "e14d36ff-f957-49bf-c9a5-e2f87d0d2227"
      },
      "execution_count": 6,
      "outputs": [
        {
          "output_type": "stream",
          "name": "stderr",
          "text": [
            "100%|██████████| 56/56 [00:00<00:00, 943.19it/s]"
          ]
        },
        {
          "output_type": "stream",
          "name": "stdout",
          "text": [
            "Skipping entity\n",
            "Skipping entity\n",
            "Skipping entity\n",
            "Skipping entity\n",
            "Skipping entity\n",
            "Skipping entity\n",
            "Skipping entity\n",
            "Skipping entity\n",
            "Skipping entity\n",
            "Skipping entity\n",
            "Skipping entity\n",
            "Skipping entity\n",
            "Skipping entity\n",
            "Skipping entity\n",
            "Skipping entity\n",
            "Skipping entity\n",
            "Skipping entity\n",
            "Skipping entity\n",
            "Skipping entity\n",
            "Skipping entity\n",
            "Skipping entity\n",
            "Skipping entity\n",
            "Skipping entity\n",
            "Skipping entity\n",
            "Skipping entity\n",
            "Skipping entity\n",
            "Skipping entity\n",
            "Skipping entity\n",
            "Skipping entity\n",
            "Skipping entity\n",
            "Skipping entity\n",
            "Skipping entity\n",
            "Skipping entity\n",
            "Skipping entity\n",
            "Skipping entity\n",
            "Skipping entity\n",
            "Skipping entity\n",
            "Skipping entity\n",
            "Skipping entity\n",
            "Skipping entity\n",
            "Skipping entity\n",
            "Skipping entity\n",
            "Skipping entity\n",
            "Skipping entity\n",
            "Skipping entity\n",
            "Skipping entity\n",
            "Skipping entity\n",
            "Skipping entity\n",
            "Skipping entity\n",
            "Skipping entity\n",
            "Skipping entity\n",
            "Skipping entity\n",
            "Skipping entity\n",
            "Skipping entity\n",
            "Skipping entity\n",
            "Skipping entity\n",
            "Skipping entity\n",
            "Skipping entity\n",
            "Skipping entity\n",
            "Skipping entity\n",
            "Skipping entity\n",
            "Skipping entity\n",
            "Skipping entity\n",
            "Skipping entity\n",
            "Skipping entity\n",
            "Skipping entity\n",
            "Skipping entity\n",
            "Skipping entity\n",
            "Skipping entity\n",
            "Skipping entity\n",
            "Skipping entity\n",
            "Skipping entity\n",
            "Skipping entity\n",
            "Skipping entity\n",
            "Skipping entity\n",
            "Skipping entity\n",
            "Skipping entity\n",
            "Skipping entity\n",
            "Skipping entity\n",
            "Skipping entity\n",
            "Skipping entity\n",
            "Skipping entity\n",
            "Skipping entity\n",
            "Skipping entity\n",
            "Skipping entity\n",
            "Skipping entity\n",
            "Skipping entity\n",
            "Skipping entity\n",
            "Skipping entity\n"
          ]
        },
        {
          "output_type": "stream",
          "name": "stderr",
          "text": [
            "\n"
          ]
        }
      ]
    },
    {
      "cell_type": "code",
      "source": [
        "!python -m spacy init fill-config base_config.cfg config.cfg"
      ],
      "metadata": {
        "colab": {
          "base_uri": "https://localhost:8080/"
        },
        "id": "pRqsGiJvNrS3",
        "outputId": "71a0fa3c-578e-4013-8dbb-40d8cbbb6347"
      },
      "execution_count": 7,
      "outputs": [
        {
          "output_type": "stream",
          "name": "stdout",
          "text": [
            "\u001b[38;5;2m✔ Auto-filled config with all values\u001b[0m\n",
            "\u001b[38;5;2m✔ Saved config\u001b[0m\n",
            "config.cfg\n",
            "You can now add your data and train your pipeline:\n",
            "python -m spacy train config.cfg --paths.train ./train.spacy --paths.dev ./dev.spacy\n"
          ]
        }
      ]
    },
    {
      "cell_type": "code",
      "source": [
        "!python -m spacy train config.cfg --output ./ --paths.train ./train.spacy --paths.dev ./train.spacy"
      ],
      "metadata": {
        "colab": {
          "base_uri": "https://localhost:8080/"
        },
        "id": "WsFsc_huNrbq",
        "outputId": "706e5c82-2846-412a-c2f4-b9e3b47a053b"
      },
      "execution_count": null,
      "outputs": [
        {
          "output_type": "stream",
          "name": "stdout",
          "text": [
            "\u001b[38;5;4mℹ Saving to output directory: .\u001b[0m\n",
            "\u001b[38;5;4mℹ Using CPU\u001b[0m\n",
            "\u001b[1m\n",
            "=========================== Initializing pipeline ===========================\u001b[0m\n",
            "\u001b[38;5;2m✔ Initialized pipeline\u001b[0m\n",
            "\u001b[1m\n",
            "============================= Training pipeline =============================\u001b[0m\n",
            "\u001b[38;5;4mℹ Pipeline: ['tok2vec', 'ner']\u001b[0m\n",
            "\u001b[38;5;4mℹ Initial learn rate: 0.001\u001b[0m\n",
            "E    #       LOSS TOK2VEC  LOSS NER  ENTS_F  ENTS_P  ENTS_R  SCORE \n",
            "---  ------  ------------  --------  ------  ------  ------  ------\n",
            "  0       0          0.00     57.72   16.14   10.06   40.91    0.16\n"
          ]
        }
      ]
    },
    {
      "cell_type": "code",
      "source": [
        "\n",
        "nlpner = spacy.load(\"./model-best\")\n",
        "doc = nlpner(\"login into arx with maker\")\n",
        "colors = {\"PAGE\": \"#F67DE3\", \"ACTION\": \"#7DF6D9\", \"FIELD\": \"#a6e22d\"}\n",
        "options = {\"ents\": [\"PAGE\", \"ACTION\", \"FIELD\"], \"colors\": colors}\n",
        "# # Need to pass a list of dictionaries where each dictionary represents one sentence.\n",
        "data = [{\"text\": doc.text, \"ents\": [{\"start\": ent.start_char, \"end\": ent.end_char, \"label\": ent.label_} for ent in doc.ents]}]\n",
        "displacy.render(data, style=\"ent\", options=options, manual=True, jupyter=True)\n",
        "print([(ent.text, ent.label_) for ent in doc.ents])"
      ],
      "metadata": {
        "id": "zQrFNialK6lX"
      },
      "execution_count": null,
      "outputs": []
    }
  ]
}