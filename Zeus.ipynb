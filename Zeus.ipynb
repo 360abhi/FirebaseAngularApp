{
  "nbformat": 4,
  "nbformat_minor": 0,
  "metadata": {
    "colab": {
      "provenance": [],
      "authorship_tag": "ABX9TyNPWEj75nXxC3IjCt6/32dn",
      "include_colab_link": true
    },
    "kernelspec": {
      "name": "python3",
      "display_name": "Python 3"
    },
    "language_info": {
      "name": "python"
    }
  },
  "cells": [
    {
      "cell_type": "markdown",
      "metadata": {
        "id": "view-in-github",
        "colab_type": "text"
      },
      "source": [
        "<a href=\"https://colab.research.google.com/github/360abhi/FirebaseAngularApp/blob/main/Zeus.ipynb\" target=\"_parent\"><img src=\"https://colab.research.google.com/assets/colab-badge.svg\" alt=\"Open In Colab\"/></a>"
      ]
    },
    {
      "cell_type": "code",
      "execution_count": 70,
      "metadata": {
        "collapsed": true,
        "id": "8-20WP2UP2WO"
      },
      "outputs": [],
      "source": [
        "import spacy\n",
        "\n",
        "import re\n",
        "\n",
        "# spacy.cli.download(\"en_core_web_sm\")\n",
        "\n",
        "\n",
        "nlp = spacy.load(\"en_core_web_sm\")\n",
        "\n",
        "pre_def_verbs = ['click','submit','review','edit','enter','view','check','access','select','authorize']\n",
        "\n",
        "\n",
        "def find_screen_names(sentence):\n",
        "    pattern = r\"(?i)(?:move to|navigate to|switch to)\\s+'?(?:the|a)?\\s*([\\w\\s]+)'?(?:\\s+tab|\\s+screen|\\s+page|\\s+window)?|'([\\w\\s]+)'\\s+(?:tab|screen|page|window)|(?:\\bin\\b)\\s+'?([\\w]+)\\s+(?:tab|screen|page|window)'?\"\n",
        "\n",
        "    matches = re.findall(pattern, sentence)\n",
        "    screen_names = [name1 or name2 or name3 for name1, name2, name3 in matches if name1 or name2 or name3]\n",
        "\n",
        "    # Remove duplicates\n",
        "    screen_names = list(set(screen_names))\n",
        "    return screen_names\n",
        "\n",
        "def separate_screen_words(screen_names):\n",
        "    words = []\n",
        "    for name in screen_names:\n",
        "        words.extend(name.split())\n",
        "        words.extend(['tab','screen','window'])\n",
        "    return words\n",
        "\n",
        "\n",
        "def extract_action_verbs(sentence):\n",
        "\n",
        "\n",
        "    doc = nlp(sentence)\n",
        "\n",
        "    action_verbs = []\n",
        "\n",
        "    field =[]\n",
        "\n",
        "    screens = []\n",
        "    sep_screens=[]\n",
        "\n",
        "    data =[]\n",
        "\n",
        "    screens = find_screen_names(sentence)\n",
        "    sep_screens = separate_screen_words(screens)\n",
        "    print(sep_screens)\n",
        "\n",
        "\n",
        "    rootToken = next(token for token in doc if token.dep_ == \"ROOT\")\n",
        "\n",
        "\n",
        "    for index,token in enumerate(doc):\n",
        "\n",
        "            if token.dep_ == \"ROOT\":\n",
        "\n",
        "                # Check if ROOT and does not have xcomp children\n",
        "\n",
        "                if not any(child.dep_ in [\"ccomp\",\"xcomp\",\"pcomp\"] for child in token.children):\n",
        "\n",
        "                  if token.pos_ == \"VERB\":\n",
        "\n",
        "                    action_verbs.append(token.text)\n",
        "\n",
        "                    if token.text.lower() not in pre_def_verbs:\n",
        "\n",
        "                      pre_def_verbs.append(token.text.lower())\n",
        "\n",
        "                      # print(token.text.lower())\n",
        "\n",
        "                  elif token.pos_ == \"PROPN\" and token.text not in screens:\n",
        "                    field.append(token.text)\n",
        "\n",
        "\n",
        "\n",
        "                # If ROOT and has xcomp children, skip ROOT but consider xcomp\n",
        "\n",
        "                else:\n",
        "\n",
        "                    for child in token.children:\n",
        "\n",
        "                        if child.dep_ in [\"ccomp\",\"pcomp\",\"xcomp\"] and child.pos_ == \"VERB\":\n",
        "\n",
        "\n",
        "\n",
        "                            action_verbs.append(child.text)\n",
        "\n",
        "                            if child.text.lower() not in pre_def_verbs:\n",
        "\n",
        "                              pre_def_verbs.append(child.text.lower())\n",
        "\n",
        "                              print(child.text.lower())\n",
        "\n",
        "\n",
        "            elif token.dep_ in [\"xcomp\",\"ccomp\",\"pcomp\"]:\n",
        "\n",
        "              # print(\"Insidexcomp\", token.text)\n",
        "\n",
        "              try:\n",
        "\n",
        "                if token.head.text != rootToken.text:\n",
        "\n",
        "                  if token.pos_ == \"VERB\":\n",
        "\n",
        "                    action_verbs.append(token.text)\n",
        "\n",
        "                    if token.text.lower() not in pre_def_verbs:\n",
        "\n",
        "                      pre_def_verbs.append(token.text.lower())\n",
        "\n",
        "                      print(token.text.lower())\n",
        "\n",
        "\n",
        "\n",
        "                    # for child in token.children:\n",
        "\n",
        "\n",
        "\n",
        "                    #   if child.dep_ == \"dobj\":\n",
        "\n",
        "                    #       field = child.text\n",
        "\n",
        "\n",
        "\n",
        "              except:\n",
        "\n",
        "                pass\n",
        "\n",
        "            elif token.dep_ == \"conj\":\n",
        "\n",
        "                # Check if conj has xcomp children and the child is a verb\n",
        "\n",
        "                if any(child.dep_ in [\"xcomp\",\"pcomp\",\"ccomp\"] and child.pos_ == \"VERB\" for child in token.children):\n",
        "\n",
        "                    for child in token.children:\n",
        "\n",
        "                        if child.dep_ in [\"xcomp\",\"pcomp\",\"ccomp\"] and child.pos_ == \"VERB\":\n",
        "\n",
        "                            action_verbs.append(child.text)\n",
        "\n",
        "                            if child.text.lower() not in pre_def_verbs:\n",
        "\n",
        "                              pre_def_verbs.append(child.text.lower())\n",
        "\n",
        "                              print(child.text.lower())\n",
        "\n",
        "\n",
        "\n",
        "                            # for child in token.children:\n",
        "\n",
        "\n",
        "\n",
        "                            #   if child.dep_ == \"dobj\":\n",
        "\n",
        "                            #       field = child.text\n",
        "\n",
        "\n",
        "\n",
        "                # If conj itself is a verb and has no xcomp children, append conj\n",
        "\n",
        "\n",
        "\n",
        "                elif token.pos_ == \"VERB\":\n",
        "\n",
        "                    action_verbs.append(token.text)\n",
        "\n",
        "                    if token.text.lower() not in pre_def_verbs:\n",
        "\n",
        "                      pre_def_verbs.append(token.text.lower())\n",
        "\n",
        "\n",
        "                    # for child in token.children:\n",
        "\n",
        "\n",
        "\n",
        "                    #   if child.dep_ == \"dobj\":\n",
        "\n",
        "                    #       field = child.text\n",
        "\n",
        "\n",
        "\n",
        "            if token.dep_ in [\"dobj\",\"pobj\",\"PROPN\"] and token.text not in sep_screens:\n",
        "\n",
        "              # field.append(token.text)\n",
        "\n",
        "              # var_field = token.text\n",
        "\n",
        "              field.append(token.text)\n",
        "\n",
        "              prev = doc[index-1]\n",
        "\n",
        "\n",
        "              if prev.pos_ in [\"NOUN\",\"ADJ\",\"PROPN\"] and prev.text not in sep_screens:\n",
        "\n",
        "                # field.append(prev.text)\n",
        "\n",
        "                # var_field = prev.text + \" \" + var_field\n",
        "\n",
        "                field.append(prev.text)\n",
        "\n",
        "                # print(var_field)\n",
        "\n",
        "                prev2 = doc[index-2]\n",
        "\n",
        "                if prev2.pos_ in [\"NOUN\",\"ADJ\",\"PROPN\"] and prev2.text not in sep_screens:\n",
        "\n",
        "                  # var_field = prev2.text + \" \" + var_field\n",
        "\n",
        "                  field.append(prev2.text)\n",
        "\n",
        "                  # print(var_field)\n",
        "\n",
        "              # field.append(var_field)\n",
        "\n",
        "            # if token.dep_ in [\"pobj\"] and token.text not in sep_screens and len(field) == 0:\n",
        "\n",
        "            #   # field.append(token.text)\n",
        "\n",
        "            #   # var_field = token.text\n",
        "\n",
        "            #   field.append(token.text)\n",
        "\n",
        "            #   prev = doc[index-1]\n",
        "\n",
        "\n",
        "            #   if prev.pos_ in [\"NOUN\",\"ADJ\",\"PROPN\"] and prev.text not in sep_screens:\n",
        "\n",
        "            #     # field.append(prev.text)\n",
        "\n",
        "            #     # var_field = prev.text + \" \" + var_field\n",
        "\n",
        "            #     field.append(prev.text)\n",
        "\n",
        "            #     # print(var_field)\n",
        "\n",
        "            #     prev2 = doc[index-2]\n",
        "\n",
        "            #     if prev2.pos_ in [\"NOUN\",\"ADJ\",\"PROPN\"] and prev2.text not in sep_screens:\n",
        "\n",
        "            #       # var_field = prev2.text + \" \" + var_field\n",
        "\n",
        "            #       field.append(prev2.text)\n",
        "\n",
        "\n",
        "            # if token.dep_ in [\"pobj\"] and token.text not in sep_screens and len(field) !=0:\n",
        "\n",
        "            #   # field.append(token.text)\n",
        "\n",
        "            #   # var_field = token.text\n",
        "\n",
        "            #   data.append(token.text)\n",
        "\n",
        "            #   prev = doc[index-1]\n",
        "\n",
        "\n",
        "            #   if prev.pos_ in [\"NOUN\",\"ADJ\",\"PROPN\"] and prev.text not in sep_screens:\n",
        "\n",
        "            #     # field.append(prev.text)\n",
        "\n",
        "            #     # var_field = prev.text + \" \" + var_field\n",
        "\n",
        "            #     data.append(prev.text)\n",
        "\n",
        "            #     # print(var_field)\n",
        "\n",
        "            #     prev2 = doc[index-2]\n",
        "\n",
        "            #     if prev2.pos_ in [\"NOUN\",\"ADJ\",\"PROPN\"] and prev2.text not in sep_screens:\n",
        "\n",
        "            #       # var_field = prev2.text + \" \" + var_field\n",
        "\n",
        "            #       data.append(prev2.text)\n",
        "\n",
        "\n",
        "    # PRD check\n",
        "\n",
        "    for token in doc:\n",
        "\n",
        "      if token.text.lower() not in action_verbs and token.text.lower() in pre_def_verbs and token.text not in field:\n",
        "\n",
        "        action_verbs.append(token.text)\n",
        "\n",
        "    return action_verbs,field,screens\n",
        "\n",
        "\n",
        "\n",
        "sentences = [\n",
        "\n",
        "\n",
        "\n",
        "    # \"The operational maker should be able to log in to ARX as Operational Maker and see all products as per entitlement.\",\n",
        "\n",
        "\n",
        "\n",
        "    \"In package tab Click on Create Package button\",\n",
        "\n",
        "\n",
        "\n",
        "    # \"The user should be able to click on the create package button.\",\n",
        "\n",
        "\n",
        "\n",
        "    \"The system should allow the user to enter all details, and after clicking the next button, it should navigate to the 'Products' tab.\",\n",
        "\n",
        "\n",
        "\n",
        "    # \"The bank user should be able to select all the products.\",\n",
        "\n",
        "\n",
        "\n",
        "    # \"The bank user should be able to select all the charge fields.\",\n",
        "\n",
        "\n",
        "\n",
        "    # \"The bank user should be able to select all the billing details.\",\n",
        "\n",
        "\n",
        "\n",
        "    # \"The bank user should be able to select the template and report for collections + J54.\",\n",
        "\n",
        "\n",
        "\n",
        "    # \"The bank user should be able to select the template and report for payments.\",\n",
        "\n",
        "\n",
        "\n",
        "    # \"The bank user should be able to select the template for the common report.\",\n",
        "\n",
        "\n",
        "\n",
        "    # \"The checker should be able to log in to CIM.\",\n",
        "\n",
        "\n",
        "\n",
        "    # \"After clicking save, he submitted the Form\",\n",
        "\n",
        "\n",
        "\n",
        "    # \"User should select the charges as done\",\n",
        "\n",
        "    # \"Access and Login into ARX Page\",\n",
        "\n",
        "    # \"Review and Submit Package\"\n",
        "\n",
        "\n",
        "\n",
        "]\n",
        "\n",
        ""
      ]
    },
    {
      "cell_type": "code",
      "source": [
        "from IPython.display import HTML\n",
        "\n",
        "import re\n",
        "\n",
        "\n",
        "def print_colored_sentence(sentence, words, fields,screens):\n",
        "\n",
        "    words_set = set(words)\n",
        "\n",
        "    fields_set = set(fields)\n",
        "\n",
        "    screen_set = set(screens)\n",
        "\n",
        "    # data_set = set(data)\n",
        "\n",
        "    color =\"red\"\n",
        "\n",
        "    color_field = \"blue\"\n",
        "\n",
        "    colored_sentence = \"\"\n",
        "\n",
        "\n",
        "\n",
        "    for word in sentence.split():\n",
        "\n",
        "        word = re.sub(r'[^\\w\\s]', '', word)\n",
        "\n",
        "        if word in words_set:\n",
        "\n",
        "             colored_sentence += (\n",
        "\n",
        "                f'<span style=\"color: {\"black\"}; background-color: {\"yellow\"}; font-weight: bold;\">{word}</span> '\n",
        "\n",
        "            )\n",
        "\n",
        "        elif word in fields_set:\n",
        "\n",
        "          colored_sentence += (\n",
        "\n",
        "                f'<span style=\"color: {\"white\"}; background-color: {\"blue\"}; font-weight: bold;\">{word}</span> '\n",
        "\n",
        "            )\n",
        "\n",
        "        # elif word in data_set:\n",
        "\n",
        "        #   colored_sentence += (\n",
        "\n",
        "        #         f'<span style=\"color: {\"white\"}; background-color: {\"blue\"}; font-weight: bold;\">{word}</span> '\n",
        "\n",
        "        #     )\n",
        "\n",
        "        else:\n",
        "\n",
        "            colored_sentence += word + \" \"\n",
        "\n",
        "    for screen in screens:\n",
        "\n",
        "      if screen in sentence:\n",
        "\n",
        "        colored_sentence = colored_sentence.replace(screen, f'<span style=\"color: {\"white\"}; background-color: {\"green\"}; font-weight: bold;\">{screen}</span>')\n",
        "\n",
        "\n",
        "\n",
        "    # for field in fields:\n",
        "\n",
        "    #   if field in sentence:\n",
        "\n",
        "    #     colored_sentence = colored_sentence.replace(field, f'<span style=\"color: {\"white\"}; background-color: {\"blue\"}; font-weight: bold;\">{field}</span>')\n",
        "\n",
        "\n",
        "\n",
        "    display(HTML(colored_sentence.strip()))\n",
        "\n",
        "import string\n",
        "\n",
        "def remove_punctuation(sentence):\n",
        "    translator = str.maketrans('', '', string.punctuation)\n",
        "    return sentence.translate(translator)\n",
        "\n",
        "\n",
        "\n",
        "for sentence in sentences:\n",
        "    sentence = remove_punctuation(sentence)\n",
        "\n",
        "    action_verbs,fields,screens = extract_action_verbs(sentence)\n",
        "\n",
        "    print_colored_sentence(sentence, action_verbs,fields,screens)"
      ],
      "metadata": {
        "colab": {
          "base_uri": "https://localhost:8080/",
          "height": 104
        },
        "id": "pgfA9YOu3AAN",
        "outputId": "c86d8734-5eed-4205-fc63-0b93ebe70fd1"
      },
      "execution_count": 71,
      "outputs": [
        {
          "output_type": "stream",
          "name": "stdout",
          "text": [
            "['package', 'tab', 'screen', 'window']\n"
          ]
        },
        {
          "output_type": "display_data",
          "data": {
            "text/plain": [
              "<IPython.core.display.HTML object>"
            ],
            "text/html": [
              "In <span style=\"color: white; background-color: green; font-weight: bold;\">package</span> tab <span style=\"color: black; background-color: yellow; font-weight: bold;\">Click</span> on <span style=\"color: white; background-color: blue; font-weight: bold;\">Create</span> <span style=\"color: white; background-color: blue; font-weight: bold;\">Package</span> <span style=\"color: white; background-color: blue; font-weight: bold;\">button</span>"
            ]
          },
          "metadata": {}
        },
        {
          "output_type": "stream",
          "name": "stdout",
          "text": [
            "['Products', 'tab', 'tab', 'screen', 'window']\n",
            "clicking\n"
          ]
        },
        {
          "output_type": "display_data",
          "data": {
            "text/plain": [
              "<IPython.core.display.HTML object>"
            ],
            "text/html": [
              "The system should allow the user to <span style=\"color: black; background-color: yellow; font-weight: bold;\">enter</span> all <span style=\"color: white; background-color: blue; font-weight: bold;\">details</span> and after <span style=\"color: black; background-color: yellow; font-weight: bold;\">clicking</span> the <span style=\"color: white; background-color: blue; font-weight: bold;\">next</span> <span style=\"color: white; background-color: blue; font-weight: bold;\">button</span> it should <span style=\"color: black; background-color: yellow; font-weight: bold;\">navigate</span> to the <span style=\"color: white; background-color: green; font-weight: bold;\">Products tab</span>"
            ]
          },
          "metadata": {}
        }
      ]
    },
    {
      "cell_type": "code",
      "source": [
        "import pandas as pd\n",
        "import re\n",
        "\n",
        "file_path = 'CIM_TestCases.xlsx'\n",
        "df = pd.read_excel(file_path,\"Onboarding Package\")\n",
        "\n",
        "step_summary_column = df['Step Summary']\n",
        "\n",
        "def split_sentences(text):\n",
        "    sentences = re.split(r'(?<!\\w\\.\\w.)(?<![A-Z][a-z]\\.)(?<=\\.|\\?)\\s', text)\n",
        "    return sentences\n",
        "\n",
        "def contains_number(sentence):\n",
        "    return bool(re.search(r'\\d', sentence))\n",
        "\n",
        "def is_text_sentence(sentence):\n",
        "    return not contains_number(sentence) and sentence.strip()\n",
        "\n",
        "all_sentences = []\n",
        "\n",
        "for text in step_summary_column:\n",
        "    if pd.notna(text):\n",
        "        sentences = split_sentences(text)\n",
        "        filtered_sentences = [s for s in sentences if is_text_sentence(s)]\n",
        "        all_sentences.append(filtered_sentences)\n",
        "\n",
        "for idx, sentences in enumerate(all_sentences[10:50]):\n",
        "    print(f\"TestCase {idx + 1}:\")\n",
        "    for sentence in sentences:\n",
        "      action_verbs,fields,screen = extract_action_verbs(sentence)\n",
        "      print_colored_sentence(sentence, action_verbs,fields,screen)\n",
        "      print()"
      ],
      "metadata": {
        "colab": {
          "base_uri": "https://localhost:8080/",
          "height": 1000
        },
        "id": "FJcyzpDb3TA4",
        "outputId": "e17344e9-2a30-4445-ba3e-6327bf40a317"
      },
      "execution_count": 73,
      "outputs": [
        {
          "output_type": "stream",
          "name": "stdout",
          "text": [
            "TestCase 1:\n",
            "[]\n"
          ]
        },
        {
          "output_type": "display_data",
          "data": {
            "text/plain": [
              "<IPython.core.display.HTML object>"
            ],
            "text/html": [
              "<span style=\"color: black; background-color: yellow; font-weight: bold;\">Login</span> into <span style=\"color: white; background-color: blue; font-weight: bold;\">ARX</span> with <span style=\"color: white; background-color: blue; font-weight: bold;\">Operational</span> <span style=\"color: white; background-color: blue; font-weight: bold;\">maker</span> <span style=\"color: white; background-color: blue; font-weight: bold;\">credential</span>"
            ]
          },
          "metadata": {}
        },
        {
          "output_type": "stream",
          "name": "stdout",
          "text": [
            "\n",
            "[]\n"
          ]
        },
        {
          "output_type": "display_data",
          "data": {
            "text/plain": [
              "<IPython.core.display.HTML object>"
            ],
            "text/html": [
              "<span style=\"color: black; background-color: yellow; font-weight: bold;\">Click</span> On <span style=\"color: white; background-color: blue; font-weight: bold;\">CIM</span>"
            ]
          },
          "metadata": {}
        },
        {
          "output_type": "stream",
          "name": "stdout",
          "text": [
            "\n",
            "['package', 'tab', 'screen', 'window']\n"
          ]
        },
        {
          "output_type": "display_data",
          "data": {
            "text/plain": [
              "<IPython.core.display.HTML object>"
            ],
            "text/html": [
              "In <span style=\"color: white; background-color: green; font-weight: bold;\">package</span> tab <span style=\"color: black; background-color: yellow; font-weight: bold;\">Click</span> on Create Package <span style=\"color: white; background-color: blue; font-weight: bold;\">button</span>"
            ]
          },
          "metadata": {}
        },
        {
          "output_type": "stream",
          "name": "stdout",
          "text": [
            "\n",
            "[]\n"
          ]
        },
        {
          "output_type": "display_data",
          "data": {
            "text/plain": [
              "<IPython.core.display.HTML object>"
            ],
            "text/html": [
              "In <span style=\"color: white; background-color: blue; font-weight: bold;\">details</span> <span style=\"color: black; background-color: yellow; font-weight: bold;\">enter</span> all <span style=\"color: white; background-color: blue; font-weight: bold;\">mandatory</span> <span style=\"color: white; background-color: blue; font-weight: bold;\">details</span> and <span style=\"color: black; background-color: yellow; font-weight: bold;\">select</span> customization as not allowed <span style=\"color: white; background-color: blue; font-weight: bold;\">digital</span> <span style=\"color: white; background-color: blue; font-weight: bold;\">channel</span> as not allowed payment limits as <span style=\"color: white; background-color: blue; font-weight: bold;\">valid</span> <span style=\"color: white; background-color: blue; font-weight: bold;\">limit</span> and <span style=\"color: black; background-color: yellow; font-weight: bold;\">click</span> on <span style=\"color: white; background-color: blue; font-weight: bold;\">next</span> <span style=\"color: white; background-color: blue; font-weight: bold;\">button</span>"
            ]
          },
          "metadata": {}
        },
        {
          "output_type": "stream",
          "name": "stdout",
          "text": [
            "\n",
            "['products', 'tab', 'screen', 'window']\n"
          ]
        },
        {
          "output_type": "display_data",
          "data": {
            "text/plain": [
              "<IPython.core.display.HTML object>"
            ],
            "text/html": [
              "In <span style=\"color: white; background-color: green; font-weight: bold;\">products</span> page <span style=\"color: black; background-color: yellow; font-weight: bold;\">Select</span> payments and collections"
            ]
          },
          "metadata": {}
        },
        {
          "output_type": "stream",
          "name": "stdout",
          "text": [
            "\n",
            "[]\n"
          ]
        },
        {
          "output_type": "display_data",
          "data": {
            "text/plain": [
              "<IPython.core.display.HTML object>"
            ],
            "text/html": [
              "<span style=\"color: black; background-color: yellow; font-weight: bold;\">Login</span> into <span style=\"color: white; background-color: blue; font-weight: bold;\">ARX</span> with <span style=\"color: white; background-color: blue; font-weight: bold;\">checker</span> <span style=\"color: white; background-color: blue; font-weight: bold;\">ID</span>"
            ]
          },
          "metadata": {}
        },
        {
          "output_type": "stream",
          "name": "stdout",
          "text": [
            "\n",
            "[]\n"
          ]
        },
        {
          "output_type": "display_data",
          "data": {
            "text/plain": [
              "<IPython.core.display.HTML object>"
            ],
            "text/html": [
              "<span style=\"color: black; background-color: yellow; font-weight: bold;\">Click</span> on <span style=\"color: white; background-color: blue; font-weight: bold;\">CIM</span>"
            ]
          },
          "metadata": {}
        },
        {
          "output_type": "stream",
          "name": "stdout",
          "text": [
            "\n",
            "[]\n"
          ]
        },
        {
          "output_type": "display_data",
          "data": {
            "text/plain": [
              "<IPython.core.display.HTML object>"
            ],
            "text/html": [
              "<span style=\"color: black; background-color: yellow; font-weight: bold;\">Authorize</span> the <span style=\"color: white; background-color: blue; font-weight: bold;\">package</span>"
            ]
          },
          "metadata": {}
        },
        {
          "output_type": "stream",
          "name": "stdout",
          "text": [
            "\n",
            "TestCase 2:\n",
            "[]\n"
          ]
        },
        {
          "output_type": "display_data",
          "data": {
            "text/plain": [
              "<IPython.core.display.HTML object>"
            ],
            "text/html": [
              "<span style=\"color: black; background-color: yellow; font-weight: bold;\">Login</span> into <span style=\"color: white; background-color: blue; font-weight: bold;\">ARX</span> with <span style=\"color: white; background-color: blue; font-weight: bold;\">Operational</span> <span style=\"color: white; background-color: blue; font-weight: bold;\">maker</span> <span style=\"color: white; background-color: blue; font-weight: bold;\">credential</span>"
            ]
          },
          "metadata": {}
        },
        {
          "output_type": "stream",
          "name": "stdout",
          "text": [
            "\n",
            "[]\n"
          ]
        },
        {
          "output_type": "display_data",
          "data": {
            "text/plain": [
              "<IPython.core.display.HTML object>"
            ],
            "text/html": [
              "<span style=\"color: black; background-color: yellow; font-weight: bold;\">Click</span> On <span style=\"color: white; background-color: blue; font-weight: bold;\">CIM</span>"
            ]
          },
          "metadata": {}
        },
        {
          "output_type": "stream",
          "name": "stdout",
          "text": [
            "\n",
            "['package', 'tab', 'screen', 'window']\n"
          ]
        },
        {
          "output_type": "display_data",
          "data": {
            "text/plain": [
              "<IPython.core.display.HTML object>"
            ],
            "text/html": [
              "In <span style=\"color: white; background-color: green; font-weight: bold;\">package</span> tab <span style=\"color: black; background-color: yellow; font-weight: bold;\">Click</span> on Create Package <span style=\"color: white; background-color: blue; font-weight: bold;\">button</span>"
            ]
          },
          "metadata": {}
        },
        {
          "output_type": "stream",
          "name": "stdout",
          "text": [
            "\n",
            "[]\n"
          ]
        },
        {
          "output_type": "display_data",
          "data": {
            "text/plain": [
              "<IPython.core.display.HTML object>"
            ],
            "text/html": [
              "In <span style=\"color: white; background-color: blue; font-weight: bold;\">details</span> <span style=\"color: black; background-color: yellow; font-weight: bold;\">enter</span> all <span style=\"color: white; background-color: blue; font-weight: bold;\">mandatory</span> <span style=\"color: white; background-color: blue; font-weight: bold;\">details</span> and <span style=\"color: black; background-color: yellow; font-weight: bold;\">select</span> customization as not allowed digital channel as allowed payment limits as <span style=\"color: white; background-color: blue; font-weight: bold;\">valid</span> <span style=\"color: white; background-color: blue; font-weight: bold;\">limit</span> and <span style=\"color: black; background-color: yellow; font-weight: bold;\">click</span> on <span style=\"color: white; background-color: blue; font-weight: bold;\">next</span> <span style=\"color: white; background-color: blue; font-weight: bold;\">button</span>"
            ]
          },
          "metadata": {}
        },
        {
          "output_type": "stream",
          "name": "stdout",
          "text": [
            "\n",
            "['products', 'tab', 'screen', 'window']\n"
          ]
        },
        {
          "output_type": "display_data",
          "data": {
            "text/plain": [
              "<IPython.core.display.HTML object>"
            ],
            "text/html": [
              "In <span style=\"color: white; background-color: green; font-weight: bold;\">products</span> page <span style=\"color: black; background-color: yellow; font-weight: bold;\">Select</span> payments and collections"
            ]
          },
          "metadata": {}
        },
        {
          "output_type": "stream",
          "name": "stdout",
          "text": [
            "\n",
            "[]\n"
          ]
        },
        {
          "output_type": "display_data",
          "data": {
            "text/plain": [
              "<IPython.core.display.HTML object>"
            ],
            "text/html": [
              "<span style=\"color: black; background-color: yellow; font-weight: bold;\">Login</span> into <span style=\"color: white; background-color: blue; font-weight: bold;\">ARX</span> with <span style=\"color: white; background-color: blue; font-weight: bold;\">checker</span> <span style=\"color: white; background-color: blue; font-weight: bold;\">ID</span>"
            ]
          },
          "metadata": {}
        },
        {
          "output_type": "stream",
          "name": "stdout",
          "text": [
            "\n",
            "[]\n"
          ]
        },
        {
          "output_type": "display_data",
          "data": {
            "text/plain": [
              "<IPython.core.display.HTML object>"
            ],
            "text/html": [
              "<span style=\"color: black; background-color: yellow; font-weight: bold;\">Click</span> on <span style=\"color: white; background-color: blue; font-weight: bold;\">CIM</span>"
            ]
          },
          "metadata": {}
        },
        {
          "output_type": "stream",
          "name": "stdout",
          "text": [
            "\n",
            "[]\n"
          ]
        },
        {
          "output_type": "display_data",
          "data": {
            "text/plain": [
              "<IPython.core.display.HTML object>"
            ],
            "text/html": [
              "<span style=\"color: black; background-color: yellow; font-weight: bold;\">Authorize</span> the <span style=\"color: white; background-color: blue; font-weight: bold;\">package</span>"
            ]
          },
          "metadata": {}
        },
        {
          "output_type": "stream",
          "name": "stdout",
          "text": [
            "\n",
            "TestCase 3:\n",
            "[]\n"
          ]
        },
        {
          "output_type": "display_data",
          "data": {
            "text/plain": [
              "<IPython.core.display.HTML object>"
            ],
            "text/html": [
              "<span style=\"color: black; background-color: yellow; font-weight: bold;\">Login</span> into <span style=\"color: white; background-color: blue; font-weight: bold;\">ARX</span> with <span style=\"color: white; background-color: blue; font-weight: bold;\">Operational</span> <span style=\"color: white; background-color: blue; font-weight: bold;\">maker</span> <span style=\"color: white; background-color: blue; font-weight: bold;\">credential</span>"
            ]
          },
          "metadata": {}
        },
        {
          "output_type": "stream",
          "name": "stdout",
          "text": [
            "\n",
            "[]\n"
          ]
        },
        {
          "output_type": "display_data",
          "data": {
            "text/plain": [
              "<IPython.core.display.HTML object>"
            ],
            "text/html": [
              "<span style=\"color: black; background-color: yellow; font-weight: bold;\">Click</span> On <span style=\"color: white; background-color: blue; font-weight: bold;\">CIM</span>"
            ]
          },
          "metadata": {}
        },
        {
          "output_type": "stream",
          "name": "stdout",
          "text": [
            "\n",
            "['package', 'tab', 'screen', 'window']\n"
          ]
        },
        {
          "output_type": "display_data",
          "data": {
            "text/plain": [
              "<IPython.core.display.HTML object>"
            ],
            "text/html": [
              "In <span style=\"color: white; background-color: green; font-weight: bold;\">package</span> tab <span style=\"color: black; background-color: yellow; font-weight: bold;\">Click</span> on Create Package <span style=\"color: white; background-color: blue; font-weight: bold;\">button</span>"
            ]
          },
          "metadata": {}
        },
        {
          "output_type": "stream",
          "name": "stdout",
          "text": [
            "\n",
            "[]\n"
          ]
        },
        {
          "output_type": "display_data",
          "data": {
            "text/plain": [
              "<IPython.core.display.HTML object>"
            ],
            "text/html": [
              "In <span style=\"color: white; background-color: blue; font-weight: bold;\">details</span> <span style=\"color: black; background-color: yellow; font-weight: bold;\">enter</span> all <span style=\"color: white; background-color: blue; font-weight: bold;\">mandatory</span> <span style=\"color: white; background-color: blue; font-weight: bold;\">details</span> and <span style=\"color: black; background-color: yellow; font-weight: bold;\">select</span> customization as not allowed <span style=\"color: white; background-color: blue; font-weight: bold;\">digital</span> <span style=\"color: white; background-color: blue; font-weight: bold;\">channel</span> as allowed payment limits as <span style=\"color: white; background-color: blue; font-weight: bold;\">valid</span> <span style=\"color: white; background-color: blue; font-weight: bold;\">limit</span> and <span style=\"color: black; background-color: yellow; font-weight: bold;\">click</span> on <span style=\"color: white; background-color: blue; font-weight: bold;\">next</span> <span style=\"color: white; background-color: blue; font-weight: bold;\">button</span>"
            ]
          },
          "metadata": {}
        },
        {
          "output_type": "stream",
          "name": "stdout",
          "text": [
            "\n",
            "['products', 'tab', 'screen', 'window']\n"
          ]
        },
        {
          "output_type": "display_data",
          "data": {
            "text/plain": [
              "<IPython.core.display.HTML object>"
            ],
            "text/html": [
              "In <span style=\"color: white; background-color: green; font-weight: bold;\">products</span> <span style=\"color: white; background-color: blue; font-weight: bold;\">page</span> <span style=\"color: black; background-color: yellow; font-weight: bold;\">Select</span> Account services and collections"
            ]
          },
          "metadata": {}
        },
        {
          "output_type": "stream",
          "name": "stdout",
          "text": [
            "\n",
            "[]\n"
          ]
        },
        {
          "output_type": "display_data",
          "data": {
            "text/plain": [
              "<IPython.core.display.HTML object>"
            ],
            "text/html": [
              "<span style=\"color: black; background-color: yellow; font-weight: bold;\">Login</span> into <span style=\"color: white; background-color: blue; font-weight: bold;\">ARX</span> with <span style=\"color: white; background-color: blue; font-weight: bold;\">checker</span> <span style=\"color: white; background-color: blue; font-weight: bold;\">ID</span>"
            ]
          },
          "metadata": {}
        },
        {
          "output_type": "stream",
          "name": "stdout",
          "text": [
            "\n",
            "[]\n"
          ]
        },
        {
          "output_type": "display_data",
          "data": {
            "text/plain": [
              "<IPython.core.display.HTML object>"
            ],
            "text/html": [
              "<span style=\"color: black; background-color: yellow; font-weight: bold;\">Click</span> on <span style=\"color: white; background-color: blue; font-weight: bold;\">CIM</span>"
            ]
          },
          "metadata": {}
        },
        {
          "output_type": "stream",
          "name": "stdout",
          "text": [
            "\n",
            "[]\n"
          ]
        },
        {
          "output_type": "display_data",
          "data": {
            "text/plain": [
              "<IPython.core.display.HTML object>"
            ],
            "text/html": [
              "<span style=\"color: black; background-color: yellow; font-weight: bold;\">Authorize</span> the <span style=\"color: white; background-color: blue; font-weight: bold;\">package</span>"
            ]
          },
          "metadata": {}
        },
        {
          "output_type": "stream",
          "name": "stdout",
          "text": [
            "\n",
            "TestCase 4:\n",
            "[]\n"
          ]
        },
        {
          "output_type": "display_data",
          "data": {
            "text/plain": [
              "<IPython.core.display.HTML object>"
            ],
            "text/html": [
              "<span style=\"color: black; background-color: yellow; font-weight: bold;\">Login</span> into <span style=\"color: white; background-color: blue; font-weight: bold;\">ARX</span> with <span style=\"color: white; background-color: blue; font-weight: bold;\">Operational</span> <span style=\"color: white; background-color: blue; font-weight: bold;\">maker</span> <span style=\"color: white; background-color: blue; font-weight: bold;\">credential</span>"
            ]
          },
          "metadata": {}
        },
        {
          "output_type": "stream",
          "name": "stdout",
          "text": [
            "\n",
            "[]\n"
          ]
        },
        {
          "output_type": "display_data",
          "data": {
            "text/plain": [
              "<IPython.core.display.HTML object>"
            ],
            "text/html": [
              "<span style=\"color: black; background-color: yellow; font-weight: bold;\">Click</span> On <span style=\"color: white; background-color: blue; font-weight: bold;\">CIM</span>"
            ]
          },
          "metadata": {}
        },
        {
          "output_type": "stream",
          "name": "stdout",
          "text": [
            "\n",
            "['package', 'tab', 'screen', 'window']\n"
          ]
        },
        {
          "output_type": "display_data",
          "data": {
            "text/plain": [
              "<IPython.core.display.HTML object>"
            ],
            "text/html": [
              "In <span style=\"color: white; background-color: green; font-weight: bold;\">package</span> tab <span style=\"color: black; background-color: yellow; font-weight: bold;\">Click</span> on Create Package <span style=\"color: white; background-color: blue; font-weight: bold;\">button</span>"
            ]
          },
          "metadata": {}
        },
        {
          "output_type": "stream",
          "name": "stdout",
          "text": [
            "\n",
            "[]\n"
          ]
        },
        {
          "output_type": "display_data",
          "data": {
            "text/plain": [
              "<IPython.core.display.HTML object>"
            ],
            "text/html": [
              "In <span style=\"color: white; background-color: blue; font-weight: bold;\">details</span> <span style=\"color: black; background-color: yellow; font-weight: bold;\">enter</span> all <span style=\"color: white; background-color: blue; font-weight: bold;\">mandatory</span> <span style=\"color: white; background-color: blue; font-weight: bold;\">details</span> and <span style=\"color: black; background-color: yellow; font-weight: bold;\">select</span> customization as not allowed <span style=\"color: white; background-color: blue; font-weight: bold;\">digital</span> <span style=\"color: white; background-color: blue; font-weight: bold;\">channel</span> as not allowed payment limits as <span style=\"color: white; background-color: blue; font-weight: bold;\">valid</span> <span style=\"color: white; background-color: blue; font-weight: bold;\">limit</span> and <span style=\"color: black; background-color: yellow; font-weight: bold;\">click</span> on <span style=\"color: white; background-color: blue; font-weight: bold;\">next</span> <span style=\"color: white; background-color: blue; font-weight: bold;\">button</span>"
            ]
          },
          "metadata": {}
        },
        {
          "output_type": "stream",
          "name": "stdout",
          "text": [
            "\n",
            "['products', 'tab', 'screen', 'window']\n"
          ]
        },
        {
          "output_type": "display_data",
          "data": {
            "text/plain": [
              "<IPython.core.display.HTML object>"
            ],
            "text/html": [
              "In <span style=\"color: white; background-color: green; font-weight: bold;\">products</span> <span style=\"color: white; background-color: blue; font-weight: bold;\">page</span> <span style=\"color: black; background-color: yellow; font-weight: bold;\">Select</span> Account services and collections"
            ]
          },
          "metadata": {}
        },
        {
          "output_type": "stream",
          "name": "stdout",
          "text": [
            "\n",
            "[]\n"
          ]
        },
        {
          "output_type": "display_data",
          "data": {
            "text/plain": [
              "<IPython.core.display.HTML object>"
            ],
            "text/html": [
              "<span style=\"color: black; background-color: yellow; font-weight: bold;\">Login</span> into <span style=\"color: white; background-color: blue; font-weight: bold;\">ARX</span> with <span style=\"color: white; background-color: blue; font-weight: bold;\">checker</span> <span style=\"color: white; background-color: blue; font-weight: bold;\">ID</span>"
            ]
          },
          "metadata": {}
        },
        {
          "output_type": "stream",
          "name": "stdout",
          "text": [
            "\n",
            "[]\n"
          ]
        },
        {
          "output_type": "display_data",
          "data": {
            "text/plain": [
              "<IPython.core.display.HTML object>"
            ],
            "text/html": [
              "<span style=\"color: black; background-color: yellow; font-weight: bold;\">Click</span> on <span style=\"color: white; background-color: blue; font-weight: bold;\">CIM</span>"
            ]
          },
          "metadata": {}
        },
        {
          "output_type": "stream",
          "name": "stdout",
          "text": [
            "\n",
            "[]\n"
          ]
        },
        {
          "output_type": "display_data",
          "data": {
            "text/plain": [
              "<IPython.core.display.HTML object>"
            ],
            "text/html": [
              "<span style=\"color: black; background-color: yellow; font-weight: bold;\">Authorize</span> the <span style=\"color: white; background-color: blue; font-weight: bold;\">package</span>"
            ]
          },
          "metadata": {}
        },
        {
          "output_type": "stream",
          "name": "stdout",
          "text": [
            "\n",
            "TestCase 5:\n",
            "[]\n"
          ]
        },
        {
          "output_type": "display_data",
          "data": {
            "text/plain": [
              "<IPython.core.display.HTML object>"
            ],
            "text/html": [
              "<span style=\"color: black; background-color: yellow; font-weight: bold;\">Login</span> into <span style=\"color: white; background-color: blue; font-weight: bold;\">ARX</span> with <span style=\"color: white; background-color: blue; font-weight: bold;\">Operational</span> <span style=\"color: white; background-color: blue; font-weight: bold;\">maker</span> <span style=\"color: white; background-color: blue; font-weight: bold;\">credential</span>"
            ]
          },
          "metadata": {}
        },
        {
          "output_type": "stream",
          "name": "stdout",
          "text": [
            "\n",
            "[]\n"
          ]
        },
        {
          "output_type": "display_data",
          "data": {
            "text/plain": [
              "<IPython.core.display.HTML object>"
            ],
            "text/html": [
              "<span style=\"color: black; background-color: yellow; font-weight: bold;\">Click</span> On <span style=\"color: white; background-color: blue; font-weight: bold;\">CIM</span>"
            ]
          },
          "metadata": {}
        },
        {
          "output_type": "stream",
          "name": "stdout",
          "text": [
            "\n",
            "['package', 'tab', 'screen', 'window']\n"
          ]
        },
        {
          "output_type": "display_data",
          "data": {
            "text/plain": [
              "<IPython.core.display.HTML object>"
            ],
            "text/html": [
              "In <span style=\"color: white; background-color: green; font-weight: bold;\">package</span> tab <span style=\"color: black; background-color: yellow; font-weight: bold;\">Click</span> on Create Package <span style=\"color: white; background-color: blue; font-weight: bold;\">button</span>"
            ]
          },
          "metadata": {}
        },
        {
          "output_type": "stream",
          "name": "stdout",
          "text": [
            "\n",
            "[]\n"
          ]
        },
        {
          "output_type": "display_data",
          "data": {
            "text/plain": [
              "<IPython.core.display.HTML object>"
            ],
            "text/html": [
              "In <span style=\"color: white; background-color: blue; font-weight: bold;\">details</span> <span style=\"color: black; background-color: yellow; font-weight: bold;\">enter</span> all <span style=\"color: white; background-color: blue; font-weight: bold;\">mandatory</span> <span style=\"color: white; background-color: blue; font-weight: bold;\">details</span> and <span style=\"color: black; background-color: yellow; font-weight: bold;\">select</span> customization as not allowed <span style=\"color: white; background-color: blue; font-weight: bold;\">digital</span> <span style=\"color: white; background-color: blue; font-weight: bold;\">channel</span> as not allowed payment limits as <span style=\"color: white; background-color: blue; font-weight: bold;\">valid</span> <span style=\"color: white; background-color: blue; font-weight: bold;\">limit</span> and <span style=\"color: black; background-color: yellow; font-weight: bold;\">click</span> on <span style=\"color: white; background-color: blue; font-weight: bold;\">next</span> <span style=\"color: white; background-color: blue; font-weight: bold;\">button</span>"
            ]
          },
          "metadata": {}
        },
        {
          "output_type": "stream",
          "name": "stdout",
          "text": [
            "\n",
            "['products', 'tab', 'screen', 'window']\n"
          ]
        },
        {
          "output_type": "display_data",
          "data": {
            "text/plain": [
              "<IPython.core.display.HTML object>"
            ],
            "text/html": [
              "In <span style=\"color: white; background-color: green; font-weight: bold;\">products</span> page <span style=\"color: black; background-color: yellow; font-weight: bold;\">Select</span> collections"
            ]
          },
          "metadata": {}
        },
        {
          "output_type": "stream",
          "name": "stdout",
          "text": [
            "\n",
            "[]\n"
          ]
        },
        {
          "output_type": "display_data",
          "data": {
            "text/plain": [
              "<IPython.core.display.HTML object>"
            ],
            "text/html": [
              "<span style=\"color: black; background-color: yellow; font-weight: bold;\">Login</span> into <span style=\"color: white; background-color: blue; font-weight: bold;\">ARX</span> with <span style=\"color: white; background-color: blue; font-weight: bold;\">checker</span> <span style=\"color: white; background-color: blue; font-weight: bold;\">ID</span>"
            ]
          },
          "metadata": {}
        },
        {
          "output_type": "stream",
          "name": "stdout",
          "text": [
            "\n",
            "[]\n"
          ]
        },
        {
          "output_type": "display_data",
          "data": {
            "text/plain": [
              "<IPython.core.display.HTML object>"
            ],
            "text/html": [
              "<span style=\"color: black; background-color: yellow; font-weight: bold;\">Click</span> on <span style=\"color: white; background-color: blue; font-weight: bold;\">CIM</span>"
            ]
          },
          "metadata": {}
        },
        {
          "output_type": "stream",
          "name": "stdout",
          "text": [
            "\n",
            "[]\n"
          ]
        },
        {
          "output_type": "display_data",
          "data": {
            "text/plain": [
              "<IPython.core.display.HTML object>"
            ],
            "text/html": [
              "<span style=\"color: black; background-color: yellow; font-weight: bold;\">Authorize</span> the <span style=\"color: white; background-color: blue; font-weight: bold;\">package</span>"
            ]
          },
          "metadata": {}
        },
        {
          "output_type": "stream",
          "name": "stdout",
          "text": [
            "\n",
            "TestCase 6:\n",
            "[]\n"
          ]
        },
        {
          "output_type": "display_data",
          "data": {
            "text/plain": [
              "<IPython.core.display.HTML object>"
            ],
            "text/html": [
              "<span style=\"color: black; background-color: yellow; font-weight: bold;\">Login</span> into <span style=\"color: white; background-color: blue; font-weight: bold;\">ARX</span> with <span style=\"color: white; background-color: blue; font-weight: bold;\">Operational</span> <span style=\"color: white; background-color: blue; font-weight: bold;\">maker</span> <span style=\"color: white; background-color: blue; font-weight: bold;\">credential</span>"
            ]
          },
          "metadata": {}
        },
        {
          "output_type": "stream",
          "name": "stdout",
          "text": [
            "\n",
            "[]\n"
          ]
        },
        {
          "output_type": "display_data",
          "data": {
            "text/plain": [
              "<IPython.core.display.HTML object>"
            ],
            "text/html": [
              "<span style=\"color: black; background-color: yellow; font-weight: bold;\">Click</span> On <span style=\"color: white; background-color: blue; font-weight: bold;\">CIM</span>"
            ]
          },
          "metadata": {}
        },
        {
          "output_type": "stream",
          "name": "stdout",
          "text": [
            "\n",
            "['package', 'tab', 'screen', 'window']\n"
          ]
        },
        {
          "output_type": "display_data",
          "data": {
            "text/plain": [
              "<IPython.core.display.HTML object>"
            ],
            "text/html": [
              "In <span style=\"color: white; background-color: green; font-weight: bold;\">package</span> tab <span style=\"color: black; background-color: yellow; font-weight: bold;\">Click</span> on Create Package <span style=\"color: white; background-color: blue; font-weight: bold;\">button</span>"
            ]
          },
          "metadata": {}
        },
        {
          "output_type": "stream",
          "name": "stdout",
          "text": [
            "\n",
            "[]\n"
          ]
        },
        {
          "output_type": "display_data",
          "data": {
            "text/plain": [
              "<IPython.core.display.HTML object>"
            ],
            "text/html": [
              "In <span style=\"color: white; background-color: blue; font-weight: bold;\">details</span> <span style=\"color: black; background-color: yellow; font-weight: bold;\">enter</span> all <span style=\"color: white; background-color: blue; font-weight: bold;\">mandatory</span> <span style=\"color: white; background-color: blue; font-weight: bold;\">details</span> and <span style=\"color: black; background-color: yellow; font-weight: bold;\">select</span> customization as not allowed <span style=\"color: white; background-color: blue; font-weight: bold;\">digital</span> <span style=\"color: white; background-color: blue; font-weight: bold;\">channel</span> as allowed payment limits as <span style=\"color: white; background-color: blue; font-weight: bold;\">valid</span> <span style=\"color: white; background-color: blue; font-weight: bold;\">limit</span> and <span style=\"color: black; background-color: yellow; font-weight: bold;\">click</span> on <span style=\"color: white; background-color: blue; font-weight: bold;\">next</span> <span style=\"color: white; background-color: blue; font-weight: bold;\">button</span>"
            ]
          },
          "metadata": {}
        },
        {
          "output_type": "stream",
          "name": "stdout",
          "text": [
            "\n",
            "['products', 'tab', 'screen', 'window']\n"
          ]
        },
        {
          "output_type": "display_data",
          "data": {
            "text/plain": [
              "<IPython.core.display.HTML object>"
            ],
            "text/html": [
              "In <span style=\"color: white; background-color: green; font-weight: bold;\">products</span> page <span style=\"color: black; background-color: yellow; font-weight: bold;\">Select</span> collections"
            ]
          },
          "metadata": {}
        },
        {
          "output_type": "stream",
          "name": "stdout",
          "text": [
            "\n",
            "[]\n"
          ]
        },
        {
          "output_type": "display_data",
          "data": {
            "text/plain": [
              "<IPython.core.display.HTML object>"
            ],
            "text/html": [
              "<span style=\"color: black; background-color: yellow; font-weight: bold;\">Login</span> into <span style=\"color: white; background-color: blue; font-weight: bold;\">ARX</span> with <span style=\"color: white; background-color: blue; font-weight: bold;\">checker</span> <span style=\"color: white; background-color: blue; font-weight: bold;\">ID</span>"
            ]
          },
          "metadata": {}
        },
        {
          "output_type": "stream",
          "name": "stdout",
          "text": [
            "\n",
            "[]\n"
          ]
        },
        {
          "output_type": "display_data",
          "data": {
            "text/plain": [
              "<IPython.core.display.HTML object>"
            ],
            "text/html": [
              "<span style=\"color: black; background-color: yellow; font-weight: bold;\">Click</span> on <span style=\"color: white; background-color: blue; font-weight: bold;\">CIM</span>"
            ]
          },
          "metadata": {}
        },
        {
          "output_type": "stream",
          "name": "stdout",
          "text": [
            "\n",
            "[]\n"
          ]
        },
        {
          "output_type": "display_data",
          "data": {
            "text/plain": [
              "<IPython.core.display.HTML object>"
            ],
            "text/html": [
              "<span style=\"color: black; background-color: yellow; font-weight: bold;\">Authorize</span> the <span style=\"color: white; background-color: blue; font-weight: bold;\">package</span>"
            ]
          },
          "metadata": {}
        },
        {
          "output_type": "stream",
          "name": "stdout",
          "text": [
            "\n",
            "TestCase 7:\n",
            "[]\n"
          ]
        },
        {
          "output_type": "display_data",
          "data": {
            "text/plain": [
              "<IPython.core.display.HTML object>"
            ],
            "text/html": [
              "<span style=\"color: black; background-color: yellow; font-weight: bold;\">Login</span> into <span style=\"color: white; background-color: blue; font-weight: bold;\">ARX</span> with <span style=\"color: white; background-color: blue; font-weight: bold;\">Operational</span> <span style=\"color: white; background-color: blue; font-weight: bold;\">maker</span> <span style=\"color: white; background-color: blue; font-weight: bold;\">credential</span>"
            ]
          },
          "metadata": {}
        },
        {
          "output_type": "stream",
          "name": "stdout",
          "text": [
            "\n",
            "[]\n"
          ]
        },
        {
          "output_type": "display_data",
          "data": {
            "text/plain": [
              "<IPython.core.display.HTML object>"
            ],
            "text/html": [
              "<span style=\"color: black; background-color: yellow; font-weight: bold;\">Click</span> On <span style=\"color: white; background-color: blue; font-weight: bold;\">CIM</span>"
            ]
          },
          "metadata": {}
        },
        {
          "output_type": "stream",
          "name": "stdout",
          "text": [
            "\n",
            "['package', 'tab', 'screen', 'window']\n"
          ]
        },
        {
          "output_type": "display_data",
          "data": {
            "text/plain": [
              "<IPython.core.display.HTML object>"
            ],
            "text/html": [
              "In <span style=\"color: white; background-color: green; font-weight: bold;\">package</span> tab <span style=\"color: black; background-color: yellow; font-weight: bold;\">Click</span> on Create Package <span style=\"color: white; background-color: blue; font-weight: bold;\">button</span>"
            ]
          },
          "metadata": {}
        },
        {
          "output_type": "stream",
          "name": "stdout",
          "text": [
            "\n",
            "[]\n"
          ]
        },
        {
          "output_type": "display_data",
          "data": {
            "text/plain": [
              "<IPython.core.display.HTML object>"
            ],
            "text/html": [
              "In <span style=\"color: white; background-color: blue; font-weight: bold;\">details</span> <span style=\"color: black; background-color: yellow; font-weight: bold;\">enter</span> all <span style=\"color: white; background-color: blue; font-weight: bold;\">mandatory</span> <span style=\"color: white; background-color: blue; font-weight: bold;\">details</span> and <span style=\"color: black; background-color: yellow; font-weight: bold;\">select</span> customization as allowed <span style=\"color: black; background-color: yellow; font-weight: bold;\">click</span> on <span style=\"color: white; background-color: blue; font-weight: bold;\">next</span> <span style=\"color: white; background-color: blue; font-weight: bold;\">button</span>"
            ]
          },
          "metadata": {}
        },
        {
          "output_type": "stream",
          "name": "stdout",
          "text": [
            "\n",
            "[]\n"
          ]
        },
        {
          "output_type": "display_data",
          "data": {
            "text/plain": [
              "<IPython.core.display.HTML object>"
            ],
            "text/html": [
              "<span style=\"color: black; background-color: yellow; font-weight: bold;\">Login</span> into <span style=\"color: white; background-color: blue; font-weight: bold;\">ARX</span> with <span style=\"color: white; background-color: blue; font-weight: bold;\">checker</span> <span style=\"color: white; background-color: blue; font-weight: bold;\">ID</span>"
            ]
          },
          "metadata": {}
        },
        {
          "output_type": "stream",
          "name": "stdout",
          "text": [
            "\n",
            "[]\n"
          ]
        },
        {
          "output_type": "display_data",
          "data": {
            "text/plain": [
              "<IPython.core.display.HTML object>"
            ],
            "text/html": [
              "<span style=\"color: black; background-color: yellow; font-weight: bold;\">Click</span> on <span style=\"color: white; background-color: blue; font-weight: bold;\">CIM</span>"
            ]
          },
          "metadata": {}
        },
        {
          "output_type": "stream",
          "name": "stdout",
          "text": [
            "\n",
            "[]\n"
          ]
        },
        {
          "output_type": "display_data",
          "data": {
            "text/plain": [
              "<IPython.core.display.HTML object>"
            ],
            "text/html": [
              "<span style=\"color: black; background-color: yellow; font-weight: bold;\">Authorize</span> the <span style=\"color: white; background-color: blue; font-weight: bold;\">package</span>"
            ]
          },
          "metadata": {}
        },
        {
          "output_type": "stream",
          "name": "stdout",
          "text": [
            "\n",
            "TestCase 8:\n",
            "[]\n"
          ]
        },
        {
          "output_type": "display_data",
          "data": {
            "text/plain": [
              "<IPython.core.display.HTML object>"
            ],
            "text/html": [
              "<span style=\"color: black; background-color: yellow; font-weight: bold;\">Login</span> into <span style=\"color: white; background-color: blue; font-weight: bold;\">ARX</span> with <span style=\"color: white; background-color: blue; font-weight: bold;\">Operational</span> <span style=\"color: white; background-color: blue; font-weight: bold;\">maker</span> <span style=\"color: white; background-color: blue; font-weight: bold;\">credential</span>"
            ]
          },
          "metadata": {}
        },
        {
          "output_type": "stream",
          "name": "stdout",
          "text": [
            "\n",
            "[]\n"
          ]
        },
        {
          "output_type": "display_data",
          "data": {
            "text/plain": [
              "<IPython.core.display.HTML object>"
            ],
            "text/html": [
              "<span style=\"color: black; background-color: yellow; font-weight: bold;\">Click</span> On <span style=\"color: white; background-color: blue; font-weight: bold;\">CIM</span>"
            ]
          },
          "metadata": {}
        },
        {
          "output_type": "stream",
          "name": "stdout",
          "text": [
            "\n",
            "['package', 'tab', 'screen', 'window']\n"
          ]
        },
        {
          "output_type": "display_data",
          "data": {
            "text/plain": [
              "<IPython.core.display.HTML object>"
            ],
            "text/html": [
              "In <span style=\"color: white; background-color: green; font-weight: bold;\">package</span> tab <span style=\"color: black; background-color: yellow; font-weight: bold;\">Click</span> on Create Package <span style=\"color: white; background-color: blue; font-weight: bold;\">button</span>"
            ]
          },
          "metadata": {}
        },
        {
          "output_type": "stream",
          "name": "stdout",
          "text": [
            "\n",
            "[]\n"
          ]
        },
        {
          "output_type": "display_data",
          "data": {
            "text/plain": [
              "<IPython.core.display.HTML object>"
            ],
            "text/html": [
              "In <span style=\"color: white; background-color: blue; font-weight: bold;\">details</span> <span style=\"color: black; background-color: yellow; font-weight: bold;\">enter</span> all <span style=\"color: white; background-color: blue; font-weight: bold;\">mandatory</span> <span style=\"color: white; background-color: blue; font-weight: bold;\">details</span> and <span style=\"color: black; background-color: yellow; font-weight: bold;\">select</span> customization as allowed and <span style=\"color: white; background-color: blue; font-weight: bold;\">digital</span> <span style=\"color: white; background-color: blue; font-weight: bold;\">channel</span> as not allowed and <span style=\"color: black; background-color: yellow; font-weight: bold;\">click</span> on <span style=\"color: white; background-color: blue; font-weight: bold;\">next</span> <span style=\"color: white; background-color: blue; font-weight: bold;\">button</span>"
            ]
          },
          "metadata": {}
        },
        {
          "output_type": "stream",
          "name": "stdout",
          "text": [
            "\n",
            "[]\n"
          ]
        },
        {
          "output_type": "display_data",
          "data": {
            "text/plain": [
              "<IPython.core.display.HTML object>"
            ],
            "text/html": [
              "<span style=\"color: black; background-color: yellow; font-weight: bold;\">Login</span> into <span style=\"color: white; background-color: blue; font-weight: bold;\">ARX</span> with <span style=\"color: white; background-color: blue; font-weight: bold;\">checker</span> <span style=\"color: white; background-color: blue; font-weight: bold;\">ID</span>"
            ]
          },
          "metadata": {}
        },
        {
          "output_type": "stream",
          "name": "stdout",
          "text": [
            "\n",
            "[]\n"
          ]
        },
        {
          "output_type": "display_data",
          "data": {
            "text/plain": [
              "<IPython.core.display.HTML object>"
            ],
            "text/html": [
              "<span style=\"color: black; background-color: yellow; font-weight: bold;\">Click</span> on <span style=\"color: white; background-color: blue; font-weight: bold;\">CIM</span>"
            ]
          },
          "metadata": {}
        },
        {
          "output_type": "stream",
          "name": "stdout",
          "text": [
            "\n",
            "[]\n"
          ]
        },
        {
          "output_type": "display_data",
          "data": {
            "text/plain": [
              "<IPython.core.display.HTML object>"
            ],
            "text/html": [
              "<span style=\"color: black; background-color: yellow; font-weight: bold;\">Authorize</span> the <span style=\"color: white; background-color: blue; font-weight: bold;\">package</span>"
            ]
          },
          "metadata": {}
        },
        {
          "output_type": "stream",
          "name": "stdout",
          "text": [
            "\n",
            "TestCase 9:\n",
            "[]\n"
          ]
        },
        {
          "output_type": "display_data",
          "data": {
            "text/plain": [
              "<IPython.core.display.HTML object>"
            ],
            "text/html": [
              "<span style=\"color: black; background-color: yellow; font-weight: bold;\">Login</span> into <span style=\"color: white; background-color: blue; font-weight: bold;\">ARX</span> with <span style=\"color: white; background-color: blue; font-weight: bold;\">Operational</span> <span style=\"color: white; background-color: blue; font-weight: bold;\">maker</span> <span style=\"color: white; background-color: blue; font-weight: bold;\">credential</span>"
            ]
          },
          "metadata": {}
        },
        {
          "output_type": "stream",
          "name": "stdout",
          "text": [
            "\n",
            "[]\n"
          ]
        },
        {
          "output_type": "display_data",
          "data": {
            "text/plain": [
              "<IPython.core.display.HTML object>"
            ],
            "text/html": [
              "<span style=\"color: black; background-color: yellow; font-weight: bold;\">Click</span> On <span style=\"color: white; background-color: blue; font-weight: bold;\">CIM</span>"
            ]
          },
          "metadata": {}
        },
        {
          "output_type": "stream",
          "name": "stdout",
          "text": [
            "\n",
            "['package', 'tab', 'screen', 'window']\n"
          ]
        },
        {
          "output_type": "display_data",
          "data": {
            "text/plain": [
              "<IPython.core.display.HTML object>"
            ],
            "text/html": [
              "In <span style=\"color: white; background-color: green; font-weight: bold;\">package</span> tab <span style=\"color: black; background-color: yellow; font-weight: bold;\">Click</span> on Create Package <span style=\"color: white; background-color: blue; font-weight: bold;\">button</span>"
            ]
          },
          "metadata": {}
        },
        {
          "output_type": "stream",
          "name": "stdout",
          "text": [
            "\n",
            "[]\n"
          ]
        },
        {
          "output_type": "display_data",
          "data": {
            "text/plain": [
              "<IPython.core.display.HTML object>"
            ],
            "text/html": [
              "In <span style=\"color: white; background-color: blue; font-weight: bold;\">details</span> <span style=\"color: black; background-color: yellow; font-weight: bold;\">enter</span> all <span style=\"color: white; background-color: blue; font-weight: bold;\">mandatory</span> <span style=\"color: white; background-color: blue; font-weight: bold;\">details</span> and <span style=\"color: black; background-color: yellow; font-weight: bold;\">select</span> customization as allowed digital channel as allowed <span style=\"color: white; background-color: blue; font-weight: bold;\">payment</span> <span style=\"color: white; background-color: blue; font-weight: bold;\">limits</span> as blank and <span style=\"color: black; background-color: yellow; font-weight: bold;\">click</span> on <span style=\"color: white; background-color: blue; font-weight: bold;\">next</span> <span style=\"color: white; background-color: blue; font-weight: bold;\">button</span>"
            ]
          },
          "metadata": {}
        },
        {
          "output_type": "stream",
          "name": "stdout",
          "text": [
            "\n",
            "[]\n"
          ]
        },
        {
          "output_type": "display_data",
          "data": {
            "text/plain": [
              "<IPython.core.display.HTML object>"
            ],
            "text/html": [
              "<span style=\"color: black; background-color: yellow; font-weight: bold;\">Login</span> into <span style=\"color: white; background-color: blue; font-weight: bold;\">ARX</span> with <span style=\"color: white; background-color: blue; font-weight: bold;\">checker</span> <span style=\"color: white; background-color: blue; font-weight: bold;\">ID</span>"
            ]
          },
          "metadata": {}
        },
        {
          "output_type": "stream",
          "name": "stdout",
          "text": [
            "\n",
            "[]\n"
          ]
        },
        {
          "output_type": "display_data",
          "data": {
            "text/plain": [
              "<IPython.core.display.HTML object>"
            ],
            "text/html": [
              "<span style=\"color: black; background-color: yellow; font-weight: bold;\">Click</span> on <span style=\"color: white; background-color: blue; font-weight: bold;\">CIM</span>"
            ]
          },
          "metadata": {}
        },
        {
          "output_type": "stream",
          "name": "stdout",
          "text": [
            "\n",
            "[]\n"
          ]
        },
        {
          "output_type": "display_data",
          "data": {
            "text/plain": [
              "<IPython.core.display.HTML object>"
            ],
            "text/html": [
              "<span style=\"color: black; background-color: yellow; font-weight: bold;\">Authorize</span> the <span style=\"color: white; background-color: blue; font-weight: bold;\">package</span>"
            ]
          },
          "metadata": {}
        },
        {
          "output_type": "stream",
          "name": "stdout",
          "text": [
            "\n",
            "TestCase 10:\n",
            "[]\n"
          ]
        },
        {
          "output_type": "display_data",
          "data": {
            "text/plain": [
              "<IPython.core.display.HTML object>"
            ],
            "text/html": [
              "<span style=\"color: black; background-color: yellow; font-weight: bold;\">Login</span> into <span style=\"color: white; background-color: blue; font-weight: bold;\">ARX</span> with <span style=\"color: white; background-color: blue; font-weight: bold;\">Operational</span> <span style=\"color: white; background-color: blue; font-weight: bold;\">maker</span> <span style=\"color: white; background-color: blue; font-weight: bold;\">credential</span>"
            ]
          },
          "metadata": {}
        },
        {
          "output_type": "stream",
          "name": "stdout",
          "text": [
            "\n",
            "[]\n"
          ]
        },
        {
          "output_type": "display_data",
          "data": {
            "text/plain": [
              "<IPython.core.display.HTML object>"
            ],
            "text/html": [
              "<span style=\"color: black; background-color: yellow; font-weight: bold;\">Click</span> On <span style=\"color: white; background-color: blue; font-weight: bold;\">CIM</span>"
            ]
          },
          "metadata": {}
        },
        {
          "output_type": "stream",
          "name": "stdout",
          "text": [
            "\n",
            "['package', 'tab', 'screen', 'window']\n"
          ]
        },
        {
          "output_type": "display_data",
          "data": {
            "text/plain": [
              "<IPython.core.display.HTML object>"
            ],
            "text/html": [
              "In <span style=\"color: white; background-color: green; font-weight: bold;\">package</span> tab <span style=\"color: black; background-color: yellow; font-weight: bold;\">Click</span> on Create Package <span style=\"color: white; background-color: blue; font-weight: bold;\">button</span>"
            ]
          },
          "metadata": {}
        },
        {
          "output_type": "stream",
          "name": "stdout",
          "text": [
            "\n",
            "[]\n"
          ]
        },
        {
          "output_type": "display_data",
          "data": {
            "text/plain": [
              "<IPython.core.display.HTML object>"
            ],
            "text/html": [
              "In <span style=\"color: white; background-color: blue; font-weight: bold;\">details</span> <span style=\"color: black; background-color: yellow; font-weight: bold;\">enter</span> all <span style=\"color: white; background-color: blue; font-weight: bold;\">mandatory</span> <span style=\"color: white; background-color: blue; font-weight: bold;\">details</span> and <span style=\"color: black; background-color: yellow; font-weight: bold;\">select</span> customization as allowed digital channel as not allowed <span style=\"color: white; background-color: blue; font-weight: bold;\">payment</span> <span style=\"color: white; background-color: blue; font-weight: bold;\">limits</span> as blank and <span style=\"color: black; background-color: yellow; font-weight: bold;\">click</span> on <span style=\"color: white; background-color: blue; font-weight: bold;\">next</span> <span style=\"color: white; background-color: blue; font-weight: bold;\">button</span>"
            ]
          },
          "metadata": {}
        },
        {
          "output_type": "stream",
          "name": "stdout",
          "text": [
            "\n",
            "[]\n"
          ]
        },
        {
          "output_type": "display_data",
          "data": {
            "text/plain": [
              "<IPython.core.display.HTML object>"
            ],
            "text/html": [
              "<span style=\"color: black; background-color: yellow; font-weight: bold;\">Login</span> into <span style=\"color: white; background-color: blue; font-weight: bold;\">ARX</span> with <span style=\"color: white; background-color: blue; font-weight: bold;\">checker</span> <span style=\"color: white; background-color: blue; font-weight: bold;\">ID</span>"
            ]
          },
          "metadata": {}
        },
        {
          "output_type": "stream",
          "name": "stdout",
          "text": [
            "\n",
            "[]\n"
          ]
        },
        {
          "output_type": "display_data",
          "data": {
            "text/plain": [
              "<IPython.core.display.HTML object>"
            ],
            "text/html": [
              "<span style=\"color: black; background-color: yellow; font-weight: bold;\">Click</span> on <span style=\"color: white; background-color: blue; font-weight: bold;\">CIM</span>"
            ]
          },
          "metadata": {}
        },
        {
          "output_type": "stream",
          "name": "stdout",
          "text": [
            "\n",
            "[]\n"
          ]
        },
        {
          "output_type": "display_data",
          "data": {
            "text/plain": [
              "<IPython.core.display.HTML object>"
            ],
            "text/html": [
              "<span style=\"color: black; background-color: yellow; font-weight: bold;\">Authorize</span> the <span style=\"color: white; background-color: blue; font-weight: bold;\">package</span>"
            ]
          },
          "metadata": {}
        },
        {
          "output_type": "stream",
          "name": "stdout",
          "text": [
            "\n",
            "TestCase 11:\n",
            "[]\n"
          ]
        },
        {
          "output_type": "display_data",
          "data": {
            "text/plain": [
              "<IPython.core.display.HTML object>"
            ],
            "text/html": [
              "<span style=\"color: black; background-color: yellow; font-weight: bold;\">Login</span> into <span style=\"color: white; background-color: blue; font-weight: bold;\">ARX</span> with <span style=\"color: white; background-color: blue; font-weight: bold;\">Operational</span> <span style=\"color: white; background-color: blue; font-weight: bold;\">maker</span> <span style=\"color: white; background-color: blue; font-weight: bold;\">credential</span>"
            ]
          },
          "metadata": {}
        },
        {
          "output_type": "stream",
          "name": "stdout",
          "text": [
            "\n",
            "[]\n"
          ]
        },
        {
          "output_type": "display_data",
          "data": {
            "text/plain": [
              "<IPython.core.display.HTML object>"
            ],
            "text/html": [
              "<span style=\"color: black; background-color: yellow; font-weight: bold;\">Click</span> On <span style=\"color: white; background-color: blue; font-weight: bold;\">CIM</span>"
            ]
          },
          "metadata": {}
        },
        {
          "output_type": "stream",
          "name": "stdout",
          "text": [
            "\n",
            "['package', 'tab', 'screen', 'window']\n"
          ]
        },
        {
          "output_type": "display_data",
          "data": {
            "text/plain": [
              "<IPython.core.display.HTML object>"
            ],
            "text/html": [
              "In <span style=\"color: white; background-color: green; font-weight: bold;\">package</span> tab <span style=\"color: black; background-color: yellow; font-weight: bold;\">Click</span> on Create Package <span style=\"color: white; background-color: blue; font-weight: bold;\">button</span>"
            ]
          },
          "metadata": {}
        },
        {
          "output_type": "stream",
          "name": "stdout",
          "text": [
            "\n",
            "[]\n"
          ]
        },
        {
          "output_type": "display_data",
          "data": {
            "text/plain": [
              "<IPython.core.display.HTML object>"
            ],
            "text/html": [
              "In <span style=\"color: white; background-color: blue; font-weight: bold;\">details</span> <span style=\"color: black; background-color: yellow; font-weight: bold;\">enter</span> all <span style=\"color: white; background-color: blue; font-weight: bold;\">mandatory</span> <span style=\"color: white; background-color: blue; font-weight: bold;\">details</span> and <span style=\"color: black; background-color: yellow; font-weight: bold;\">select</span> customization as allowed digital channel as allowed <span style=\"color: white; background-color: blue; font-weight: bold;\">payment</span> <span style=\"color: white; background-color: blue; font-weight: bold;\">limits</span> as blank and <span style=\"color: black; background-color: yellow; font-weight: bold;\">click</span> on <span style=\"color: white; background-color: blue; font-weight: bold;\">next</span> <span style=\"color: white; background-color: blue; font-weight: bold;\">button</span>"
            ]
          },
          "metadata": {}
        },
        {
          "output_type": "stream",
          "name": "stdout",
          "text": [
            "\n",
            "[]\n"
          ]
        },
        {
          "output_type": "display_data",
          "data": {
            "text/plain": [
              "<IPython.core.display.HTML object>"
            ],
            "text/html": [
              "<span style=\"color: black; background-color: yellow; font-weight: bold;\">Login</span> into <span style=\"color: white; background-color: blue; font-weight: bold;\">ARX</span> with <span style=\"color: white; background-color: blue; font-weight: bold;\">checker</span> <span style=\"color: white; background-color: blue; font-weight: bold;\">ID</span>"
            ]
          },
          "metadata": {}
        },
        {
          "output_type": "stream",
          "name": "stdout",
          "text": [
            "\n",
            "[]\n"
          ]
        },
        {
          "output_type": "display_data",
          "data": {
            "text/plain": [
              "<IPython.core.display.HTML object>"
            ],
            "text/html": [
              "<span style=\"color: black; background-color: yellow; font-weight: bold;\">Click</span> on <span style=\"color: white; background-color: blue; font-weight: bold;\">CIM</span>"
            ]
          },
          "metadata": {}
        },
        {
          "output_type": "stream",
          "name": "stdout",
          "text": [
            "\n",
            "[]\n"
          ]
        },
        {
          "output_type": "display_data",
          "data": {
            "text/plain": [
              "<IPython.core.display.HTML object>"
            ],
            "text/html": [
              "<span style=\"color: black; background-color: yellow; font-weight: bold;\">Authorize</span> the <span style=\"color: white; background-color: blue; font-weight: bold;\">package</span>"
            ]
          },
          "metadata": {}
        },
        {
          "output_type": "stream",
          "name": "stdout",
          "text": [
            "\n",
            "TestCase 12:\n",
            "[]\n"
          ]
        },
        {
          "output_type": "display_data",
          "data": {
            "text/plain": [
              "<IPython.core.display.HTML object>"
            ],
            "text/html": [
              "<span style=\"color: black; background-color: yellow; font-weight: bold;\">Login</span> into <span style=\"color: white; background-color: blue; font-weight: bold;\">ARX</span> with <span style=\"color: white; background-color: blue; font-weight: bold;\">Operational</span> <span style=\"color: white; background-color: blue; font-weight: bold;\">maker</span> <span style=\"color: white; background-color: blue; font-weight: bold;\">credential</span>"
            ]
          },
          "metadata": {}
        },
        {
          "output_type": "stream",
          "name": "stdout",
          "text": [
            "\n",
            "[]\n"
          ]
        },
        {
          "output_type": "display_data",
          "data": {
            "text/plain": [
              "<IPython.core.display.HTML object>"
            ],
            "text/html": [
              "<span style=\"color: black; background-color: yellow; font-weight: bold;\">Click</span> On <span style=\"color: white; background-color: blue; font-weight: bold;\">CIM</span>"
            ]
          },
          "metadata": {}
        },
        {
          "output_type": "stream",
          "name": "stdout",
          "text": [
            "\n",
            "['package', 'tab', 'screen', 'window']\n"
          ]
        },
        {
          "output_type": "display_data",
          "data": {
            "text/plain": [
              "<IPython.core.display.HTML object>"
            ],
            "text/html": [
              "In <span style=\"color: white; background-color: green; font-weight: bold;\">package</span> tab <span style=\"color: black; background-color: yellow; font-weight: bold;\">Click</span> on Create Package <span style=\"color: white; background-color: blue; font-weight: bold;\">button</span>"
            ]
          },
          "metadata": {}
        },
        {
          "output_type": "stream",
          "name": "stdout",
          "text": [
            "\n",
            "[]\n"
          ]
        },
        {
          "output_type": "display_data",
          "data": {
            "text/plain": [
              "<IPython.core.display.HTML object>"
            ],
            "text/html": [
              "In <span style=\"color: white; background-color: blue; font-weight: bold;\">details</span> <span style=\"color: black; background-color: yellow; font-weight: bold;\">enter</span> all <span style=\"color: white; background-color: blue; font-weight: bold;\">mandatory</span> <span style=\"color: white; background-color: blue; font-weight: bold;\">details</span> and <span style=\"color: black; background-color: yellow; font-weight: bold;\">select</span> customization as allowed digital channel as not allowed <span style=\"color: white; background-color: blue; font-weight: bold;\">payment</span> <span style=\"color: white; background-color: blue; font-weight: bold;\">limits</span> as blank and <span style=\"color: black; background-color: yellow; font-weight: bold;\">click</span> on <span style=\"color: white; background-color: blue; font-weight: bold;\">next</span> <span style=\"color: white; background-color: blue; font-weight: bold;\">button</span>"
            ]
          },
          "metadata": {}
        },
        {
          "output_type": "stream",
          "name": "stdout",
          "text": [
            "\n",
            "[]\n"
          ]
        },
        {
          "output_type": "display_data",
          "data": {
            "text/plain": [
              "<IPython.core.display.HTML object>"
            ],
            "text/html": [
              "<span style=\"color: black; background-color: yellow; font-weight: bold;\">Login</span> into <span style=\"color: white; background-color: blue; font-weight: bold;\">ARX</span> with <span style=\"color: white; background-color: blue; font-weight: bold;\">checker</span> <span style=\"color: white; background-color: blue; font-weight: bold;\">ID</span>"
            ]
          },
          "metadata": {}
        },
        {
          "output_type": "stream",
          "name": "stdout",
          "text": [
            "\n",
            "[]\n"
          ]
        },
        {
          "output_type": "display_data",
          "data": {
            "text/plain": [
              "<IPython.core.display.HTML object>"
            ],
            "text/html": [
              "<span style=\"color: black; background-color: yellow; font-weight: bold;\">Click</span> on <span style=\"color: white; background-color: blue; font-weight: bold;\">CIM</span>"
            ]
          },
          "metadata": {}
        },
        {
          "output_type": "stream",
          "name": "stdout",
          "text": [
            "\n",
            "[]\n"
          ]
        },
        {
          "output_type": "display_data",
          "data": {
            "text/plain": [
              "<IPython.core.display.HTML object>"
            ],
            "text/html": [
              "<span style=\"color: black; background-color: yellow; font-weight: bold;\">Authorize</span> the <span style=\"color: white; background-color: blue; font-weight: bold;\">package</span>"
            ]
          },
          "metadata": {}
        },
        {
          "output_type": "stream",
          "name": "stdout",
          "text": [
            "\n",
            "TestCase 13:\n",
            "[]\n"
          ]
        },
        {
          "output_type": "display_data",
          "data": {
            "text/plain": [
              "<IPython.core.display.HTML object>"
            ],
            "text/html": [
              "<span style=\"color: black; background-color: yellow; font-weight: bold;\">Login</span> into <span style=\"color: white; background-color: blue; font-weight: bold;\">ARX</span> with <span style=\"color: white; background-color: blue; font-weight: bold;\">Operational</span> <span style=\"color: white; background-color: blue; font-weight: bold;\">maker</span> <span style=\"color: white; background-color: blue; font-weight: bold;\">credential</span>"
            ]
          },
          "metadata": {}
        },
        {
          "output_type": "stream",
          "name": "stdout",
          "text": [
            "\n",
            "[]\n"
          ]
        },
        {
          "output_type": "display_data",
          "data": {
            "text/plain": [
              "<IPython.core.display.HTML object>"
            ],
            "text/html": [
              "<span style=\"color: black; background-color: yellow; font-weight: bold;\">Click</span> On <span style=\"color: white; background-color: blue; font-weight: bold;\">CIM</span>"
            ]
          },
          "metadata": {}
        },
        {
          "output_type": "stream",
          "name": "stdout",
          "text": [
            "\n",
            "['package', 'tab', 'screen', 'window']\n"
          ]
        },
        {
          "output_type": "display_data",
          "data": {
            "text/plain": [
              "<IPython.core.display.HTML object>"
            ],
            "text/html": [
              "In <span style=\"color: white; background-color: green; font-weight: bold;\">package</span> tab <span style=\"color: black; background-color: yellow; font-weight: bold;\">Click</span> on Create Package <span style=\"color: white; background-color: blue; font-weight: bold;\">button</span>"
            ]
          },
          "metadata": {}
        },
        {
          "output_type": "stream",
          "name": "stdout",
          "text": [
            "\n",
            "[]\n"
          ]
        },
        {
          "output_type": "display_data",
          "data": {
            "text/plain": [
              "<IPython.core.display.HTML object>"
            ],
            "text/html": [
              "In <span style=\"color: white; background-color: blue; font-weight: bold;\">details</span> <span style=\"color: black; background-color: yellow; font-weight: bold;\">enter</span> all <span style=\"color: white; background-color: blue; font-weight: bold;\">mandatory</span> <span style=\"color: white; background-color: blue; font-weight: bold;\">details</span> and <span style=\"color: black; background-color: yellow; font-weight: bold;\">select</span> customization as allowed digital channel as allowed <span style=\"color: white; background-color: blue; font-weight: bold;\">payment</span> <span style=\"color: white; background-color: blue; font-weight: bold;\">limits</span> as <span style=\"color: white; background-color: blue; font-weight: bold;\">valid</span> <span style=\"color: white; background-color: blue; font-weight: bold;\">limit</span> and <span style=\"color: black; background-color: yellow; font-weight: bold;\">click</span> on <span style=\"color: white; background-color: blue; font-weight: bold;\">next</span> <span style=\"color: white; background-color: blue; font-weight: bold;\">button</span>"
            ]
          },
          "metadata": {}
        },
        {
          "output_type": "stream",
          "name": "stdout",
          "text": [
            "\n",
            "[]\n"
          ]
        },
        {
          "output_type": "display_data",
          "data": {
            "text/plain": [
              "<IPython.core.display.HTML object>"
            ],
            "text/html": [
              "<span style=\"color: black; background-color: yellow; font-weight: bold;\">Login</span> into <span style=\"color: white; background-color: blue; font-weight: bold;\">ARX</span> with <span style=\"color: white; background-color: blue; font-weight: bold;\">checker</span> <span style=\"color: white; background-color: blue; font-weight: bold;\">ID</span>"
            ]
          },
          "metadata": {}
        },
        {
          "output_type": "stream",
          "name": "stdout",
          "text": [
            "\n",
            "[]\n"
          ]
        },
        {
          "output_type": "display_data",
          "data": {
            "text/plain": [
              "<IPython.core.display.HTML object>"
            ],
            "text/html": [
              "<span style=\"color: black; background-color: yellow; font-weight: bold;\">Click</span> on <span style=\"color: white; background-color: blue; font-weight: bold;\">CIM</span>"
            ]
          },
          "metadata": {}
        },
        {
          "output_type": "stream",
          "name": "stdout",
          "text": [
            "\n",
            "[]\n"
          ]
        },
        {
          "output_type": "display_data",
          "data": {
            "text/plain": [
              "<IPython.core.display.HTML object>"
            ],
            "text/html": [
              "<span style=\"color: black; background-color: yellow; font-weight: bold;\">Authorize</span> the <span style=\"color: white; background-color: blue; font-weight: bold;\">package</span>"
            ]
          },
          "metadata": {}
        },
        {
          "output_type": "stream",
          "name": "stdout",
          "text": [
            "\n",
            "TestCase 14:\n",
            "[]\n"
          ]
        },
        {
          "output_type": "display_data",
          "data": {
            "text/plain": [
              "<IPython.core.display.HTML object>"
            ],
            "text/html": [
              "<span style=\"color: black; background-color: yellow; font-weight: bold;\">Login</span> into <span style=\"color: white; background-color: blue; font-weight: bold;\">ARX</span> with <span style=\"color: white; background-color: blue; font-weight: bold;\">Operational</span> <span style=\"color: white; background-color: blue; font-weight: bold;\">maker</span> <span style=\"color: white; background-color: blue; font-weight: bold;\">credential</span>"
            ]
          },
          "metadata": {}
        },
        {
          "output_type": "stream",
          "name": "stdout",
          "text": [
            "\n",
            "[]\n"
          ]
        },
        {
          "output_type": "display_data",
          "data": {
            "text/plain": [
              "<IPython.core.display.HTML object>"
            ],
            "text/html": [
              "<span style=\"color: black; background-color: yellow; font-weight: bold;\">Click</span> On <span style=\"color: white; background-color: blue; font-weight: bold;\">CIM</span>"
            ]
          },
          "metadata": {}
        },
        {
          "output_type": "stream",
          "name": "stdout",
          "text": [
            "\n",
            "['package', 'tab', 'screen', 'window']\n"
          ]
        },
        {
          "output_type": "display_data",
          "data": {
            "text/plain": [
              "<IPython.core.display.HTML object>"
            ],
            "text/html": [
              "In <span style=\"color: white; background-color: green; font-weight: bold;\">package</span> tab <span style=\"color: black; background-color: yellow; font-weight: bold;\">Click</span> on Create Package <span style=\"color: white; background-color: blue; font-weight: bold;\">button</span>"
            ]
          },
          "metadata": {}
        },
        {
          "output_type": "stream",
          "name": "stdout",
          "text": [
            "\n",
            "[]\n"
          ]
        },
        {
          "output_type": "display_data",
          "data": {
            "text/plain": [
              "<IPython.core.display.HTML object>"
            ],
            "text/html": [
              "In <span style=\"color: white; background-color: blue; font-weight: bold;\">details</span> <span style=\"color: black; background-color: yellow; font-weight: bold;\">enter</span> all <span style=\"color: white; background-color: blue; font-weight: bold;\">mandatory</span> <span style=\"color: white; background-color: blue; font-weight: bold;\">details</span> and <span style=\"color: black; background-color: yellow; font-weight: bold;\">select</span> customization as allowed digital channel as not allowed <span style=\"color: white; background-color: blue; font-weight: bold;\">payment</span> <span style=\"color: white; background-color: blue; font-weight: bold;\">limits</span> as <span style=\"color: white; background-color: blue; font-weight: bold;\">valid</span> <span style=\"color: white; background-color: blue; font-weight: bold;\">limit</span> and <span style=\"color: black; background-color: yellow; font-weight: bold;\">click</span> on <span style=\"color: white; background-color: blue; font-weight: bold;\">next</span> <span style=\"color: white; background-color: blue; font-weight: bold;\">button</span>"
            ]
          },
          "metadata": {}
        },
        {
          "output_type": "stream",
          "name": "stdout",
          "text": [
            "\n",
            "[]\n"
          ]
        },
        {
          "output_type": "display_data",
          "data": {
            "text/plain": [
              "<IPython.core.display.HTML object>"
            ],
            "text/html": [
              "<span style=\"color: black; background-color: yellow; font-weight: bold;\">Login</span> into <span style=\"color: white; background-color: blue; font-weight: bold;\">ARX</span> with <span style=\"color: white; background-color: blue; font-weight: bold;\">checker</span> <span style=\"color: white; background-color: blue; font-weight: bold;\">ID</span>"
            ]
          },
          "metadata": {}
        },
        {
          "output_type": "stream",
          "name": "stdout",
          "text": [
            "\n",
            "[]\n"
          ]
        },
        {
          "output_type": "display_data",
          "data": {
            "text/plain": [
              "<IPython.core.display.HTML object>"
            ],
            "text/html": [
              "<span style=\"color: black; background-color: yellow; font-weight: bold;\">Click</span> on <span style=\"color: white; background-color: blue; font-weight: bold;\">CIM</span>"
            ]
          },
          "metadata": {}
        },
        {
          "output_type": "stream",
          "name": "stdout",
          "text": [
            "\n",
            "[]\n"
          ]
        },
        {
          "output_type": "display_data",
          "data": {
            "text/plain": [
              "<IPython.core.display.HTML object>"
            ],
            "text/html": [
              "<span style=\"color: black; background-color: yellow; font-weight: bold;\">Authorize</span> the <span style=\"color: white; background-color: blue; font-weight: bold;\">package</span>"
            ]
          },
          "metadata": {}
        },
        {
          "output_type": "stream",
          "name": "stdout",
          "text": [
            "\n",
            "TestCase 15:\n",
            "[]\n"
          ]
        },
        {
          "output_type": "display_data",
          "data": {
            "text/plain": [
              "<IPython.core.display.HTML object>"
            ],
            "text/html": [
              "<span style=\"color: black; background-color: yellow; font-weight: bold;\">Login</span> into <span style=\"color: white; background-color: blue; font-weight: bold;\">ARX</span> with <span style=\"color: white; background-color: blue; font-weight: bold;\">Operational</span> <span style=\"color: white; background-color: blue; font-weight: bold;\">maker</span> <span style=\"color: white; background-color: blue; font-weight: bold;\">credential</span>"
            ]
          },
          "metadata": {}
        },
        {
          "output_type": "stream",
          "name": "stdout",
          "text": [
            "\n",
            "[]\n"
          ]
        },
        {
          "output_type": "display_data",
          "data": {
            "text/plain": [
              "<IPython.core.display.HTML object>"
            ],
            "text/html": [
              "<span style=\"color: black; background-color: yellow; font-weight: bold;\">Click</span> On <span style=\"color: white; background-color: blue; font-weight: bold;\">CIM</span>"
            ]
          },
          "metadata": {}
        },
        {
          "output_type": "stream",
          "name": "stdout",
          "text": [
            "\n",
            "['package', 'tab', 'screen', 'window']\n"
          ]
        },
        {
          "output_type": "display_data",
          "data": {
            "text/plain": [
              "<IPython.core.display.HTML object>"
            ],
            "text/html": [
              "In <span style=\"color: white; background-color: green; font-weight: bold;\">package</span> tab <span style=\"color: black; background-color: yellow; font-weight: bold;\">Click</span> on Create Package <span style=\"color: white; background-color: blue; font-weight: bold;\">button</span>"
            ]
          },
          "metadata": {}
        },
        {
          "output_type": "stream",
          "name": "stdout",
          "text": [
            "\n",
            "[]\n"
          ]
        },
        {
          "output_type": "display_data",
          "data": {
            "text/plain": [
              "<IPython.core.display.HTML object>"
            ],
            "text/html": [
              "In <span style=\"color: white; background-color: blue; font-weight: bold;\">details</span> <span style=\"color: black; background-color: yellow; font-weight: bold;\">enter</span> all <span style=\"color: white; background-color: blue; font-weight: bold;\">mandatory</span> <span style=\"color: white; background-color: blue; font-weight: bold;\">details</span> and <span style=\"color: black; background-color: yellow; font-weight: bold;\">select</span> customization as allowed digital channel as allowed <span style=\"color: white; background-color: blue; font-weight: bold;\">payment</span> <span style=\"color: white; background-color: blue; font-weight: bold;\">limits</span> as <span style=\"color: white; background-color: blue; font-weight: bold;\">valid</span> <span style=\"color: white; background-color: blue; font-weight: bold;\">limit</span> and <span style=\"color: black; background-color: yellow; font-weight: bold;\">click</span> on <span style=\"color: white; background-color: blue; font-weight: bold;\">next</span> <span style=\"color: white; background-color: blue; font-weight: bold;\">button</span>"
            ]
          },
          "metadata": {}
        },
        {
          "output_type": "stream",
          "name": "stdout",
          "text": [
            "\n",
            "['products', 'tab', 'screen', 'window']\n"
          ]
        },
        {
          "output_type": "display_data",
          "data": {
            "text/plain": [
              "<IPython.core.display.HTML object>"
            ],
            "text/html": [
              "In <span style=\"color: white; background-color: green; font-weight: bold;\">products</span> page <span style=\"color: black; background-color: yellow; font-weight: bold;\">Select</span> payments"
            ]
          },
          "metadata": {}
        },
        {
          "output_type": "stream",
          "name": "stdout",
          "text": [
            "\n",
            "[]\n"
          ]
        },
        {
          "output_type": "display_data",
          "data": {
            "text/plain": [
              "<IPython.core.display.HTML object>"
            ],
            "text/html": [
              "<span style=\"color: black; background-color: yellow; font-weight: bold;\">Login</span> into <span style=\"color: white; background-color: blue; font-weight: bold;\">ARX</span> with <span style=\"color: white; background-color: blue; font-weight: bold;\">checker</span> <span style=\"color: white; background-color: blue; font-weight: bold;\">ID</span>"
            ]
          },
          "metadata": {}
        },
        {
          "output_type": "stream",
          "name": "stdout",
          "text": [
            "\n",
            "[]\n"
          ]
        },
        {
          "output_type": "display_data",
          "data": {
            "text/plain": [
              "<IPython.core.display.HTML object>"
            ],
            "text/html": [
              "<span style=\"color: black; background-color: yellow; font-weight: bold;\">Click</span> on <span style=\"color: white; background-color: blue; font-weight: bold;\">CIM</span>"
            ]
          },
          "metadata": {}
        },
        {
          "output_type": "stream",
          "name": "stdout",
          "text": [
            "\n",
            "[]\n"
          ]
        },
        {
          "output_type": "display_data",
          "data": {
            "text/plain": [
              "<IPython.core.display.HTML object>"
            ],
            "text/html": [
              "<span style=\"color: black; background-color: yellow; font-weight: bold;\">Authorize</span> the <span style=\"color: white; background-color: blue; font-weight: bold;\">package</span>"
            ]
          },
          "metadata": {}
        },
        {
          "output_type": "stream",
          "name": "stdout",
          "text": [
            "\n",
            "TestCase 16:\n",
            "[]\n"
          ]
        },
        {
          "output_type": "display_data",
          "data": {
            "text/plain": [
              "<IPython.core.display.HTML object>"
            ],
            "text/html": [
              "<span style=\"color: black; background-color: yellow; font-weight: bold;\">Login</span> into <span style=\"color: white; background-color: blue; font-weight: bold;\">ARX</span> with <span style=\"color: white; background-color: blue; font-weight: bold;\">Operational</span> <span style=\"color: white; background-color: blue; font-weight: bold;\">maker</span> <span style=\"color: white; background-color: blue; font-weight: bold;\">credential</span>"
            ]
          },
          "metadata": {}
        },
        {
          "output_type": "stream",
          "name": "stdout",
          "text": [
            "\n",
            "[]\n"
          ]
        },
        {
          "output_type": "display_data",
          "data": {
            "text/plain": [
              "<IPython.core.display.HTML object>"
            ],
            "text/html": [
              "<span style=\"color: black; background-color: yellow; font-weight: bold;\">Click</span> On <span style=\"color: white; background-color: blue; font-weight: bold;\">CIM</span>"
            ]
          },
          "metadata": {}
        },
        {
          "output_type": "stream",
          "name": "stdout",
          "text": [
            "\n",
            "['package', 'tab', 'screen', 'window']\n"
          ]
        },
        {
          "output_type": "display_data",
          "data": {
            "text/plain": [
              "<IPython.core.display.HTML object>"
            ],
            "text/html": [
              "In <span style=\"color: white; background-color: green; font-weight: bold;\">package</span> tab <span style=\"color: black; background-color: yellow; font-weight: bold;\">Click</span> on Create Package <span style=\"color: white; background-color: blue; font-weight: bold;\">button</span>"
            ]
          },
          "metadata": {}
        },
        {
          "output_type": "stream",
          "name": "stdout",
          "text": [
            "\n",
            "[]\n"
          ]
        },
        {
          "output_type": "display_data",
          "data": {
            "text/plain": [
              "<IPython.core.display.HTML object>"
            ],
            "text/html": [
              "In <span style=\"color: white; background-color: blue; font-weight: bold;\">details</span> <span style=\"color: black; background-color: yellow; font-weight: bold;\">enter</span> all <span style=\"color: white; background-color: blue; font-weight: bold;\">mandatory</span> <span style=\"color: white; background-color: blue; font-weight: bold;\">details</span> and <span style=\"color: black; background-color: yellow; font-weight: bold;\">select</span> customization as allowed digital channel as not allowed <span style=\"color: white; background-color: blue; font-weight: bold;\">payment</span> <span style=\"color: white; background-color: blue; font-weight: bold;\">limits</span> as <span style=\"color: white; background-color: blue; font-weight: bold;\">valid</span> <span style=\"color: white; background-color: blue; font-weight: bold;\">limit</span> and <span style=\"color: black; background-color: yellow; font-weight: bold;\">click</span> on <span style=\"color: white; background-color: blue; font-weight: bold;\">next</span> <span style=\"color: white; background-color: blue; font-weight: bold;\">button</span>"
            ]
          },
          "metadata": {}
        },
        {
          "output_type": "stream",
          "name": "stdout",
          "text": [
            "\n",
            "['products', 'tab', 'screen', 'window']\n"
          ]
        },
        {
          "output_type": "display_data",
          "data": {
            "text/plain": [
              "<IPython.core.display.HTML object>"
            ],
            "text/html": [
              "In <span style=\"color: white; background-color: green; font-weight: bold;\">products</span> page <span style=\"color: black; background-color: yellow; font-weight: bold;\">Select</span> payments"
            ]
          },
          "metadata": {}
        },
        {
          "output_type": "stream",
          "name": "stdout",
          "text": [
            "\n",
            "[]\n"
          ]
        },
        {
          "output_type": "display_data",
          "data": {
            "text/plain": [
              "<IPython.core.display.HTML object>"
            ],
            "text/html": [
              "<span style=\"color: black; background-color: yellow; font-weight: bold;\">Login</span> into <span style=\"color: white; background-color: blue; font-weight: bold;\">ARX</span> with <span style=\"color: white; background-color: blue; font-weight: bold;\">checker</span> <span style=\"color: white; background-color: blue; font-weight: bold;\">ID</span>"
            ]
          },
          "metadata": {}
        },
        {
          "output_type": "stream",
          "name": "stdout",
          "text": [
            "\n",
            "[]\n"
          ]
        },
        {
          "output_type": "display_data",
          "data": {
            "text/plain": [
              "<IPython.core.display.HTML object>"
            ],
            "text/html": [
              "<span style=\"color: black; background-color: yellow; font-weight: bold;\">Click</span> on <span style=\"color: white; background-color: blue; font-weight: bold;\">CIM</span>"
            ]
          },
          "metadata": {}
        },
        {
          "output_type": "stream",
          "name": "stdout",
          "text": [
            "\n",
            "[]\n"
          ]
        },
        {
          "output_type": "display_data",
          "data": {
            "text/plain": [
              "<IPython.core.display.HTML object>"
            ],
            "text/html": [
              "<span style=\"color: black; background-color: yellow; font-weight: bold;\">Authorize</span> the <span style=\"color: white; background-color: blue; font-weight: bold;\">package</span>"
            ]
          },
          "metadata": {}
        },
        {
          "output_type": "stream",
          "name": "stdout",
          "text": [
            "\n",
            "TestCase 17:\n",
            "[]\n"
          ]
        },
        {
          "output_type": "display_data",
          "data": {
            "text/plain": [
              "<IPython.core.display.HTML object>"
            ],
            "text/html": [
              "<span style=\"color: black; background-color: yellow; font-weight: bold;\">Login</span> into <span style=\"color: white; background-color: blue; font-weight: bold;\">ARX</span> with <span style=\"color: white; background-color: blue; font-weight: bold;\">Operational</span> <span style=\"color: white; background-color: blue; font-weight: bold;\">maker</span> <span style=\"color: white; background-color: blue; font-weight: bold;\">credential</span>"
            ]
          },
          "metadata": {}
        },
        {
          "output_type": "stream",
          "name": "stdout",
          "text": [
            "\n",
            "[]\n"
          ]
        },
        {
          "output_type": "display_data",
          "data": {
            "text/plain": [
              "<IPython.core.display.HTML object>"
            ],
            "text/html": [
              "<span style=\"color: black; background-color: yellow; font-weight: bold;\">Click</span> On <span style=\"color: white; background-color: blue; font-weight: bold;\">CIM</span>"
            ]
          },
          "metadata": {}
        },
        {
          "output_type": "stream",
          "name": "stdout",
          "text": [
            "\n",
            "['package', 'tab', 'screen', 'window']\n"
          ]
        },
        {
          "output_type": "display_data",
          "data": {
            "text/plain": [
              "<IPython.core.display.HTML object>"
            ],
            "text/html": [
              "In <span style=\"color: white; background-color: green; font-weight: bold;\">package</span> tab <span style=\"color: black; background-color: yellow; font-weight: bold;\">Click</span> on Create Package <span style=\"color: white; background-color: blue; font-weight: bold;\">button</span>"
            ]
          },
          "metadata": {}
        },
        {
          "output_type": "stream",
          "name": "stdout",
          "text": [
            "\n",
            "[]\n"
          ]
        },
        {
          "output_type": "display_data",
          "data": {
            "text/plain": [
              "<IPython.core.display.HTML object>"
            ],
            "text/html": [
              "In <span style=\"color: white; background-color: blue; font-weight: bold;\">details</span> <span style=\"color: black; background-color: yellow; font-weight: bold;\">enter</span> all <span style=\"color: white; background-color: blue; font-weight: bold;\">mandatory</span> <span style=\"color: white; background-color: blue; font-weight: bold;\">details</span> and <span style=\"color: black; background-color: yellow; font-weight: bold;\">select</span> customization as allowed digital channel as not allowed <span style=\"color: white; background-color: blue; font-weight: bold;\">payment</span> <span style=\"color: white; background-color: blue; font-weight: bold;\">limits</span> as <span style=\"color: white; background-color: blue; font-weight: bold;\">valid</span> <span style=\"color: white; background-color: blue; font-weight: bold;\">limit</span> and <span style=\"color: black; background-color: yellow; font-weight: bold;\">click</span> on <span style=\"color: white; background-color: blue; font-weight: bold;\">next</span> <span style=\"color: white; background-color: blue; font-weight: bold;\">button</span>"
            ]
          },
          "metadata": {}
        },
        {
          "output_type": "stream",
          "name": "stdout",
          "text": [
            "\n",
            "['products', 'tab', 'screen', 'window']\n"
          ]
        },
        {
          "output_type": "display_data",
          "data": {
            "text/plain": [
              "<IPython.core.display.HTML object>"
            ],
            "text/html": [
              "In <span style=\"color: white; background-color: green; font-weight: bold;\">products</span> page <span style=\"color: black; background-color: yellow; font-weight: bold;\">Select</span> payments and collections"
            ]
          },
          "metadata": {}
        },
        {
          "output_type": "stream",
          "name": "stdout",
          "text": [
            "\n",
            "[]\n"
          ]
        },
        {
          "output_type": "display_data",
          "data": {
            "text/plain": [
              "<IPython.core.display.HTML object>"
            ],
            "text/html": [
              "<span style=\"color: black; background-color: yellow; font-weight: bold;\">Login</span> into <span style=\"color: white; background-color: blue; font-weight: bold;\">ARX</span> with <span style=\"color: white; background-color: blue; font-weight: bold;\">checker</span> <span style=\"color: white; background-color: blue; font-weight: bold;\">ID</span>"
            ]
          },
          "metadata": {}
        },
        {
          "output_type": "stream",
          "name": "stdout",
          "text": [
            "\n",
            "[]\n"
          ]
        },
        {
          "output_type": "display_data",
          "data": {
            "text/plain": [
              "<IPython.core.display.HTML object>"
            ],
            "text/html": [
              "<span style=\"color: black; background-color: yellow; font-weight: bold;\">Click</span> on <span style=\"color: white; background-color: blue; font-weight: bold;\">CIM</span>"
            ]
          },
          "metadata": {}
        },
        {
          "output_type": "stream",
          "name": "stdout",
          "text": [
            "\n",
            "[]\n"
          ]
        },
        {
          "output_type": "display_data",
          "data": {
            "text/plain": [
              "<IPython.core.display.HTML object>"
            ],
            "text/html": [
              "<span style=\"color: black; background-color: yellow; font-weight: bold;\">Authorize</span> the <span style=\"color: white; background-color: blue; font-weight: bold;\">package</span>"
            ]
          },
          "metadata": {}
        },
        {
          "output_type": "stream",
          "name": "stdout",
          "text": [
            "\n",
            "TestCase 18:\n",
            "[]\n"
          ]
        },
        {
          "output_type": "display_data",
          "data": {
            "text/plain": [
              "<IPython.core.display.HTML object>"
            ],
            "text/html": [
              "<span style=\"color: black; background-color: yellow; font-weight: bold;\">Login</span> into <span style=\"color: white; background-color: blue; font-weight: bold;\">ARX</span> with <span style=\"color: white; background-color: blue; font-weight: bold;\">Operational</span> <span style=\"color: white; background-color: blue; font-weight: bold;\">maker</span> <span style=\"color: white; background-color: blue; font-weight: bold;\">credential</span>"
            ]
          },
          "metadata": {}
        },
        {
          "output_type": "stream",
          "name": "stdout",
          "text": [
            "\n",
            "[]\n"
          ]
        },
        {
          "output_type": "display_data",
          "data": {
            "text/plain": [
              "<IPython.core.display.HTML object>"
            ],
            "text/html": [
              "<span style=\"color: black; background-color: yellow; font-weight: bold;\">Click</span> On <span style=\"color: white; background-color: blue; font-weight: bold;\">CIM</span>"
            ]
          },
          "metadata": {}
        },
        {
          "output_type": "stream",
          "name": "stdout",
          "text": [
            "\n",
            "['package', 'tab', 'screen', 'window']\n"
          ]
        },
        {
          "output_type": "display_data",
          "data": {
            "text/plain": [
              "<IPython.core.display.HTML object>"
            ],
            "text/html": [
              "In <span style=\"color: white; background-color: green; font-weight: bold;\">package</span> tab <span style=\"color: black; background-color: yellow; font-weight: bold;\">Click</span> on Create Package <span style=\"color: white; background-color: blue; font-weight: bold;\">button</span>"
            ]
          },
          "metadata": {}
        },
        {
          "output_type": "stream",
          "name": "stdout",
          "text": [
            "\n",
            "[]\n"
          ]
        },
        {
          "output_type": "display_data",
          "data": {
            "text/plain": [
              "<IPython.core.display.HTML object>"
            ],
            "text/html": [
              "In <span style=\"color: white; background-color: blue; font-weight: bold;\">details</span> <span style=\"color: black; background-color: yellow; font-weight: bold;\">enter</span> all <span style=\"color: white; background-color: blue; font-weight: bold;\">mandatory</span> <span style=\"color: white; background-color: blue; font-weight: bold;\">details</span> and <span style=\"color: black; background-color: yellow; font-weight: bold;\">select</span> customization as allowed digital channel as allowed <span style=\"color: white; background-color: blue; font-weight: bold;\">payment</span> <span style=\"color: white; background-color: blue; font-weight: bold;\">limits</span> as <span style=\"color: white; background-color: blue; font-weight: bold;\">valid</span> <span style=\"color: white; background-color: blue; font-weight: bold;\">limit</span> and <span style=\"color: black; background-color: yellow; font-weight: bold;\">click</span> on <span style=\"color: white; background-color: blue; font-weight: bold;\">next</span> <span style=\"color: white; background-color: blue; font-weight: bold;\">button</span>"
            ]
          },
          "metadata": {}
        },
        {
          "output_type": "stream",
          "name": "stdout",
          "text": [
            "\n",
            "['products', 'tab', 'screen', 'window']\n"
          ]
        },
        {
          "output_type": "display_data",
          "data": {
            "text/plain": [
              "<IPython.core.display.HTML object>"
            ],
            "text/html": [
              "In <span style=\"color: white; background-color: green; font-weight: bold;\">products</span> page <span style=\"color: black; background-color: yellow; font-weight: bold;\">Select</span> payments and collections"
            ]
          },
          "metadata": {}
        },
        {
          "output_type": "stream",
          "name": "stdout",
          "text": [
            "\n",
            "[]\n"
          ]
        },
        {
          "output_type": "display_data",
          "data": {
            "text/plain": [
              "<IPython.core.display.HTML object>"
            ],
            "text/html": [
              "<span style=\"color: black; background-color: yellow; font-weight: bold;\">Login</span> into <span style=\"color: white; background-color: blue; font-weight: bold;\">ARX</span> with <span style=\"color: white; background-color: blue; font-weight: bold;\">checker</span> <span style=\"color: white; background-color: blue; font-weight: bold;\">ID</span>"
            ]
          },
          "metadata": {}
        },
        {
          "output_type": "stream",
          "name": "stdout",
          "text": [
            "\n",
            "[]\n"
          ]
        },
        {
          "output_type": "display_data",
          "data": {
            "text/plain": [
              "<IPython.core.display.HTML object>"
            ],
            "text/html": [
              "<span style=\"color: black; background-color: yellow; font-weight: bold;\">Click</span> on <span style=\"color: white; background-color: blue; font-weight: bold;\">CIM</span>"
            ]
          },
          "metadata": {}
        },
        {
          "output_type": "stream",
          "name": "stdout",
          "text": [
            "\n",
            "[]\n"
          ]
        },
        {
          "output_type": "display_data",
          "data": {
            "text/plain": [
              "<IPython.core.display.HTML object>"
            ],
            "text/html": [
              "<span style=\"color: black; background-color: yellow; font-weight: bold;\">Authorize</span> the <span style=\"color: white; background-color: blue; font-weight: bold;\">package</span>"
            ]
          },
          "metadata": {}
        },
        {
          "output_type": "stream",
          "name": "stdout",
          "text": [
            "\n",
            "TestCase 19:\n",
            "[]\n"
          ]
        },
        {
          "output_type": "display_data",
          "data": {
            "text/plain": [
              "<IPython.core.display.HTML object>"
            ],
            "text/html": [
              "<span style=\"color: black; background-color: yellow; font-weight: bold;\">Login</span> into <span style=\"color: white; background-color: blue; font-weight: bold;\">ARX</span> with <span style=\"color: white; background-color: blue; font-weight: bold;\">Operational</span> <span style=\"color: white; background-color: blue; font-weight: bold;\">maker</span> <span style=\"color: white; background-color: blue; font-weight: bold;\">credential</span>"
            ]
          },
          "metadata": {}
        },
        {
          "output_type": "stream",
          "name": "stdout",
          "text": [
            "\n",
            "[]\n"
          ]
        },
        {
          "output_type": "display_data",
          "data": {
            "text/plain": [
              "<IPython.core.display.HTML object>"
            ],
            "text/html": [
              "<span style=\"color: black; background-color: yellow; font-weight: bold;\">Click</span> On <span style=\"color: white; background-color: blue; font-weight: bold;\">CIM</span>"
            ]
          },
          "metadata": {}
        },
        {
          "output_type": "stream",
          "name": "stdout",
          "text": [
            "\n",
            "['package', 'tab', 'screen', 'window']\n"
          ]
        },
        {
          "output_type": "display_data",
          "data": {
            "text/plain": [
              "<IPython.core.display.HTML object>"
            ],
            "text/html": [
              "In <span style=\"color: white; background-color: green; font-weight: bold;\">package</span> tab <span style=\"color: black; background-color: yellow; font-weight: bold;\">Click</span> on Create Package <span style=\"color: white; background-color: blue; font-weight: bold;\">button</span>"
            ]
          },
          "metadata": {}
        },
        {
          "output_type": "stream",
          "name": "stdout",
          "text": [
            "\n",
            "[]\n"
          ]
        },
        {
          "output_type": "display_data",
          "data": {
            "text/plain": [
              "<IPython.core.display.HTML object>"
            ],
            "text/html": [
              "In <span style=\"color: white; background-color: blue; font-weight: bold;\">details</span> <span style=\"color: black; background-color: yellow; font-weight: bold;\">enter</span> all <span style=\"color: white; background-color: blue; font-weight: bold;\">mandatory</span> <span style=\"color: white; background-color: blue; font-weight: bold;\">details</span> and <span style=\"color: black; background-color: yellow; font-weight: bold;\">select</span> customization as allowed digital channel as allowed <span style=\"color: white; background-color: blue; font-weight: bold;\">payment</span> <span style=\"color: white; background-color: blue; font-weight: bold;\">limits</span> as <span style=\"color: white; background-color: blue; font-weight: bold;\">valid</span> <span style=\"color: white; background-color: blue; font-weight: bold;\">limit</span> and <span style=\"color: black; background-color: yellow; font-weight: bold;\">click</span> on <span style=\"color: white; background-color: blue; font-weight: bold;\">next</span> <span style=\"color: white; background-color: blue; font-weight: bold;\">button</span>"
            ]
          },
          "metadata": {}
        },
        {
          "output_type": "stream",
          "name": "stdout",
          "text": [
            "\n",
            "['products', 'tab', 'screen', 'window']\n"
          ]
        },
        {
          "output_type": "display_data",
          "data": {
            "text/plain": [
              "<IPython.core.display.HTML object>"
            ],
            "text/html": [
              "In <span style=\"color: white; background-color: green; font-weight: bold;\">products</span> <span style=\"color: white; background-color: blue; font-weight: bold;\">page</span> <span style=\"color: black; background-color: yellow; font-weight: bold;\">Select</span> Account services and collections"
            ]
          },
          "metadata": {}
        },
        {
          "output_type": "stream",
          "name": "stdout",
          "text": [
            "\n",
            "[]\n"
          ]
        },
        {
          "output_type": "display_data",
          "data": {
            "text/plain": [
              "<IPython.core.display.HTML object>"
            ],
            "text/html": [
              "<span style=\"color: black; background-color: yellow; font-weight: bold;\">Login</span> into <span style=\"color: white; background-color: blue; font-weight: bold;\">ARX</span> with <span style=\"color: white; background-color: blue; font-weight: bold;\">checker</span> <span style=\"color: white; background-color: blue; font-weight: bold;\">ID</span>"
            ]
          },
          "metadata": {}
        },
        {
          "output_type": "stream",
          "name": "stdout",
          "text": [
            "\n",
            "[]\n"
          ]
        },
        {
          "output_type": "display_data",
          "data": {
            "text/plain": [
              "<IPython.core.display.HTML object>"
            ],
            "text/html": [
              "<span style=\"color: black; background-color: yellow; font-weight: bold;\">Click</span> on <span style=\"color: white; background-color: blue; font-weight: bold;\">CIM</span>"
            ]
          },
          "metadata": {}
        },
        {
          "output_type": "stream",
          "name": "stdout",
          "text": [
            "\n",
            "[]\n"
          ]
        },
        {
          "output_type": "display_data",
          "data": {
            "text/plain": [
              "<IPython.core.display.HTML object>"
            ],
            "text/html": [
              "<span style=\"color: black; background-color: yellow; font-weight: bold;\">Authorize</span> the <span style=\"color: white; background-color: blue; font-weight: bold;\">package</span>"
            ]
          },
          "metadata": {}
        },
        {
          "output_type": "stream",
          "name": "stdout",
          "text": [
            "\n",
            "TestCase 20:\n",
            "[]\n"
          ]
        },
        {
          "output_type": "display_data",
          "data": {
            "text/plain": [
              "<IPython.core.display.HTML object>"
            ],
            "text/html": [
              "<span style=\"color: black; background-color: yellow; font-weight: bold;\">Login</span> into <span style=\"color: white; background-color: blue; font-weight: bold;\">ARX</span> with <span style=\"color: white; background-color: blue; font-weight: bold;\">Operational</span> <span style=\"color: white; background-color: blue; font-weight: bold;\">maker</span> <span style=\"color: white; background-color: blue; font-weight: bold;\">credential</span>"
            ]
          },
          "metadata": {}
        },
        {
          "output_type": "stream",
          "name": "stdout",
          "text": [
            "\n",
            "[]\n"
          ]
        },
        {
          "output_type": "display_data",
          "data": {
            "text/plain": [
              "<IPython.core.display.HTML object>"
            ],
            "text/html": [
              "<span style=\"color: black; background-color: yellow; font-weight: bold;\">Click</span> On <span style=\"color: white; background-color: blue; font-weight: bold;\">CIM</span>"
            ]
          },
          "metadata": {}
        },
        {
          "output_type": "stream",
          "name": "stdout",
          "text": [
            "\n",
            "['package', 'tab', 'screen', 'window']\n"
          ]
        },
        {
          "output_type": "display_data",
          "data": {
            "text/plain": [
              "<IPython.core.display.HTML object>"
            ],
            "text/html": [
              "In <span style=\"color: white; background-color: green; font-weight: bold;\">package</span> tab <span style=\"color: black; background-color: yellow; font-weight: bold;\">Click</span> on Create Package <span style=\"color: white; background-color: blue; font-weight: bold;\">button</span>"
            ]
          },
          "metadata": {}
        },
        {
          "output_type": "stream",
          "name": "stdout",
          "text": [
            "\n",
            "[]\n"
          ]
        },
        {
          "output_type": "display_data",
          "data": {
            "text/plain": [
              "<IPython.core.display.HTML object>"
            ],
            "text/html": [
              "In <span style=\"color: white; background-color: blue; font-weight: bold;\">details</span> <span style=\"color: black; background-color: yellow; font-weight: bold;\">enter</span> all <span style=\"color: white; background-color: blue; font-weight: bold;\">mandatory</span> <span style=\"color: white; background-color: blue; font-weight: bold;\">details</span> and <span style=\"color: black; background-color: yellow; font-weight: bold;\">select</span> customization as allowed digital channel as not allowed <span style=\"color: white; background-color: blue; font-weight: bold;\">payment</span> <span style=\"color: white; background-color: blue; font-weight: bold;\">limits</span> as <span style=\"color: white; background-color: blue; font-weight: bold;\">valid</span> <span style=\"color: white; background-color: blue; font-weight: bold;\">limit</span> and <span style=\"color: black; background-color: yellow; font-weight: bold;\">click</span> on <span style=\"color: white; background-color: blue; font-weight: bold;\">next</span> <span style=\"color: white; background-color: blue; font-weight: bold;\">button</span>"
            ]
          },
          "metadata": {}
        },
        {
          "output_type": "stream",
          "name": "stdout",
          "text": [
            "\n",
            "['products', 'tab', 'screen', 'window']\n"
          ]
        },
        {
          "output_type": "display_data",
          "data": {
            "text/plain": [
              "<IPython.core.display.HTML object>"
            ],
            "text/html": [
              "In <span style=\"color: white; background-color: green; font-weight: bold;\">products</span> <span style=\"color: white; background-color: blue; font-weight: bold;\">page</span> <span style=\"color: black; background-color: yellow; font-weight: bold;\">Select</span> Account services and collections"
            ]
          },
          "metadata": {}
        },
        {
          "output_type": "stream",
          "name": "stdout",
          "text": [
            "\n",
            "[]\n"
          ]
        },
        {
          "output_type": "display_data",
          "data": {
            "text/plain": [
              "<IPython.core.display.HTML object>"
            ],
            "text/html": [
              "<span style=\"color: black; background-color: yellow; font-weight: bold;\">Login</span> into <span style=\"color: white; background-color: blue; font-weight: bold;\">ARX</span> with <span style=\"color: white; background-color: blue; font-weight: bold;\">checker</span> <span style=\"color: white; background-color: blue; font-weight: bold;\">ID</span>"
            ]
          },
          "metadata": {}
        },
        {
          "output_type": "stream",
          "name": "stdout",
          "text": [
            "\n",
            "[]\n"
          ]
        },
        {
          "output_type": "display_data",
          "data": {
            "text/plain": [
              "<IPython.core.display.HTML object>"
            ],
            "text/html": [
              "<span style=\"color: black; background-color: yellow; font-weight: bold;\">Click</span> on <span style=\"color: white; background-color: blue; font-weight: bold;\">CIM</span>"
            ]
          },
          "metadata": {}
        },
        {
          "output_type": "stream",
          "name": "stdout",
          "text": [
            "\n",
            "[]\n"
          ]
        },
        {
          "output_type": "display_data",
          "data": {
            "text/plain": [
              "<IPython.core.display.HTML object>"
            ],
            "text/html": [
              "<span style=\"color: black; background-color: yellow; font-weight: bold;\">Authorize</span> the <span style=\"color: white; background-color: blue; font-weight: bold;\">package</span>"
            ]
          },
          "metadata": {}
        },
        {
          "output_type": "stream",
          "name": "stdout",
          "text": [
            "\n",
            "TestCase 21:\n",
            "[]\n"
          ]
        },
        {
          "output_type": "display_data",
          "data": {
            "text/plain": [
              "<IPython.core.display.HTML object>"
            ],
            "text/html": [
              "<span style=\"color: black; background-color: yellow; font-weight: bold;\">Login</span> into <span style=\"color: white; background-color: blue; font-weight: bold;\">ARX</span> with <span style=\"color: white; background-color: blue; font-weight: bold;\">Operational</span> <span style=\"color: white; background-color: blue; font-weight: bold;\">maker</span> <span style=\"color: white; background-color: blue; font-weight: bold;\">credential</span>"
            ]
          },
          "metadata": {}
        },
        {
          "output_type": "stream",
          "name": "stdout",
          "text": [
            "\n",
            "[]\n"
          ]
        },
        {
          "output_type": "display_data",
          "data": {
            "text/plain": [
              "<IPython.core.display.HTML object>"
            ],
            "text/html": [
              "<span style=\"color: black; background-color: yellow; font-weight: bold;\">Click</span> On <span style=\"color: white; background-color: blue; font-weight: bold;\">CIM</span>"
            ]
          },
          "metadata": {}
        },
        {
          "output_type": "stream",
          "name": "stdout",
          "text": [
            "\n",
            "['package', 'tab', 'screen', 'window']\n"
          ]
        },
        {
          "output_type": "display_data",
          "data": {
            "text/plain": [
              "<IPython.core.display.HTML object>"
            ],
            "text/html": [
              "In <span style=\"color: white; background-color: green; font-weight: bold;\">package</span> tab <span style=\"color: black; background-color: yellow; font-weight: bold;\">Click</span> on Create Package <span style=\"color: white; background-color: blue; font-weight: bold;\">button</span>"
            ]
          },
          "metadata": {}
        },
        {
          "output_type": "stream",
          "name": "stdout",
          "text": [
            "\n",
            "[]\n"
          ]
        },
        {
          "output_type": "display_data",
          "data": {
            "text/plain": [
              "<IPython.core.display.HTML object>"
            ],
            "text/html": [
              "In <span style=\"color: white; background-color: blue; font-weight: bold;\">details</span> <span style=\"color: black; background-color: yellow; font-weight: bold;\">enter</span> all <span style=\"color: white; background-color: blue; font-weight: bold;\">mandatory</span> <span style=\"color: white; background-color: blue; font-weight: bold;\">details</span> and <span style=\"color: black; background-color: yellow; font-weight: bold;\">select</span> customization as allowed digital channel as not allowed <span style=\"color: white; background-color: blue; font-weight: bold;\">payment</span> <span style=\"color: white; background-color: blue; font-weight: bold;\">limits</span> as <span style=\"color: white; background-color: blue; font-weight: bold;\">valid</span> <span style=\"color: white; background-color: blue; font-weight: bold;\">limit</span> and <span style=\"color: black; background-color: yellow; font-weight: bold;\">click</span> on <span style=\"color: white; background-color: blue; font-weight: bold;\">next</span> <span style=\"color: white; background-color: blue; font-weight: bold;\">button</span>"
            ]
          },
          "metadata": {}
        },
        {
          "output_type": "stream",
          "name": "stdout",
          "text": [
            "\n",
            "['products', 'tab', 'screen', 'window']\n"
          ]
        },
        {
          "output_type": "display_data",
          "data": {
            "text/plain": [
              "<IPython.core.display.HTML object>"
            ],
            "text/html": [
              "In <span style=\"color: white; background-color: green; font-weight: bold;\">products</span> page <span style=\"color: black; background-color: yellow; font-weight: bold;\">Select</span> collections"
            ]
          },
          "metadata": {}
        },
        {
          "output_type": "stream",
          "name": "stdout",
          "text": [
            "\n",
            "[]\n"
          ]
        },
        {
          "output_type": "display_data",
          "data": {
            "text/plain": [
              "<IPython.core.display.HTML object>"
            ],
            "text/html": [
              "<span style=\"color: black; background-color: yellow; font-weight: bold;\">Login</span> into <span style=\"color: white; background-color: blue; font-weight: bold;\">ARX</span> with <span style=\"color: white; background-color: blue; font-weight: bold;\">checker</span> <span style=\"color: white; background-color: blue; font-weight: bold;\">ID</span>"
            ]
          },
          "metadata": {}
        },
        {
          "output_type": "stream",
          "name": "stdout",
          "text": [
            "\n",
            "[]\n"
          ]
        },
        {
          "output_type": "display_data",
          "data": {
            "text/plain": [
              "<IPython.core.display.HTML object>"
            ],
            "text/html": [
              "<span style=\"color: black; background-color: yellow; font-weight: bold;\">Click</span> on <span style=\"color: white; background-color: blue; font-weight: bold;\">CIM</span>"
            ]
          },
          "metadata": {}
        },
        {
          "output_type": "stream",
          "name": "stdout",
          "text": [
            "\n",
            "[]\n"
          ]
        },
        {
          "output_type": "display_data",
          "data": {
            "text/plain": [
              "<IPython.core.display.HTML object>"
            ],
            "text/html": [
              "<span style=\"color: black; background-color: yellow; font-weight: bold;\">Authorize</span> the <span style=\"color: white; background-color: blue; font-weight: bold;\">package</span>"
            ]
          },
          "metadata": {}
        },
        {
          "output_type": "stream",
          "name": "stdout",
          "text": [
            "\n",
            "TestCase 22:\n",
            "[]\n"
          ]
        },
        {
          "output_type": "display_data",
          "data": {
            "text/plain": [
              "<IPython.core.display.HTML object>"
            ],
            "text/html": [
              "<span style=\"color: black; background-color: yellow; font-weight: bold;\">Login</span> into <span style=\"color: white; background-color: blue; font-weight: bold;\">ARX</span> with <span style=\"color: white; background-color: blue; font-weight: bold;\">Operational</span> <span style=\"color: white; background-color: blue; font-weight: bold;\">maker</span> <span style=\"color: white; background-color: blue; font-weight: bold;\">credential</span>"
            ]
          },
          "metadata": {}
        },
        {
          "output_type": "stream",
          "name": "stdout",
          "text": [
            "\n",
            "[]\n"
          ]
        },
        {
          "output_type": "display_data",
          "data": {
            "text/plain": [
              "<IPython.core.display.HTML object>"
            ],
            "text/html": [
              "<span style=\"color: black; background-color: yellow; font-weight: bold;\">Click</span> On <span style=\"color: white; background-color: blue; font-weight: bold;\">CIM</span>"
            ]
          },
          "metadata": {}
        },
        {
          "output_type": "stream",
          "name": "stdout",
          "text": [
            "\n",
            "['package', 'tab', 'screen', 'window']\n"
          ]
        },
        {
          "output_type": "display_data",
          "data": {
            "text/plain": [
              "<IPython.core.display.HTML object>"
            ],
            "text/html": [
              "In <span style=\"color: white; background-color: green; font-weight: bold;\">package</span> tab <span style=\"color: black; background-color: yellow; font-weight: bold;\">Click</span> on Create Package <span style=\"color: white; background-color: blue; font-weight: bold;\">button</span>"
            ]
          },
          "metadata": {}
        },
        {
          "output_type": "stream",
          "name": "stdout",
          "text": [
            "\n",
            "[]\n"
          ]
        },
        {
          "output_type": "display_data",
          "data": {
            "text/plain": [
              "<IPython.core.display.HTML object>"
            ],
            "text/html": [
              "In <span style=\"color: white; background-color: blue; font-weight: bold;\">details</span> <span style=\"color: black; background-color: yellow; font-weight: bold;\">enter</span> all <span style=\"color: white; background-color: blue; font-weight: bold;\">mandatory</span> <span style=\"color: white; background-color: blue; font-weight: bold;\">details</span> and <span style=\"color: black; background-color: yellow; font-weight: bold;\">select</span> customization as allowed <span style=\"color: white; background-color: blue; font-weight: bold;\">digital</span> <span style=\"color: white; background-color: blue; font-weight: bold;\">channel</span> as allowed <span style=\"color: white; background-color: blue; font-weight: bold;\">payment</span> <span style=\"color: white; background-color: blue; font-weight: bold;\">limits</span> as <span style=\"color: white; background-color: blue; font-weight: bold;\">valid</span> <span style=\"color: white; background-color: blue; font-weight: bold;\">limit</span> and <span style=\"color: black; background-color: yellow; font-weight: bold;\">click</span> on <span style=\"color: white; background-color: blue; font-weight: bold;\">next</span> <span style=\"color: white; background-color: blue; font-weight: bold;\">button</span>"
            ]
          },
          "metadata": {}
        },
        {
          "output_type": "stream",
          "name": "stdout",
          "text": [
            "\n",
            "['products', 'tab', 'screen', 'window']\n"
          ]
        },
        {
          "output_type": "display_data",
          "data": {
            "text/plain": [
              "<IPython.core.display.HTML object>"
            ],
            "text/html": [
              "In <span style=\"color: white; background-color: green; font-weight: bold;\">products</span> page <span style=\"color: black; background-color: yellow; font-weight: bold;\">Select</span> collections"
            ]
          },
          "metadata": {}
        },
        {
          "output_type": "stream",
          "name": "stdout",
          "text": [
            "\n",
            "[]\n"
          ]
        },
        {
          "output_type": "display_data",
          "data": {
            "text/plain": [
              "<IPython.core.display.HTML object>"
            ],
            "text/html": [
              "<span style=\"color: black; background-color: yellow; font-weight: bold;\">Login</span> into <span style=\"color: white; background-color: blue; font-weight: bold;\">ARX</span> with <span style=\"color: white; background-color: blue; font-weight: bold;\">checker</span> <span style=\"color: white; background-color: blue; font-weight: bold;\">ID</span>"
            ]
          },
          "metadata": {}
        },
        {
          "output_type": "stream",
          "name": "stdout",
          "text": [
            "\n",
            "[]\n"
          ]
        },
        {
          "output_type": "display_data",
          "data": {
            "text/plain": [
              "<IPython.core.display.HTML object>"
            ],
            "text/html": [
              "<span style=\"color: black; background-color: yellow; font-weight: bold;\">Click</span> on <span style=\"color: white; background-color: blue; font-weight: bold;\">CIM</span>"
            ]
          },
          "metadata": {}
        },
        {
          "output_type": "stream",
          "name": "stdout",
          "text": [
            "\n",
            "[]\n"
          ]
        },
        {
          "output_type": "display_data",
          "data": {
            "text/plain": [
              "<IPython.core.display.HTML object>"
            ],
            "text/html": [
              "<span style=\"color: black; background-color: yellow; font-weight: bold;\">Authorize</span> the <span style=\"color: white; background-color: blue; font-weight: bold;\">package</span>"
            ]
          },
          "metadata": {}
        },
        {
          "output_type": "stream",
          "name": "stdout",
          "text": [
            "\n",
            "TestCase 23:\n",
            "[]\n"
          ]
        },
        {
          "output_type": "display_data",
          "data": {
            "text/plain": [
              "<IPython.core.display.HTML object>"
            ],
            "text/html": [
              "<span style=\"color: black; background-color: yellow; font-weight: bold;\">Login</span> into <span style=\"color: white; background-color: blue; font-weight: bold;\">ARX</span> with <span style=\"color: white; background-color: blue; font-weight: bold;\">Operational</span> <span style=\"color: white; background-color: blue; font-weight: bold;\">maker</span> <span style=\"color: white; background-color: blue; font-weight: bold;\">credential</span>"
            ]
          },
          "metadata": {}
        },
        {
          "output_type": "stream",
          "name": "stdout",
          "text": [
            "\n",
            "[]\n"
          ]
        },
        {
          "output_type": "display_data",
          "data": {
            "text/plain": [
              "<IPython.core.display.HTML object>"
            ],
            "text/html": [
              "<span style=\"color: black; background-color: yellow; font-weight: bold;\">Click</span> On <span style=\"color: white; background-color: blue; font-weight: bold;\">CIM</span>"
            ]
          },
          "metadata": {}
        },
        {
          "output_type": "stream",
          "name": "stdout",
          "text": [
            "\n",
            "['package', 'tab', 'screen', 'window']\n"
          ]
        },
        {
          "output_type": "display_data",
          "data": {
            "text/plain": [
              "<IPython.core.display.HTML object>"
            ],
            "text/html": [
              "In <span style=\"color: white; background-color: green; font-weight: bold;\">package</span> tab <span style=\"color: black; background-color: yellow; font-weight: bold;\">Click</span> on Create Package <span style=\"color: white; background-color: blue; font-weight: bold;\">button</span>"
            ]
          },
          "metadata": {}
        },
        {
          "output_type": "stream",
          "name": "stdout",
          "text": [
            "\n",
            "[]\n"
          ]
        },
        {
          "output_type": "display_data",
          "data": {
            "text/plain": [
              "<IPython.core.display.HTML object>"
            ],
            "text/html": [
              "<span style=\"color: black; background-color: yellow; font-weight: bold;\">Enter</span> already existing <span style=\"color: white; background-color: blue; font-weight: bold;\">package</span> <span style=\"color: white; background-color: blue; font-weight: bold;\">name</span> which is approved in <span style=\"color: white; background-color: blue; font-weight: bold;\">Package</span> <span style=\"color: white; background-color: blue; font-weight: bold;\">name</span> <span style=\"color: white; background-color: blue; font-weight: bold;\">field</span>"
            ]
          },
          "metadata": {}
        },
        {
          "output_type": "stream",
          "name": "stdout",
          "text": [
            "\n",
            "TestCase 24:\n",
            "[]\n"
          ]
        },
        {
          "output_type": "display_data",
          "data": {
            "text/plain": [
              "<IPython.core.display.HTML object>"
            ],
            "text/html": [
              "<span style=\"color: black; background-color: yellow; font-weight: bold;\">Login</span> into <span style=\"color: white; background-color: blue; font-weight: bold;\">ARX</span> with <span style=\"color: white; background-color: blue; font-weight: bold;\">Operational</span> <span style=\"color: white; background-color: blue; font-weight: bold;\">maker</span> <span style=\"color: white; background-color: blue; font-weight: bold;\">credential</span>"
            ]
          },
          "metadata": {}
        },
        {
          "output_type": "stream",
          "name": "stdout",
          "text": [
            "\n",
            "[]\n"
          ]
        },
        {
          "output_type": "display_data",
          "data": {
            "text/plain": [
              "<IPython.core.display.HTML object>"
            ],
            "text/html": [
              "<span style=\"color: black; background-color: yellow; font-weight: bold;\">Click</span> On <span style=\"color: white; background-color: blue; font-weight: bold;\">CIM</span>"
            ]
          },
          "metadata": {}
        },
        {
          "output_type": "stream",
          "name": "stdout",
          "text": [
            "\n",
            "['package', 'tab', 'screen', 'window']\n"
          ]
        },
        {
          "output_type": "display_data",
          "data": {
            "text/plain": [
              "<IPython.core.display.HTML object>"
            ],
            "text/html": [
              "In <span style=\"color: white; background-color: green; font-weight: bold;\">package</span> tab <span style=\"color: black; background-color: yellow; font-weight: bold;\">Click</span> on Create Package <span style=\"color: white; background-color: blue; font-weight: bold;\">button</span>"
            ]
          },
          "metadata": {}
        },
        {
          "output_type": "stream",
          "name": "stdout",
          "text": [
            "\n",
            "[]\n"
          ]
        },
        {
          "output_type": "display_data",
          "data": {
            "text/plain": [
              "<IPython.core.display.HTML object>"
            ],
            "text/html": [
              "<span style=\"color: black; background-color: yellow; font-weight: bold;\">Enter</span> already existing <span style=\"color: white; background-color: blue; font-weight: bold;\">package</span> <span style=\"color: white; background-color: blue; font-weight: bold;\">name</span> which is in <span style=\"color: white; background-color: blue; font-weight: bold;\">draft</span> <span style=\"color: white; background-color: blue; font-weight: bold;\">state</span> in <span style=\"color: white; background-color: blue; font-weight: bold;\">Package</span> <span style=\"color: white; background-color: blue; font-weight: bold;\">name</span> <span style=\"color: white; background-color: blue; font-weight: bold;\">field</span>"
            ]
          },
          "metadata": {}
        },
        {
          "output_type": "stream",
          "name": "stdout",
          "text": [
            "\n",
            "TestCase 25:\n",
            "[]\n"
          ]
        },
        {
          "output_type": "display_data",
          "data": {
            "text/plain": [
              "<IPython.core.display.HTML object>"
            ],
            "text/html": [
              "<span style=\"color: black; background-color: yellow; font-weight: bold;\">Login</span> into <span style=\"color: white; background-color: blue; font-weight: bold;\">ARX</span> with <span style=\"color: white; background-color: blue; font-weight: bold;\">Operational</span> <span style=\"color: white; background-color: blue; font-weight: bold;\">maker</span> <span style=\"color: white; background-color: blue; font-weight: bold;\">credential</span>"
            ]
          },
          "metadata": {}
        },
        {
          "output_type": "stream",
          "name": "stdout",
          "text": [
            "\n",
            "[]\n"
          ]
        },
        {
          "output_type": "display_data",
          "data": {
            "text/plain": [
              "<IPython.core.display.HTML object>"
            ],
            "text/html": [
              "<span style=\"color: black; background-color: yellow; font-weight: bold;\">Click</span> On <span style=\"color: white; background-color: blue; font-weight: bold;\">CIM</span>"
            ]
          },
          "metadata": {}
        },
        {
          "output_type": "stream",
          "name": "stdout",
          "text": [
            "\n",
            "[]\n"
          ]
        },
        {
          "output_type": "display_data",
          "data": {
            "text/plain": [
              "<IPython.core.display.HTML object>"
            ],
            "text/html": [
              "<span style=\"color: black; background-color: yellow; font-weight: bold;\">Click</span> on <span style=\"color: white; background-color: blue; font-weight: bold;\">duplicate</span> <span style=\"color: white; background-color: blue; font-weight: bold;\">option</span> for the <span style=\"color: white; background-color: blue; font-weight: bold;\">package</span> which is approved"
            ]
          },
          "metadata": {}
        },
        {
          "output_type": "stream",
          "name": "stdout",
          "text": [
            "\n",
            "[]\n"
          ]
        },
        {
          "output_type": "display_data",
          "data": {
            "text/plain": [
              "<IPython.core.display.HTML object>"
            ],
            "text/html": [
              "<span style=\"color: black; background-color: yellow; font-weight: bold;\">Enter</span> already existing <span style=\"color: white; background-color: blue; font-weight: bold;\">package</span> <span style=\"color: white; background-color: blue; font-weight: bold;\">name</span> which is approved in <span style=\"color: white; background-color: blue; font-weight: bold;\">Package</span> <span style=\"color: white; background-color: blue; font-weight: bold;\">name</span> <span style=\"color: white; background-color: blue; font-weight: bold;\">field</span>"
            ]
          },
          "metadata": {}
        },
        {
          "output_type": "stream",
          "name": "stdout",
          "text": [
            "\n",
            "TestCase 26:\n",
            "[]\n"
          ]
        },
        {
          "output_type": "display_data",
          "data": {
            "text/plain": [
              "<IPython.core.display.HTML object>"
            ],
            "text/html": [
              "<span style=\"color: black; background-color: yellow; font-weight: bold;\">Login</span> into <span style=\"color: white; background-color: blue; font-weight: bold;\">ARX</span> with <span style=\"color: white; background-color: blue; font-weight: bold;\">Operational</span> <span style=\"color: white; background-color: blue; font-weight: bold;\">maker</span> <span style=\"color: white; background-color: blue; font-weight: bold;\">credential</span>"
            ]
          },
          "metadata": {}
        },
        {
          "output_type": "stream",
          "name": "stdout",
          "text": [
            "\n",
            "[]\n"
          ]
        },
        {
          "output_type": "display_data",
          "data": {
            "text/plain": [
              "<IPython.core.display.HTML object>"
            ],
            "text/html": [
              "<span style=\"color: black; background-color: yellow; font-weight: bold;\">Click</span> On <span style=\"color: white; background-color: blue; font-weight: bold;\">CIM</span>"
            ]
          },
          "metadata": {}
        },
        {
          "output_type": "stream",
          "name": "stdout",
          "text": [
            "\n",
            "['package', 'tab', 'screen', 'window']\n",
            "duplicated\n"
          ]
        },
        {
          "output_type": "display_data",
          "data": {
            "text/plain": [
              "<IPython.core.display.HTML object>"
            ],
            "text/html": [
              "In <span style=\"color: white; background-color: green; font-weight: bold;\">package</span> tab <span style=\"color: black; background-color: yellow; font-weight: bold;\">select</span> the <span style=\"color: white; background-color: green; font-weight: bold;\">package</span> which has to be <span style=\"color: black; background-color: yellow; font-weight: bold;\">duplicated</span>"
            ]
          },
          "metadata": {}
        },
        {
          "output_type": "stream",
          "name": "stdout",
          "text": [
            "\n",
            "[]\n"
          ]
        },
        {
          "output_type": "display_data",
          "data": {
            "text/plain": [
              "<IPython.core.display.HTML object>"
            ],
            "text/html": [
              "<span style=\"color: black; background-color: yellow; font-weight: bold;\">Click</span> on <span style=\"color: white; background-color: blue; font-weight: bold;\">duplicate</span> <span style=\"color: white; background-color: blue; font-weight: bold;\">option</span> for the <span style=\"color: white; background-color: blue; font-weight: bold;\">package</span> which is approved"
            ]
          },
          "metadata": {}
        },
        {
          "output_type": "stream",
          "name": "stdout",
          "text": [
            "\n",
            "[]\n"
          ]
        },
        {
          "output_type": "display_data",
          "data": {
            "text/plain": [
              "<IPython.core.display.HTML object>"
            ],
            "text/html": [
              "<span style=\"color: black; background-color: yellow; font-weight: bold;\">Enter</span> already existing <span style=\"color: white; background-color: blue; font-weight: bold;\">package</span> <span style=\"color: white; background-color: blue; font-weight: bold;\">name</span> which is in <span style=\"color: white; background-color: blue; font-weight: bold;\">draft</span> <span style=\"color: white; background-color: blue; font-weight: bold;\">state</span>"
            ]
          },
          "metadata": {}
        },
        {
          "output_type": "stream",
          "name": "stdout",
          "text": [
            "\n",
            "TestCase 27:\n",
            "[]\n"
          ]
        },
        {
          "output_type": "display_data",
          "data": {
            "text/plain": [
              "<IPython.core.display.HTML object>"
            ],
            "text/html": [
              "<span style=\"color: black; background-color: yellow; font-weight: bold;\">Login</span> into <span style=\"color: white; background-color: blue; font-weight: bold;\">ARX</span> with <span style=\"color: white; background-color: blue; font-weight: bold;\">Operational</span> <span style=\"color: white; background-color: blue; font-weight: bold;\">maker</span> <span style=\"color: white; background-color: blue; font-weight: bold;\">credential</span>"
            ]
          },
          "metadata": {}
        },
        {
          "output_type": "stream",
          "name": "stdout",
          "text": [
            "\n",
            "[]\n"
          ]
        },
        {
          "output_type": "display_data",
          "data": {
            "text/plain": [
              "<IPython.core.display.HTML object>"
            ],
            "text/html": [
              "<span style=\"color: black; background-color: yellow; font-weight: bold;\">Click</span> On <span style=\"color: white; background-color: blue; font-weight: bold;\">CIM</span>"
            ]
          },
          "metadata": {}
        },
        {
          "output_type": "stream",
          "name": "stdout",
          "text": [
            "\n",
            "['package', 'tab', 'screen', 'window']\n"
          ]
        },
        {
          "output_type": "display_data",
          "data": {
            "text/plain": [
              "<IPython.core.display.HTML object>"
            ],
            "text/html": [
              "In <span style=\"color: white; background-color: green; font-weight: bold;\">package</span> tab <span style=\"color: black; background-color: yellow; font-weight: bold;\">Click</span> on Create Package <span style=\"color: white; background-color: blue; font-weight: bold;\">button</span>"
            ]
          },
          "metadata": {}
        },
        {
          "output_type": "stream",
          "name": "stdout",
          "text": [
            "\n",
            "[]\n"
          ]
        },
        {
          "output_type": "display_data",
          "data": {
            "text/plain": [
              "<IPython.core.display.HTML object>"
            ],
            "text/html": [
              "<span style=\"color: black; background-color: yellow; font-weight: bold;\">Enter</span> all the <span style=\"color: white; background-color: blue; font-weight: bold;\">mandatory</span> <span style=\"color: white; background-color: blue; font-weight: bold;\">fields</span> for <span style=\"color: white; background-color: blue; font-weight: bold;\">package</span> <span style=\"color: white; background-color: blue; font-weight: bold;\">creation</span> and <span style=\"color: black; background-color: yellow; font-weight: bold;\">click</span> on <span style=\"color: white; background-color: blue; font-weight: bold;\">submit</span> <span style=\"color: white; background-color: blue; font-weight: bold;\">button</span>"
            ]
          },
          "metadata": {}
        },
        {
          "output_type": "stream",
          "name": "stdout",
          "text": [
            "\n",
            "TestCase 28:\n",
            "[]\n"
          ]
        },
        {
          "output_type": "display_data",
          "data": {
            "text/plain": [
              "<IPython.core.display.HTML object>"
            ],
            "text/html": [
              "<span style=\"color: black; background-color: yellow; font-weight: bold;\">Login</span> into <span style=\"color: white; background-color: blue; font-weight: bold;\">ARX</span> with <span style=\"color: white; background-color: blue; font-weight: bold;\">Operational</span> <span style=\"color: white; background-color: blue; font-weight: bold;\">maker</span> <span style=\"color: white; background-color: blue; font-weight: bold;\">credential</span>"
            ]
          },
          "metadata": {}
        },
        {
          "output_type": "stream",
          "name": "stdout",
          "text": [
            "\n",
            "[]\n"
          ]
        },
        {
          "output_type": "display_data",
          "data": {
            "text/plain": [
              "<IPython.core.display.HTML object>"
            ],
            "text/html": [
              "<span style=\"color: black; background-color: yellow; font-weight: bold;\">Click</span> On <span style=\"color: white; background-color: blue; font-weight: bold;\">CIM</span>"
            ]
          },
          "metadata": {}
        },
        {
          "output_type": "stream",
          "name": "stdout",
          "text": [
            "\n",
            "['package', 'tab', 'screen', 'window']\n"
          ]
        },
        {
          "output_type": "display_data",
          "data": {
            "text/plain": [
              "<IPython.core.display.HTML object>"
            ],
            "text/html": [
              "In <span style=\"color: white; background-color: green; font-weight: bold;\">package</span> tab <span style=\"color: black; background-color: yellow; font-weight: bold;\">Click</span> on Create Package <span style=\"color: white; background-color: blue; font-weight: bold;\">button</span>"
            ]
          },
          "metadata": {}
        },
        {
          "output_type": "stream",
          "name": "stdout",
          "text": [
            "\n",
            "[]\n"
          ]
        },
        {
          "output_type": "display_data",
          "data": {
            "text/plain": [
              "<IPython.core.display.HTML object>"
            ],
            "text/html": [
              "do not <span style=\"color: black; background-color: yellow; font-weight: bold;\">enter</span> all the <span style=\"color: white; background-color: blue; font-weight: bold;\">mandatory</span> <span style=\"color: white; background-color: blue; font-weight: bold;\">fields</span> <span style=\"color: white; background-color: blue; font-weight: bold;\">ex</span>  <span style=\"color: white; background-color: blue; font-weight: bold;\">package</span> description for <span style=\"color: white; background-color: blue; font-weight: bold;\">package</span> <span style=\"color: white; background-color: blue; font-weight: bold;\">creation</span> and <span style=\"color: black; background-color: yellow; font-weight: bold;\">click</span> on continue <span style=\"color: white; background-color: blue; font-weight: bold;\">button</span>"
            ]
          },
          "metadata": {}
        },
        {
          "output_type": "stream",
          "name": "stdout",
          "text": [
            "\n",
            "TestCase 29:\n",
            "[]\n"
          ]
        },
        {
          "output_type": "display_data",
          "data": {
            "text/plain": [
              "<IPython.core.display.HTML object>"
            ],
            "text/html": [
              "<span style=\"color: black; background-color: yellow; font-weight: bold;\">Login</span> into <span style=\"color: white; background-color: blue; font-weight: bold;\">ARX</span> with <span style=\"color: white; background-color: blue; font-weight: bold;\">Operational</span> <span style=\"color: white; background-color: blue; font-weight: bold;\">maker</span> <span style=\"color: white; background-color: blue; font-weight: bold;\">credential</span>"
            ]
          },
          "metadata": {}
        },
        {
          "output_type": "stream",
          "name": "stdout",
          "text": [
            "\n",
            "[]\n"
          ]
        },
        {
          "output_type": "display_data",
          "data": {
            "text/plain": [
              "<IPython.core.display.HTML object>"
            ],
            "text/html": [
              "<span style=\"color: black; background-color: yellow; font-weight: bold;\">Click</span> On <span style=\"color: white; background-color: blue; font-weight: bold;\">CIM</span>"
            ]
          },
          "metadata": {}
        },
        {
          "output_type": "stream",
          "name": "stdout",
          "text": [
            "\n",
            "['package', 'tab', 'screen', 'window']\n"
          ]
        },
        {
          "output_type": "display_data",
          "data": {
            "text/plain": [
              "<IPython.core.display.HTML object>"
            ],
            "text/html": [
              "In <span style=\"color: white; background-color: green; font-weight: bold;\">package</span> tab <span style=\"color: black; background-color: yellow; font-weight: bold;\">select</span> the <span style=\"color: white; background-color: green; font-weight: bold;\">package</span> which has to be <span style=\"color: black; background-color: yellow; font-weight: bold;\">duplicated</span>"
            ]
          },
          "metadata": {}
        },
        {
          "output_type": "stream",
          "name": "stdout",
          "text": [
            "\n",
            "[]\n"
          ]
        },
        {
          "output_type": "display_data",
          "data": {
            "text/plain": [
              "<IPython.core.display.HTML object>"
            ],
            "text/html": [
              "<span style=\"color: black; background-color: yellow; font-weight: bold;\">Click</span> on <span style=\"color: white; background-color: blue; font-weight: bold;\">duplicate</span> <span style=\"color: white; background-color: blue; font-weight: bold;\">option</span> for the <span style=\"color: white; background-color: blue; font-weight: bold;\">package</span> which is approved"
            ]
          },
          "metadata": {}
        },
        {
          "output_type": "stream",
          "name": "stdout",
          "text": [
            "\n",
            "[]\n"
          ]
        },
        {
          "output_type": "display_data",
          "data": {
            "text/plain": [
              "<IPython.core.display.HTML object>"
            ],
            "text/html": [
              "<span style=\"color: black; background-color: yellow; font-weight: bold;\">Enter</span> all the <span style=\"color: white; background-color: blue; font-weight: bold;\">mandatory</span> <span style=\"color: white; background-color: blue; font-weight: bold;\">fields</span> for <span style=\"color: white; background-color: blue; font-weight: bold;\">package</span> <span style=\"color: white; background-color: blue; font-weight: bold;\">creation</span> and <span style=\"color: black; background-color: yellow; font-weight: bold;\">click</span> on <span style=\"color: white; background-color: blue; font-weight: bold;\">submit</span> <span style=\"color: white; background-color: blue; font-weight: bold;\">button</span>"
            ]
          },
          "metadata": {}
        },
        {
          "output_type": "stream",
          "name": "stdout",
          "text": [
            "\n",
            "TestCase 30:\n",
            "[]\n"
          ]
        },
        {
          "output_type": "display_data",
          "data": {
            "text/plain": [
              "<IPython.core.display.HTML object>"
            ],
            "text/html": [
              "<span style=\"color: black; background-color: yellow; font-weight: bold;\">Login</span> into <span style=\"color: white; background-color: blue; font-weight: bold;\">ARX</span> with <span style=\"color: white; background-color: blue; font-weight: bold;\">Operational</span> <span style=\"color: white; background-color: blue; font-weight: bold;\">maker</span> <span style=\"color: white; background-color: blue; font-weight: bold;\">credential</span>"
            ]
          },
          "metadata": {}
        },
        {
          "output_type": "stream",
          "name": "stdout",
          "text": [
            "\n",
            "[]\n"
          ]
        },
        {
          "output_type": "display_data",
          "data": {
            "text/plain": [
              "<IPython.core.display.HTML object>"
            ],
            "text/html": [
              "<span style=\"color: black; background-color: yellow; font-weight: bold;\">Click</span> On <span style=\"color: white; background-color: blue; font-weight: bold;\">CIM</span>"
            ]
          },
          "metadata": {}
        },
        {
          "output_type": "stream",
          "name": "stdout",
          "text": [
            "\n",
            "['package', 'tab', 'screen', 'window']\n"
          ]
        },
        {
          "output_type": "display_data",
          "data": {
            "text/plain": [
              "<IPython.core.display.HTML object>"
            ],
            "text/html": [
              "In <span style=\"color: white; background-color: green; font-weight: bold;\">package</span> tab <span style=\"color: black; background-color: yellow; font-weight: bold;\">select</span> the <span style=\"color: white; background-color: green; font-weight: bold;\">package</span> which has to be <span style=\"color: black; background-color: yellow; font-weight: bold;\">duplicated</span>"
            ]
          },
          "metadata": {}
        },
        {
          "output_type": "stream",
          "name": "stdout",
          "text": [
            "\n",
            "[]\n"
          ]
        },
        {
          "output_type": "display_data",
          "data": {
            "text/plain": [
              "<IPython.core.display.HTML object>"
            ],
            "text/html": [
              "<span style=\"color: black; background-color: yellow; font-weight: bold;\">Click</span> on <span style=\"color: white; background-color: blue; font-weight: bold;\">duplicate</span> <span style=\"color: white; background-color: blue; font-weight: bold;\">option</span> for the <span style=\"color: white; background-color: blue; font-weight: bold;\">package</span> which is approved"
            ]
          },
          "metadata": {}
        },
        {
          "output_type": "stream",
          "name": "stdout",
          "text": [
            "\n",
            "TestCase 31:\n",
            "[]\n"
          ]
        },
        {
          "output_type": "display_data",
          "data": {
            "text/plain": [
              "<IPython.core.display.HTML object>"
            ],
            "text/html": [
              "<span style=\"color: black; background-color: yellow; font-weight: bold;\">Login</span> into <span style=\"color: white; background-color: blue; font-weight: bold;\">ARX</span> with <span style=\"color: white; background-color: blue; font-weight: bold;\">Operational</span> <span style=\"color: white; background-color: blue; font-weight: bold;\">maker</span> <span style=\"color: white; background-color: blue; font-weight: bold;\">credential</span>"
            ]
          },
          "metadata": {}
        },
        {
          "output_type": "stream",
          "name": "stdout",
          "text": [
            "\n",
            "[]\n"
          ]
        },
        {
          "output_type": "display_data",
          "data": {
            "text/plain": [
              "<IPython.core.display.HTML object>"
            ],
            "text/html": [
              "<span style=\"color: black; background-color: yellow; font-weight: bold;\">Click</span> On <span style=\"color: white; background-color: blue; font-weight: bold;\">CIM</span>"
            ]
          },
          "metadata": {}
        },
        {
          "output_type": "stream",
          "name": "stdout",
          "text": [
            "\n",
            "['package', 'tab', 'screen', 'window']\n",
            "edited\n"
          ]
        },
        {
          "output_type": "display_data",
          "data": {
            "text/plain": [
              "<IPython.core.display.HTML object>"
            ],
            "text/html": [
              "In <span style=\"color: white; background-color: green; font-weight: bold;\">package</span> tab <span style=\"color: black; background-color: yellow; font-weight: bold;\">select</span> the <span style=\"color: white; background-color: green; font-weight: bold;\">package</span> which is to be <span style=\"color: black; background-color: yellow; font-weight: bold;\">edited</span>"
            ]
          },
          "metadata": {}
        },
        {
          "output_type": "stream",
          "name": "stdout",
          "text": [
            "\n",
            "[]\n"
          ]
        },
        {
          "output_type": "display_data",
          "data": {
            "text/plain": [
              "<IPython.core.display.HTML object>"
            ],
            "text/html": [
              "<span style=\"color: black; background-color: yellow; font-weight: bold;\">Click</span> on continue <span style=\"color: white; background-color: blue; font-weight: bold;\">editing</span> <span style=\"color: white; background-color: blue; font-weight: bold;\">option</span> for the <span style=\"color: white; background-color: blue; font-weight: bold;\">package</span>"
            ]
          },
          "metadata": {}
        },
        {
          "output_type": "stream",
          "name": "stdout",
          "text": [
            "\n",
            "TestCase 32:\n",
            "[]\n"
          ]
        },
        {
          "output_type": "display_data",
          "data": {
            "text/plain": [
              "<IPython.core.display.HTML object>"
            ],
            "text/html": [
              "<span style=\"color: black; background-color: yellow; font-weight: bold;\">Login</span> into <span style=\"color: white; background-color: blue; font-weight: bold;\">ARX</span> with <span style=\"color: white; background-color: blue; font-weight: bold;\">Operational</span> <span style=\"color: white; background-color: blue; font-weight: bold;\">maker</span> <span style=\"color: white; background-color: blue; font-weight: bold;\">credential</span>"
            ]
          },
          "metadata": {}
        },
        {
          "output_type": "stream",
          "name": "stdout",
          "text": [
            "\n",
            "[]\n"
          ]
        },
        {
          "output_type": "display_data",
          "data": {
            "text/plain": [
              "<IPython.core.display.HTML object>"
            ],
            "text/html": [
              "<span style=\"color: black; background-color: yellow; font-weight: bold;\">Click</span> On <span style=\"color: white; background-color: blue; font-weight: bold;\">CIM</span>"
            ]
          },
          "metadata": {}
        },
        {
          "output_type": "stream",
          "name": "stdout",
          "text": [
            "\n",
            "['package', 'tab', 'screen', 'window']\n"
          ]
        },
        {
          "output_type": "display_data",
          "data": {
            "text/plain": [
              "<IPython.core.display.HTML object>"
            ],
            "text/html": [
              "In <span style=\"color: white; background-color: green; font-weight: bold;\">package</span> tab <span style=\"color: black; background-color: yellow; font-weight: bold;\">select</span> the <span style=\"color: white; background-color: green; font-weight: bold;\">package</span> which is to be <span style=\"color: black; background-color: yellow; font-weight: bold;\">edited</span>"
            ]
          },
          "metadata": {}
        },
        {
          "output_type": "stream",
          "name": "stdout",
          "text": [
            "\n",
            "[]\n"
          ]
        },
        {
          "output_type": "display_data",
          "data": {
            "text/plain": [
              "<IPython.core.display.HTML object>"
            ],
            "text/html": [
              "<span style=\"color: black; background-color: yellow; font-weight: bold;\">Click</span> on continue <span style=\"color: white; background-color: blue; font-weight: bold;\">editing</span> <span style=\"color: white; background-color: blue; font-weight: bold;\">option</span> for the <span style=\"color: white; background-color: blue; font-weight: bold;\">package</span>"
            ]
          },
          "metadata": {}
        },
        {
          "output_type": "stream",
          "name": "stdout",
          "text": [
            "\n",
            "[]\n"
          ]
        },
        {
          "output_type": "display_data",
          "data": {
            "text/plain": [
              "<IPython.core.display.HTML object>"
            ],
            "text/html": [
              "<span style=\"color: black; background-color: yellow; font-weight: bold;\">Continue</span> for <span style=\"color: white; background-color: blue; font-weight: bold;\">package</span> <span style=\"color: white; background-color: blue; font-weight: bold;\">creation</span> without the <span style=\"color: white; background-color: blue; font-weight: bold;\">mandatory</span> <span style=\"color: white; background-color: blue; font-weight: bold;\">fields</span>"
            ]
          },
          "metadata": {}
        },
        {
          "output_type": "stream",
          "name": "stdout",
          "text": [
            "\n",
            "TestCase 33:\n",
            "[]\n"
          ]
        },
        {
          "output_type": "display_data",
          "data": {
            "text/plain": [
              "<IPython.core.display.HTML object>"
            ],
            "text/html": [
              "<span style=\"color: black; background-color: yellow; font-weight: bold;\">Verify</span> the Automation black box <span style=\"color: white; background-color: blue; font-weight: bold;\">unit</span> <span style=\"color: white; background-color: blue; font-weight: bold;\">test</span> <span style=\"color: white; background-color: blue; font-weight: bold;\">cases</span> for all the <span style=\"color: white; background-color: blue; font-weight: bold;\">fields</span> in the <span style=\"color: white; background-color: blue; font-weight: bold;\">package</span> <span style=\"color: white; background-color: blue; font-weight: bold;\">creation</span> <span style=\"color: white; background-color: blue; font-weight: bold;\">screen</span>"
            ]
          },
          "metadata": {}
        },
        {
          "output_type": "stream",
          "name": "stdout",
          "text": [
            "\n",
            "TestCase 34:\n",
            "[]\n"
          ]
        },
        {
          "output_type": "display_data",
          "data": {
            "text/plain": [
              "<IPython.core.display.HTML object>"
            ],
            "text/html": [
              "<span style=\"color: black; background-color: yellow; font-weight: bold;\">Login</span> into <span style=\"color: white; background-color: blue; font-weight: bold;\">ARX</span> with <span style=\"color: white; background-color: blue; font-weight: bold;\">Operational</span> <span style=\"color: white; background-color: blue; font-weight: bold;\">maker</span> <span style=\"color: white; background-color: blue; font-weight: bold;\">credential</span>"
            ]
          },
          "metadata": {}
        },
        {
          "output_type": "stream",
          "name": "stdout",
          "text": [
            "\n",
            "[]\n"
          ]
        },
        {
          "output_type": "display_data",
          "data": {
            "text/plain": [
              "<IPython.core.display.HTML object>"
            ],
            "text/html": [
              "<span style=\"color: black; background-color: yellow; font-weight: bold;\">Click</span> On <span style=\"color: white; background-color: blue; font-weight: bold;\">CIM</span>"
            ]
          },
          "metadata": {}
        },
        {
          "output_type": "stream",
          "name": "stdout",
          "text": [
            "\n",
            "['package', 'tab', 'screen', 'window']\n"
          ]
        },
        {
          "output_type": "display_data",
          "data": {
            "text/plain": [
              "<IPython.core.display.HTML object>"
            ],
            "text/html": [
              "In <span style=\"color: white; background-color: green; font-weight: bold;\">package</span> tab <span style=\"color: black; background-color: yellow; font-weight: bold;\">Click</span> on Create Package <span style=\"color: white; background-color: blue; font-weight: bold;\">button</span>"
            ]
          },
          "metadata": {}
        },
        {
          "output_type": "stream",
          "name": "stdout",
          "text": [
            "\n",
            "[]\n"
          ]
        },
        {
          "output_type": "display_data",
          "data": {
            "text/plain": [
              "<IPython.core.display.HTML object>"
            ],
            "text/html": [
              "In <span style=\"color: white; background-color: blue; font-weight: bold;\">package</span> <span style=\"color: white; background-color: blue; font-weight: bold;\">name</span> <span style=\"color: white; background-color: blue; font-weight: bold;\">field</span> <span style=\"color: black; background-color: yellow; font-weight: bold;\">enter</span> the existing <span style=\"color: white; background-color: blue; font-weight: bold;\">package</span> <span style=\"color: white; background-color: blue; font-weight: bold;\">name</span> which is authorized"
            ]
          },
          "metadata": {}
        },
        {
          "output_type": "stream",
          "name": "stdout",
          "text": [
            "\n",
            "TestCase 35:\n",
            "[]\n"
          ]
        },
        {
          "output_type": "display_data",
          "data": {
            "text/plain": [
              "<IPython.core.display.HTML object>"
            ],
            "text/html": [
              "<span style=\"color: black; background-color: yellow; font-weight: bold;\">Login</span> into <span style=\"color: white; background-color: blue; font-weight: bold;\">ARX</span> with <span style=\"color: white; background-color: blue; font-weight: bold;\">Operational</span> <span style=\"color: white; background-color: blue; font-weight: bold;\">maker</span> <span style=\"color: white; background-color: blue; font-weight: bold;\">credential</span>"
            ]
          },
          "metadata": {}
        },
        {
          "output_type": "stream",
          "name": "stdout",
          "text": [
            "\n",
            "[]\n"
          ]
        },
        {
          "output_type": "display_data",
          "data": {
            "text/plain": [
              "<IPython.core.display.HTML object>"
            ],
            "text/html": [
              "<span style=\"color: black; background-color: yellow; font-weight: bold;\">Click</span> On <span style=\"color: white; background-color: blue; font-weight: bold;\">CIM</span>"
            ]
          },
          "metadata": {}
        },
        {
          "output_type": "stream",
          "name": "stdout",
          "text": [
            "\n",
            "['package', 'tab', 'screen', 'window']\n"
          ]
        },
        {
          "output_type": "display_data",
          "data": {
            "text/plain": [
              "<IPython.core.display.HTML object>"
            ],
            "text/html": [
              "In <span style=\"color: white; background-color: green; font-weight: bold;\">package</span> tab <span style=\"color: black; background-color: yellow; font-weight: bold;\">Click</span> on Create Package <span style=\"color: white; background-color: blue; font-weight: bold;\">button</span>"
            ]
          },
          "metadata": {}
        },
        {
          "output_type": "stream",
          "name": "stdout",
          "text": [
            "\n",
            "[]\n"
          ]
        },
        {
          "output_type": "display_data",
          "data": {
            "text/plain": [
              "<IPython.core.display.HTML object>"
            ],
            "text/html": [
              "In <span style=\"color: white; background-color: blue; font-weight: bold;\">package</span> <span style=\"color: white; background-color: blue; font-weight: bold;\">name</span> <span style=\"color: white; background-color: blue; font-weight: bold;\">field</span> <span style=\"color: black; background-color: yellow; font-weight: bold;\">enter</span> the existing <span style=\"color: white; background-color: blue; font-weight: bold;\">package</span> <span style=\"color: white; background-color: blue; font-weight: bold;\">name</span> which is in <span style=\"color: white; background-color: blue; font-weight: bold;\">draft</span>"
            ]
          },
          "metadata": {}
        },
        {
          "output_type": "stream",
          "name": "stdout",
          "text": [
            "\n",
            "TestCase 36:\n",
            "[]\n"
          ]
        },
        {
          "output_type": "display_data",
          "data": {
            "text/plain": [
              "<IPython.core.display.HTML object>"
            ],
            "text/html": [
              "<span style=\"color: black; background-color: yellow; font-weight: bold;\">Login</span> into <span style=\"color: white; background-color: blue; font-weight: bold;\">ARX</span> with <span style=\"color: white; background-color: blue; font-weight: bold;\">Operational</span> <span style=\"color: white; background-color: blue; font-weight: bold;\">maker</span> <span style=\"color: white; background-color: blue; font-weight: bold;\">credential</span>"
            ]
          },
          "metadata": {}
        },
        {
          "output_type": "stream",
          "name": "stdout",
          "text": [
            "\n",
            "[]\n"
          ]
        },
        {
          "output_type": "display_data",
          "data": {
            "text/plain": [
              "<IPython.core.display.HTML object>"
            ],
            "text/html": [
              "<span style=\"color: black; background-color: yellow; font-weight: bold;\">Click</span> On <span style=\"color: white; background-color: blue; font-weight: bold;\">CIM</span>"
            ]
          },
          "metadata": {}
        },
        {
          "output_type": "stream",
          "name": "stdout",
          "text": [
            "\n",
            "['package', 'tab', 'screen', 'window']\n"
          ]
        },
        {
          "output_type": "display_data",
          "data": {
            "text/plain": [
              "<IPython.core.display.HTML object>"
            ],
            "text/html": [
              "In <span style=\"color: white; background-color: green; font-weight: bold;\">package</span> tab <span style=\"color: black; background-color: yellow; font-weight: bold;\">Click</span> on Create Package <span style=\"color: white; background-color: blue; font-weight: bold;\">button</span>"
            ]
          },
          "metadata": {}
        },
        {
          "output_type": "stream",
          "name": "stdout",
          "text": [
            "\n",
            "[]\n"
          ]
        },
        {
          "output_type": "display_data",
          "data": {
            "text/plain": [
              "<IPython.core.display.HTML object>"
            ],
            "text/html": [
              "In <span style=\"color: white; background-color: blue; font-weight: bold;\">package</span> <span style=\"color: white; background-color: blue; font-weight: bold;\">name</span> <span style=\"color: white; background-color: blue; font-weight: bold;\">field</span> <span style=\"color: black; background-color: yellow; font-weight: bold;\">enter</span> the existing <span style=\"color: white; background-color: blue; font-weight: bold;\">package</span> <span style=\"color: white; background-color: blue; font-weight: bold;\">name</span> which is rejected"
            ]
          },
          "metadata": {}
        },
        {
          "output_type": "stream",
          "name": "stdout",
          "text": [
            "\n",
            "TestCase 37:\n",
            "[]\n"
          ]
        },
        {
          "output_type": "display_data",
          "data": {
            "text/plain": [
              "<IPython.core.display.HTML object>"
            ],
            "text/html": [
              "<span style=\"color: black; background-color: yellow; font-weight: bold;\">Login</span> into <span style=\"color: white; background-color: blue; font-weight: bold;\">ARX</span> with <span style=\"color: white; background-color: blue; font-weight: bold;\">Operational</span> <span style=\"color: white; background-color: blue; font-weight: bold;\">maker</span> <span style=\"color: white; background-color: blue; font-weight: bold;\">credential</span>"
            ]
          },
          "metadata": {}
        },
        {
          "output_type": "stream",
          "name": "stdout",
          "text": [
            "\n",
            "[]\n"
          ]
        },
        {
          "output_type": "display_data",
          "data": {
            "text/plain": [
              "<IPython.core.display.HTML object>"
            ],
            "text/html": [
              "<span style=\"color: black; background-color: yellow; font-weight: bold;\">Click</span> On <span style=\"color: white; background-color: blue; font-weight: bold;\">CIM</span>"
            ]
          },
          "metadata": {}
        },
        {
          "output_type": "stream",
          "name": "stdout",
          "text": [
            "\n",
            "['package', 'tab', 'screen', 'window']\n"
          ]
        },
        {
          "output_type": "display_data",
          "data": {
            "text/plain": [
              "<IPython.core.display.HTML object>"
            ],
            "text/html": [
              "In <span style=\"color: white; background-color: green; font-weight: bold;\">package</span> tab <span style=\"color: black; background-color: yellow; font-weight: bold;\">Click</span> on Create Package <span style=\"color: white; background-color: blue; font-weight: bold;\">button</span>"
            ]
          },
          "metadata": {}
        },
        {
          "output_type": "stream",
          "name": "stdout",
          "text": [
            "\n",
            "[]\n",
            "pending\n"
          ]
        },
        {
          "output_type": "display_data",
          "data": {
            "text/plain": [
              "<IPython.core.display.HTML object>"
            ],
            "text/html": [
              "In <span style=\"color: white; background-color: blue; font-weight: bold;\">package</span> <span style=\"color: white; background-color: blue; font-weight: bold;\">name</span> <span style=\"color: white; background-color: blue; font-weight: bold;\">field</span> <span style=\"color: black; background-color: yellow; font-weight: bold;\">enter</span> the existing <span style=\"color: white; background-color: blue; font-weight: bold;\">package</span> <span style=\"color: white; background-color: blue; font-weight: bold;\">name</span> which is in <span style=\"color: black; background-color: yellow; font-weight: bold;\">pending</span> for <span style=\"color: white; background-color: blue; font-weight: bold;\">authorization</span>"
            ]
          },
          "metadata": {}
        },
        {
          "output_type": "stream",
          "name": "stdout",
          "text": [
            "\n",
            "TestCase 38:\n",
            "[]\n"
          ]
        },
        {
          "output_type": "display_data",
          "data": {
            "text/plain": [
              "<IPython.core.display.HTML object>"
            ],
            "text/html": [
              "<span style=\"color: black; background-color: yellow; font-weight: bold;\">Login</span> into <span style=\"color: white; background-color: blue; font-weight: bold;\">ARX</span> with <span style=\"color: white; background-color: blue; font-weight: bold;\">Operational</span> <span style=\"color: white; background-color: blue; font-weight: bold;\">maker</span> <span style=\"color: white; background-color: blue; font-weight: bold;\">credential</span>"
            ]
          },
          "metadata": {}
        },
        {
          "output_type": "stream",
          "name": "stdout",
          "text": [
            "\n",
            "[]\n"
          ]
        },
        {
          "output_type": "display_data",
          "data": {
            "text/plain": [
              "<IPython.core.display.HTML object>"
            ],
            "text/html": [
              "<span style=\"color: black; background-color: yellow; font-weight: bold;\">Click</span> On <span style=\"color: white; background-color: blue; font-weight: bold;\">CIM</span>"
            ]
          },
          "metadata": {}
        },
        {
          "output_type": "stream",
          "name": "stdout",
          "text": [
            "\n",
            "['package', 'tab', 'screen', 'window']\n"
          ]
        },
        {
          "output_type": "display_data",
          "data": {
            "text/plain": [
              "<IPython.core.display.HTML object>"
            ],
            "text/html": [
              "In <span style=\"color: white; background-color: green; font-weight: bold;\">package</span> tab <span style=\"color: black; background-color: yellow; font-weight: bold;\">select</span> the <span style=\"color: white; background-color: green; font-weight: bold;\">package</span> which is to be <span style=\"color: black; background-color: yellow; font-weight: bold;\">duplicated</span>"
            ]
          },
          "metadata": {}
        },
        {
          "output_type": "stream",
          "name": "stdout",
          "text": [
            "\n",
            "[]\n"
          ]
        },
        {
          "output_type": "display_data",
          "data": {
            "text/plain": [
              "<IPython.core.display.HTML object>"
            ],
            "text/html": [
              "In <span style=\"color: white; background-color: blue; font-weight: bold;\">package</span> <span style=\"color: white; background-color: blue; font-weight: bold;\">name</span> <span style=\"color: white; background-color: blue; font-weight: bold;\">field</span> <span style=\"color: black; background-color: yellow; font-weight: bold;\">enter</span> the existing <span style=\"color: white; background-color: blue; font-weight: bold;\">package</span> <span style=\"color: white; background-color: blue; font-weight: bold;\">name</span> which is authorized"
            ]
          },
          "metadata": {}
        },
        {
          "output_type": "stream",
          "name": "stdout",
          "text": [
            "\n",
            "TestCase 39:\n",
            "[]\n"
          ]
        },
        {
          "output_type": "display_data",
          "data": {
            "text/plain": [
              "<IPython.core.display.HTML object>"
            ],
            "text/html": [
              "<span style=\"color: black; background-color: yellow; font-weight: bold;\">Login</span> into <span style=\"color: white; background-color: blue; font-weight: bold;\">ARX</span> with <span style=\"color: white; background-color: blue; font-weight: bold;\">Operational</span> <span style=\"color: white; background-color: blue; font-weight: bold;\">maker</span> <span style=\"color: white; background-color: blue; font-weight: bold;\">credential</span>"
            ]
          },
          "metadata": {}
        },
        {
          "output_type": "stream",
          "name": "stdout",
          "text": [
            "\n",
            "[]\n"
          ]
        },
        {
          "output_type": "display_data",
          "data": {
            "text/plain": [
              "<IPython.core.display.HTML object>"
            ],
            "text/html": [
              "<span style=\"color: black; background-color: yellow; font-weight: bold;\">Click</span> On <span style=\"color: white; background-color: blue; font-weight: bold;\">CIM</span>"
            ]
          },
          "metadata": {}
        },
        {
          "output_type": "stream",
          "name": "stdout",
          "text": [
            "\n",
            "['package', 'tab', 'screen', 'window']\n"
          ]
        },
        {
          "output_type": "display_data",
          "data": {
            "text/plain": [
              "<IPython.core.display.HTML object>"
            ],
            "text/html": [
              "In <span style=\"color: white; background-color: green; font-weight: bold;\">package</span> tab <span style=\"color: black; background-color: yellow; font-weight: bold;\">select</span> the <span style=\"color: white; background-color: green; font-weight: bold;\">package</span> which is to be <span style=\"color: black; background-color: yellow; font-weight: bold;\">duplicated</span>"
            ]
          },
          "metadata": {}
        },
        {
          "output_type": "stream",
          "name": "stdout",
          "text": [
            "\n",
            "[]\n"
          ]
        },
        {
          "output_type": "display_data",
          "data": {
            "text/plain": [
              "<IPython.core.display.HTML object>"
            ],
            "text/html": [
              "In <span style=\"color: white; background-color: blue; font-weight: bold;\">package</span> <span style=\"color: white; background-color: blue; font-weight: bold;\">name</span> <span style=\"color: white; background-color: blue; font-weight: bold;\">field</span> <span style=\"color: black; background-color: yellow; font-weight: bold;\">enter</span> the existing <span style=\"color: white; background-color: blue; font-weight: bold;\">package</span> <span style=\"color: white; background-color: blue; font-weight: bold;\">name</span> which is in <span style=\"color: white; background-color: blue; font-weight: bold;\">draft</span>"
            ]
          },
          "metadata": {}
        },
        {
          "output_type": "stream",
          "name": "stdout",
          "text": [
            "\n",
            "TestCase 40:\n",
            "[]\n"
          ]
        },
        {
          "output_type": "display_data",
          "data": {
            "text/plain": [
              "<IPython.core.display.HTML object>"
            ],
            "text/html": [
              "<span style=\"color: black; background-color: yellow; font-weight: bold;\">Login</span> into <span style=\"color: white; background-color: blue; font-weight: bold;\">ARX</span> with <span style=\"color: white; background-color: blue; font-weight: bold;\">Operational</span> <span style=\"color: white; background-color: blue; font-weight: bold;\">maker</span> <span style=\"color: white; background-color: blue; font-weight: bold;\">credential</span>"
            ]
          },
          "metadata": {}
        },
        {
          "output_type": "stream",
          "name": "stdout",
          "text": [
            "\n",
            "[]\n"
          ]
        },
        {
          "output_type": "display_data",
          "data": {
            "text/plain": [
              "<IPython.core.display.HTML object>"
            ],
            "text/html": [
              "<span style=\"color: black; background-color: yellow; font-weight: bold;\">Click</span> On <span style=\"color: white; background-color: blue; font-weight: bold;\">CIM</span>"
            ]
          },
          "metadata": {}
        },
        {
          "output_type": "stream",
          "name": "stdout",
          "text": [
            "\n",
            "['package', 'tab', 'screen', 'window']\n"
          ]
        },
        {
          "output_type": "display_data",
          "data": {
            "text/plain": [
              "<IPython.core.display.HTML object>"
            ],
            "text/html": [
              "In <span style=\"color: white; background-color: green; font-weight: bold;\">package</span> tab <span style=\"color: black; background-color: yellow; font-weight: bold;\">select</span> the <span style=\"color: white; background-color: green; font-weight: bold;\">package</span> which is to be <span style=\"color: black; background-color: yellow; font-weight: bold;\">duplicated</span>"
            ]
          },
          "metadata": {}
        },
        {
          "output_type": "stream",
          "name": "stdout",
          "text": [
            "\n",
            "[]\n"
          ]
        },
        {
          "output_type": "display_data",
          "data": {
            "text/plain": [
              "<IPython.core.display.HTML object>"
            ],
            "text/html": [
              "In <span style=\"color: white; background-color: blue; font-weight: bold;\">package</span> <span style=\"color: white; background-color: blue; font-weight: bold;\">name</span> <span style=\"color: white; background-color: blue; font-weight: bold;\">field</span> <span style=\"color: black; background-color: yellow; font-weight: bold;\">enter</span> the existing <span style=\"color: white; background-color: blue; font-weight: bold;\">package</span> <span style=\"color: white; background-color: blue; font-weight: bold;\">name</span> which is in <span style=\"color: white; background-color: blue; font-weight: bold;\">rejected</span>"
            ]
          },
          "metadata": {}
        },
        {
          "output_type": "stream",
          "name": "stdout",
          "text": [
            "\n"
          ]
        }
      ]
    }
  ]
}