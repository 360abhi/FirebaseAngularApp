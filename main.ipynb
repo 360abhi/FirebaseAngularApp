{
  "nbformat": 4,
  "nbformat_minor": 0,
  "metadata": {
    "colab": {
      "provenance": [],
      "authorship_tag": "ABX9TyOoLyBg+IB7an85gT2aAoW3",
      "include_colab_link": true
    },
    "kernelspec": {
      "name": "python3",
      "display_name": "Python 3"
    },
    "language_info": {
      "name": "python"
    }
  },
  "cells": [
    {
      "cell_type": "markdown",
      "metadata": {
        "id": "view-in-github",
        "colab_type": "text"
      },
      "source": [
        "<a href=\"https://colab.research.google.com/github/360abhi/FirebaseAngularApp/blob/main/main.ipynb\" target=\"_parent\"><img src=\"https://colab.research.google.com/assets/colab-badge.svg\" alt=\"Open In Colab\"/></a>"
      ]
    },
    {
      "cell_type": "code",
      "execution_count": null,
      "metadata": {
        "colab": {
          "base_uri": "https://localhost:8080/"
        },
        "id": "QaMVEC2meAZD",
        "outputId": "7d697c46-3c7d-45ae-ffcc-fb9060eddcbe"
      },
      "outputs": [
        {
          "output_type": "stream",
          "name": "stdout",
          "text": [
            "Token:  , Dependency: dep, Head: see, POS: SPACE, Children: []\n",
            "Token: see, Dependency: ROOT, Head: see, POS: VERB, Children: [' ', 'products', 'as']\n",
            "Token: all, Dependency: det, Head: products, POS: DET, Children: []\n",
            "Token: products, Dependency: dobj, Head: see, POS: NOUN, Children: ['all']\n",
            "Token: as, Dependency: prep, Head: see, POS: ADP, Children: ['per']\n",
            "Token: per, Dependency: prep, Head: as, POS: ADP, Children: ['entitlement']\n",
            "Token: entitlement, Dependency: pobj, Head: per, POS: NOUN, Children: []\n"
          ]
        }
      ],
      "source": [
        "import spacy\n",
        "\n",
        "nlp = spacy.load(\"en_core_web_sm\")\n",
        "\n",
        "sentence = \" see all products as per entitlement\"\n",
        "doc = nlp(sentence)\n",
        "\n",
        "\n",
        "for token in doc:\n",
        "\n",
        "    print(f\"Token: {token.text}, Dependency: {token.dep_}, Head: {token.head.text}, POS: {token.pos_}, Children: {[child.text for child in token.children]}\")"
      ]
    }
  ]
}